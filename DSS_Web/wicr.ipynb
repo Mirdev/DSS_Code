{
 "cells": [
  {
   "cell_type": "code",
   "execution_count": 129,
   "metadata": {},
   "outputs": [
    {
     "data": {
      "text/plain": [
       "True"
      ]
     },
     "execution_count": 129,
     "metadata": {},
     "output_type": "execute_result"
    }
   ],
   "source": [
    "import requests\n",
    "import webbrowser\n",
    "from bs4 import BeautifulSoup\n",
    "\n",
    "def wiki(keyword):\n",
    "    txt = \"<b>Wikipedia --- </b> <a href='http://en.wikipedia.org/wiki/\" + keyword + \"'>read more</a>\\\n",
    "            <div style=padding-left:2cm><br>\\\n",
    "            <b> Abstract </b>\"\n",
    "    res = requests.get('http://en.wikipedia.org/wiki/'+keyword)\n",
    "    soup = BeautifulSoup(res.content, 'html.parser')\n",
    "    body = soup.findAll(\"div\", { \"class\" : \"mw-parser-output\" })\n",
    "    abst = body[0].findAll(\"p\")\n",
    "    for p in abst:\n",
    "        if not len(p):\n",
    "            break\n",
    "        txt+=str(p)\n",
    "    txt += \"</div>\"\n",
    "    return txt\n",
    "        \n",
    "def g_image(keyword):\n",
    "    txt = \"<b>Google image --- </b> <a href='https://www.google.co.kr/search?q=\" + keyword + \"&tbm=isch'>\\\n",
    "            see more</a><table>\"\n",
    "    res = requests.get('https://www.google.co.kr/search?q='+keyword+'&tbm=isch')\n",
    "    soup = BeautifulSoup(res.content, 'html.parser')\n",
    "    body = soup.findAll(\"div\", { \"id\" : \"ires\" })\n",
    "    table = body[0].findAll(\"table\")\n",
    "    tds = table[0].findAll(\"td\")\n",
    "    cnt = 0\n",
    "    for td in tds:\n",
    "        a = td.find(\"a\")\n",
    "        href = a.get(\"href\")\n",
    "        href = href[7:]\n",
    "        exd_href = \"\"\n",
    "        for i in range(len(href)):\n",
    "            if href[i]==\"&\" : break\n",
    "            exd_href += href[i]\n",
    "        src = a.find('img')['src']\n",
    "        height = a.find('img')['height']\n",
    "        width = a.find('img')['width']\n",
    "        cite = td.find(\"cite\")\n",
    "        pure_text = td.findAll(text=True)\n",
    "        pure_text = pure_text[1:]\n",
    "        \n",
    "        for i in range(len(pure_text)):\n",
    "            if pure_text[i].lower() in keyword.lower():\n",
    "                pure_text[i] = \"<b>\"+pure_text[i]+\"</b>\"\n",
    "        pure_text.insert(-1, \"<br>\")\n",
    "        string = ''.join(pure_text)\n",
    "        if not cnt % 5:\n",
    "            txt += \"<tr align=center>\"\n",
    "        cnt+=1\n",
    "        #print(\"<a href='\" + exd_href + \"'><img height='\" + height + \"' width='\" + width + \"' src='\" + src + \"'></a><br>\" + str(cite) + \"<br>\" + string)\n",
    "        txt += \"<td><a href='\" + exd_href + \"'><img height='\" + height + \"' width='\" + width + \"' src='\" + src + \"'></a><br>\" + str(cite) + \"<br>\" + string + \"</td>\"\n",
    "        if not cnt % 5:\n",
    "            txt += \"</tr>\"\n",
    "    return txt\n",
    "\n",
    "key = \"data science\"\n",
    "\n",
    "f = open(\"//Users/ray/Desktop/DSS/DSS_Code/DSS_Web/result.html\", \"w\")\n",
    "f.write(\"<html>\\\n",
    "            <head>\\\n",
    "                <title>Search!</title>\\\n",
    "                <meta charset='utf-8'>\\\n",
    "            </head>\\\n",
    "            <body>\\\n",
    "                <base href = 'http://en.wikipedia.org/' target='_blank'>\\\n",
    "                <center>\\\n",
    "                <h1>\" + key + \"</h1></center>\")\n",
    "f.write(wiki(key))\n",
    "f.write(g_image(key))\n",
    "f.write(\"</body></html>\")\n",
    "f.close()\n",
    "\n",
    "webbrowser.open(\"file:///Users/ray/Desktop/DSS/DSS_Code/DSS_Web/result.html\",new=2)"
   ]
  }
 ],
 "metadata": {
  "kernelspec": {
   "display_name": "Python 3",
   "language": "python",
   "name": "python3"
  },
  "language_info": {
   "codemirror_mode": {
    "name": "ipython",
    "version": 3
   },
   "file_extension": ".py",
   "mimetype": "text/x-python",
   "name": "python",
   "nbconvert_exporter": "python",
   "pygments_lexer": "ipython3",
   "version": "3.6.1"
  }
 },
 "nbformat": 4,
 "nbformat_minor": 2
}

{
 "cells": [
  {
   "cell_type": "code",
   "execution_count": 62,
   "metadata": {},
   "outputs": [
    {
     "name": "stdout",
     "output_type": "stream",
     "text": [
      "<a href='https://en.wikipedia.org/wiki/Scramjet'><img height='61' width='150' src='https://encrypted-tbn0.gstatic.com/images?q=tbn:ANd9GcQFSwlq_TWYF_Xz17lLtcyGlSN-VhYahwNPtUz2U0wAbBViUDPrUAUwyFI'></a><br><cite title=\"en.wikipedia.org\">en.wikipedia.org</cite><br>Scramjet - Wikipedia<br>1200 * 490 - 61k - png\n",
      "<a href='https://en.wikipedia.org/wiki/Scramjet'><img height='113' width='92' src='https://encrypted-tbn0.gstatic.com/images?q=tbn:ANd9GcTc_RMvn8vGLDmz-xo-BxMivMtd_mp_psUswba97cG_DPWuWDLyI9bNQQ'></a><br><cite title=\"en.wikipedia.org\">en.wikipedia.org</cite><br>Scramjet - Wikipedia<br>220 * 269 - 39k - png\n",
      "<a href='https://en.wikipedia.org/wiki/Scramjet'><img height='86' width='124' src='https://encrypted-tbn0.gstatic.com/images?q=tbn:ANd9GcQkc2E8yqlJfj4PNrrHJp6ZgBzjGa5fEj4ipQWbRk-1xLbop1exG_GuWg'></a><br><cite title=\"en.wikipedia.org\">en.wikipedia.org</cite><br>Scramjet - Wikipedia<br>400 * 278 - 55k - png\n",
      "<a href='http://spaceflight101.com/india-tests-hypersonic-scramjet-for-future-application-in-rocketry/'><img height='101' width='140' src='https://encrypted-tbn0.gstatic.com/images?q=tbn:ANd9GcQZS9NaluOHVUUlSfaAhs2awsKgIOVrbyzzAjRXbqYVtqzZdQpDVg-WNxpc'></a><br><cite title=\"spaceflight101.com\">spaceflight101.com</cite><br>India tests Hypersonic Scramjet Engine for Future Application in ...<br>720 * 521 - 117k - jpg\n",
      "<a href='https://en.wikipedia.org/wiki/Scramjet'><img height='86' width='107' src='https://encrypted-tbn0.gstatic.com/images?q=tbn:ANd9GcQVC7k_AX00hND973TBWNzHmdnN3jOsPDArj1hrHJ_EunZzFQSAxzxhVeE'></a><br><cite title=\"en.wikipedia.org\">en.wikipedia.org</cite><br>Scramjet - Wikipedia<br>220 * 176 - 7k - jpg\n",
      "<a href='http://www.clearias.com/scramjet-engine/'><img height='118' width='138' src='https://encrypted-tbn0.gstatic.com/images?q=tbn:ANd9GcT1Nfh6slBbLPQ4s9cBIubfXhsoFD86XM0WigZ7CrOaEZ8aP3ko1ZnDCls'></a><br><cite title=\"clearias.com\">clearias.com</cite><br>Scramjet Engine: Why in News Headlines Now? - Clear IAS<br>666 * 571 - 114k - png\n",
      "<a href='https://www.grc.nasa.gov/www/k-12/airplane/scramjet.html'><img height='105' width='140' src='https://encrypted-tbn0.gstatic.com/images?q=tbn:ANd9GcSEx4_-I6Q1KfuipfD_TFsFGQtu6LVVxKPiKHs9MirSYnRCO2OInPZozgQT'></a><br><cite title=\"grc.nasa.gov\">grc.nasa.gov</cite><br>scramjet.gif<br>708 * 531 - 82k - gif\n",
      "<a href='https://www.nasa.gov/centers/langley/news/factsheets/X43A_2006_5.html'><img height='61' width='133' src='https://encrypted-tbn0.gstatic.com/images?q=tbn:ANd9GcTUYDTE6DIKowZgIyciTskLZoz5Ztz7WcDQtagLzWjseNU9YT0ov5nSYcfD'></a><br><cite title=\"nasa.gov\">nasa.gov</cite><br>NASA - How Scramjets Work<br>550 * 252 - 18k - gif\n",
      "<a href='http://www.isro.gov.in/launchers/isro%25E2%2580%2599s-scramjet-engine-technology-demonstrator-successfully-flight-tested'><img height='74' width='129' src='https://encrypted-tbn0.gstatic.com/images?q=tbn:ANd9GcTCwSRLUTIU79U_ASHr1J3uYwX522K1gXXs_X26jIlrKaLUqahONRrk8Ak'></a><br><cite title=\"isro.gov.in\">isro.gov.in</cite><br>ISRO's Scramjet Engine Technology Demonstrator Successfully Flight ...<br>480 * 275 - 30k - jpg\n",
      "<a href='https://www.youtube.com/watch%3Fv%3Dlm_P78tv-Js'><img height='84' width='150' src='https://encrypted-tbn0.gstatic.com/images?q=tbn:ANd9GcQjDKFeQLm0ffqbj3Jqo3rdFRA_9hqUgUNmQ9grhd0LIAGpe6ssCkAgyoU'></a><br><cite title=\"youtube.com\">youtube.com</cite><br>Scramjet - YouTube<br>1280 * 720 - 50k - jpg\n",
      "<a href='http://forumias.com/portal/mains-2016-scramjet-engine/'><img height='64' width='127' src='https://encrypted-tbn0.gstatic.com/images?q=tbn:ANd9GcTR3meRwGu7rrJHHx0F9Hy5KQ7jMAzSoDUpbgxasIr0LRBcZPL7XZhYVg'></a><br><cite title=\"forumias.com\">forumias.com</cite><br>Mains 2016 : Scramjet Engine<br>450 * 225 - 27k - jpg\n",
      "<a href='https://www.space.com/20967-air-force-x-51a-hypersonic-scramjet.html'><img height='79' width='138' src='https://encrypted-tbn0.gstatic.com/images?q=tbn:ANd9GcT62wIz1FzcWFEyL7WhJ6D7r_xbxclxR0evG-EOiwcGUVISImNC9pM4yHRi'></a><br><cite title=\"space.com\">space.com</cite><br>Force's X-51A Hypersonic Scramjet Makes Record-Breaking Final Flight<br>660 * 380 - 12k\n",
      "<a href='https://www.slideshare.net/virendragupta20/scramjet-engine'><img height='77' width='137' src='https://encrypted-tbn0.gstatic.com/images?q=tbn:ANd9GcRHcCpXINRWUFqLXf48jCdGFPwt_D4XNCZXtgnDHLOVdj9sui3R1-N34eH5'></a><br><cite title=\"slideshare.net\">slideshare.net</cite><br>Scramjet engine<br>638 * 359 - 32k - jpg\n",
      "<a href='https://en.wikipedia.org/wiki/Hy-V'><img height='68' width='127' src='https://encrypted-tbn0.gstatic.com/images?q=tbn:ANd9GcQvmIAD9LpDqL8C8WQoA2AOfXsNUNgaI8ppz0cPIQENQ_Er6Fq5G1qFLXM'></a><br><cite title=\"en.wikipedia.org\">en.wikipedia.org</cite><br>Hy-V - Wikipedia<br>450 * 242 - 28k - jpg\n",
      "<a href='https://www.extremetech.com/extreme/170463-lockheed-unveils-sr-72-hypersonic-mach-6-scramjet-spy-plane'><img height='106' width='150' src='https://encrypted-tbn0.gstatic.com/images?q=tbn:ANd9GcQ5EbWJ5q5wrYYNO4NRkdOkpZC75Oj_Hqg5Ew_fnup8sXZV5QxlsAYSUspS'></a><br><cite title=\"extremetech.com\">extremetech.com</cite><br>Lockheed unveils SR-72 hypersonic Mach 6 scramjet spy plane ...<br>2048 * 1448 - 226k - jpg\n",
      "<a href='https://www.slideshare.net/ishanpatel19/a-brief-intro-to-scramjet-engines'><img height='77' width='137' src='https://encrypted-tbn0.gstatic.com/images?q=tbn:ANd9GcTAlyhFclisI2zFNyd4AZSoWgQMmvvoOgmKhPV1LImYuKq1NeOFWsNyCWY'></a><br><cite title=\"slideshare.net\">slideshare.net</cite><br>A Brief Intro to Scramjet Engines<br>638 * 359 - 45k - jpg\n",
      "<a href='http://www.thehindubusinessline.com/news/national/isro-tests-scramjet-rocket-engine/article9042570.ece'><img height='103' width='137' src='https://encrypted-tbn0.gstatic.com/images?q=tbn:ANd9GcR0OBK2VG7y_EMJBkH5i3TxGukKqXEby_SU32TAtSqhjnuxrAP3AXCvR0K2'></a><br><cite title=\"thehindubusinessline.com\">thehindubusinessline.com</cite><br>India test fires Scramjet engine, joins elite club of nations ...<br>636 * 477 - 50k - jpg\n",
      "<a href='http://www.bbc.com/future/story/20161117-australias-hypersonic-spaceplane-for-a-new-space-race'><img height='84' width='150' src='https://encrypted-tbn0.gstatic.com/images?q=tbn:ANd9GcTcy7Rc_7dyoHYl54g1-Fqx1K66vSbnyqjcCRoRRopbylJ38s5oiPs6UFUI'></a><br><cite title=\"bbc.com\">bbc.com</cite><br>BBC - Future - Australia's hypersonic plane for a new space race<br>1280 * 720 - 58k - jpg\n",
      "<a href='https://www.nasa.gov/missions/research/f_scramjets.html'><img height='89' width='111' src='https://encrypted-tbn0.gstatic.com/images?q=tbn:ANd9GcSW8zA05chSNuUhlyq9fHeFGF__k8LtNGbJsyTPPD54hIyIpGgZT45AMpg'></a><br><cite title=\"nasa.gov\">nasa.gov</cite><br>NASA - What's a Scramjet?<br>250 * 200 - 15k - jpg\n",
      "<a href='http://allengineerz.blogspot.com/2010/11/scramjet-seminar-report.html'><img height='68' width='150' src='https://encrypted-tbn0.gstatic.com/images?q=tbn:ANd9GcS9cnTB7LCsDQ3-j4EJ6bJ27wpKxps4zyMUnrGXnBboCjkPEGIfEOHfvzo'></a><br><cite title=\"allengineerz.blogspot.com\">allengineerz.blogspot.com</cite><br>Mechanical Engineering Stuff: SCRAMJET (SEMINAR REPORT)<br>1393 * 629 - 84k - jpg\n"
     ]
    },
    {
     "data": {
      "text/plain": [
       "'f = open(\"//Users/ray/Desktop/DSS/DSS_Code/DSS_Web/result.html\", \"w\")\\nf.write(wiki(key))\\nf.write(g_image(key))\\nf.close()\\n\\nwebbrowser.open(\"file:///Users/ray/Desktop/DSS/DSS_Code/DSS_Web/result.html\",new=2)'"
      ]
     },
     "execution_count": 62,
     "metadata": {},
     "output_type": "execute_result"
    }
   ],
   "source": [
    "import requests\n",
    "import webbrowser\n",
    "from bs4 import BeautifulSoup\n",
    "\n",
    "def wiki(keyword):\n",
    "    txt = \"\"\n",
    "    res = requests.get('http://en.wikipedia.org/wiki/'+keyword)\n",
    "    soup = BeautifulSoup(res.content, 'html.parser')\n",
    "    body = soup.findAll(\"div\", { \"class\" : \"mw-parser-output\" })\n",
    "    abst = body[0].findAll(\"p\")\n",
    "    for p in abst:\n",
    "        if not len(p):\n",
    "            break\n",
    "        print(''.join(p.findAll(text=True)))\n",
    "        txt+=str(p)\n",
    "    return txt\n",
    "        \n",
    "def g_image(keyword):\n",
    "    txt = \"\"\n",
    "    res = requests.get('https://www.google.co.kr/search?q='+keyword+'&tbm=isch')\n",
    "    soup = BeautifulSoup(res.content, 'html.parser')\n",
    "    body = soup.findAll(\"div\", { \"id\" : \"ires\" })\n",
    "    table = body[0].findAll(\"table\")\n",
    "    tds = table[0].findAll(\"td\")\n",
    "    for td in tds:\n",
    "        a = td.find(\"a\")\n",
    "        href = a.get(\"href\")\n",
    "        href = href[7:]\n",
    "        exd_href = \"\"\n",
    "        for i in range(len(href)):\n",
    "            if href[i]==\"&\" : break\n",
    "            exd_href += href[i]\n",
    "        src = a.find('img')['src']\n",
    "        height = a.find('img')['height']\n",
    "        width = a.find('img')['width']\n",
    "        cite = td.find(\"cite\")\n",
    "        pure_text = td.findAll(text=True)\n",
    "        pure_text = pure_text[1:]\n",
    "        for st in pure_text:\n",
    "            if st.lower in keyword.lower:\n",
    "                \n",
    "        pure_text.insert(-1, \"<br>\")\n",
    "        string = ''.join(pure_text)\n",
    "        string.replace(keyword, \"<b>\"+keyword+\"</b>\")\n",
    "        print(\"<a href='\" + exd_href + \"'><img height='\" + height + \"' width='\" + width + \"' src='\" + src + \"'></a><br>\" + str(cite) + \"<br>\" + string)\n",
    "        txt += \"<a href='\" + exd_href + \"'><img height='\" + height + \"' width='\" + width + \"' src='\" + src + \"'></a><br>\" + str(cite) + \"<br>\" + string\n",
    "    return txt\n",
    "\n",
    "key = \"scramjet\"\n",
    "g_image(key)\n",
    "\"\"\"f = open(\"//Users/ray/Desktop/DSS/DSS_Code/DSS_Web/result.html\", \"w\")\n",
    "f.write(wiki(key))\n",
    "f.write(g_image(key))\n",
    "f.close()\n",
    "\n",
    "webbrowser.open(\"file:///Users/ray/Desktop/DSS/DSS_Code/DSS_Web/result.html\",new=2)\"\"\""
   ]
  }
 ],
 "metadata": {
  "kernelspec": {
   "display_name": "Python 3",
   "language": "python",
   "name": "python3"
  },
  "language_info": {
   "codemirror_mode": {
    "name": "ipython",
    "version": 3
   },
   "file_extension": ".py",
   "mimetype": "text/x-python",
   "name": "python",
   "nbconvert_exporter": "python",
   "pygments_lexer": "ipython3",
   "version": "3.6.1"
  }
 },
 "nbformat": 4,
 "nbformat_minor": 2
}

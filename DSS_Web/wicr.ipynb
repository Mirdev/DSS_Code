{
 "cells": [
  {
   "cell_type": "code",
   "execution_count": 48,
   "metadata": {},
   "outputs": [
    {
     "data": {
      "text/plain": [
       "True"
      ]
     },
     "execution_count": 48,
     "metadata": {},
     "output_type": "execute_result"
    }
   ],
   "source": [
    "import requests\n",
    "import webbrowser\n",
    "from bs4 import BeautifulSoup\n",
    "\n",
    "keyword = \"greek alphabet\"\n",
    "\n",
    "res = requests.get('http://en.wikipedia.org/wiki/'+keyword)\n",
    "soup = BeautifulSoup(res.content, 'html.parser')\n",
    "body = soup.findAll(\"div\", { \"class\" : \"mw-parser-output\" })\n",
    "abst = body[0].findAll(\"p\")\n",
    "txt = \"\"\n",
    "for p in abst:\n",
    "    if not len(p):\n",
    "        break\n",
    "    #print(''.join(p.findAll(text=True)))\n",
    "    txt+=str(p)\n",
    "    \n",
    "f = open(\"//Users/ray/Desktop/DSS/DSS_Code/DSS_Web/result.html\", \"w\")\n",
    "f.write(txt)\n",
    "f.close()\n",
    "webbrowser.open(\"file:///Users/ray/Desktop/DSS/DSS_Code/DSS_Web/result.html\",new=2)"
   ]
  }
 ],
 "metadata": {
  "kernelspec": {
   "display_name": "Python 3",
   "language": "python",
   "name": "python3"
  },
  "language_info": {
   "codemirror_mode": {
    "name": "ipython",
    "version": 3
   },
   "file_extension": ".py",
   "mimetype": "text/x-python",
   "name": "python",
   "nbconvert_exporter": "python",
   "pygments_lexer": "ipython3",
   "version": "3.6.1"
  }
 },
 "nbformat": 4,
 "nbformat_minor": 2
}

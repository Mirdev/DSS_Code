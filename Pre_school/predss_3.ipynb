{
 "cells": [
  {
   "cell_type": "code",
   "execution_count": 8,
   "metadata": {},
   "outputs": [],
   "source": [
    "def id_check(id):\n",
    "    if id == \"admin\":\n",
    "        print(\"invalid id: admin\")\n",
    "        return\n",
    "    print(\"valid id: %s\" % id)"
   ]
  },
  {
   "cell_type": "code",
   "execution_count": 6,
   "metadata": {},
   "outputs": [
    {
     "name": "stdout",
     "output_type": "stream",
     "text": [
      "invalid id: admin\n"
     ]
    }
   ],
   "source": [
    "id_check(\"admin\")"
   ]
  },
  {
   "cell_type": "code",
   "execution_count": 13,
   "metadata": {},
   "outputs": [],
   "source": [
    "#the parameters that don't have default value, they have to pose prior than another\n",
    "def say_hello(name=\"Fool\", nick=True):\n",
    "    print(\"Hi,\", name)\n",
    "    if nick==True:\n",
    "        print(\"But, you are fool.\")\n",
    "    else:\n",
    "        print(\"Oh, you are not fool.\")"
   ]
  },
  {
   "cell_type": "code",
   "execution_count": 16,
   "metadata": {},
   "outputs": [
    {
     "name": "stdout",
     "output_type": "stream",
     "text": [
      "Hi, fastcampus\n",
      "Oh, you are not fool.\n"
     ]
    }
   ],
   "source": [
    "say_hello(\"fastcampus\", False)"
   ]
  },
  {
   "cell_type": "code",
   "execution_count": 18,
   "metadata": {
    "collapsed": true
   },
   "outputs": [],
   "source": [
    "#args is we don't know about their number or amount of parameters then we can use\n",
    "#arge can change the name : ex) *cat like that\n",
    "def mul_sum(*args):\n",
    "    sum = 0\n",
    "    for i in args:\n",
    "        sum += i\n",
    "    return sum"
   ]
  },
  {
   "cell_type": "code",
   "execution_count": 23,
   "metadata": {},
   "outputs": [
    {
     "name": "stdout",
     "output_type": "stream",
     "text": [
      "55\n"
     ]
    }
   ],
   "source": [
    "print (mul_sum(1,2,3,4,5,6,7,8,9,10))"
   ]
  },
  {
   "cell_type": "code",
   "execution_count": 24,
   "metadata": {},
   "outputs": [
    {
     "data": {
      "text/plain": [
       "'helloworld'"
      ]
     },
     "execution_count": 24,
     "metadata": {},
     "output_type": "execute_result"
    }
   ],
   "source": [
    "a = \"hello\"\n",
    "\n",
    "def say_world(a):\n",
    "    a += \"world\"\n",
    "    return a\n",
    "\n",
    "say_world(a)"
   ]
  },
  {
   "cell_type": "code",
   "execution_count": 30,
   "metadata": {},
   "outputs": [
    {
     "name": "stdout",
     "output_type": "stream",
     "text": [
      "('helloworld', 'hellofastcampus')\n"
     ]
    },
    {
     "data": {
      "text/plain": [
       "'hellofastcampus'"
      ]
     },
     "execution_count": 30,
     "metadata": {},
     "output_type": "execute_result"
    }
   ],
   "source": [
    "a = \"hello\"\n",
    "\n",
    "def say_worldx(x):\n",
    "    global a #this 'global' mess up the function\n",
    "    a += \"fastcampus\"\n",
    "    x += \"world\"\n",
    "    return x, a\n",
    "\n",
    "print(say_worldx(a))\n",
    "a"
   ]
  },
  {
   "cell_type": "code",
   "execution_count": 33,
   "metadata": {},
   "outputs": [
    {
     "name": "stdout",
     "output_type": "stream",
     "text": [
      "fastcampus\n"
     ]
    }
   ],
   "source": [
    "#this method is better than above\n",
    "b = \"fast\"\n",
    "def make_campus(x):\n",
    "    x += \"campus\"\n",
    "    return x\n",
    "b = make_campus(b)\n",
    "print(b)"
   ]
  },
  {
   "cell_type": "code",
   "execution_count": 41,
   "metadata": {
    "collapsed": true
   },
   "outputs": [],
   "source": [
    "#leap year detector\n",
    "def leap_year(x):\n",
    "    print(\"leap\"*(not x%4)*(x!=100)+\"year\")"
   ]
  },
  {
   "cell_type": "code",
   "execution_count": 43,
   "metadata": {},
   "outputs": [
    {
     "name": "stdout",
     "output_type": "stream",
     "text": [
      "leapyear\n",
      "year\n",
      "leapyear\n"
     ]
    }
   ],
   "source": [
    "leap_year(2000)\n",
    "leap_year(2001)\n",
    "leap_year(2100)"
   ]
  },
  {
   "cell_type": "code",
   "execution_count": 44,
   "metadata": {},
   "outputs": [
    {
     "ename": "SyntaxError",
     "evalue": "invalid syntax (<ipython-input-44-c983dfa988d5>, line 4)",
     "output_type": "error",
     "traceback": [
      "\u001b[0;36m  File \u001b[0;32m\"<ipython-input-44-c983dfa988d5>\"\u001b[0;36m, line \u001b[0;32m4\u001b[0m\n\u001b[0;31m    if year % 4 == 0 and :\u001b[0m\n\u001b[0m                         ^\u001b[0m\n\u001b[0;31mSyntaxError\u001b[0m\u001b[0;31m:\u001b[0m invalid syntax\n"
     ]
    }
   ],
   "source": [
    "#in the class\n",
    "leap = False\n",
    "def is_leap(year):\n",
    "    if year % 4 == 0 and :\n",
    "        leap = True"
   ]
  },
  {
   "cell_type": "code",
   "execution_count": 47,
   "metadata": {},
   "outputs": [
    {
     "name": "stdout",
     "output_type": "stream",
     "text": [
      "How many times?5\n",
      "Fusion! 5\n",
      "Fusion! 4\n",
      "Fusion! 3\n",
      "Fusion! 2\n",
      "Fusion! 1\n",
      "Curse Complete!\n"
     ]
    }
   ],
   "source": [
    "\n",
    "def recurse_beast(a):\n",
    "    if a == 0:\n",
    "        print(\"Curse Complete!\")\n",
    "    else:\n",
    "        print(\"Fusion!\", a)\n",
    "        recurse_beast(a-1)\n",
    "        \n",
    "times = int(input(\"How many times?\"))\n",
    "recurse_beast(times)"
   ]
  }
 ],
 "metadata": {
  "kernelspec": {
   "display_name": "Python 3",
   "language": "python",
   "name": "python3"
  },
  "language_info": {
   "codemirror_mode": {
    "name": "ipython",
    "version": 3
   },
   "file_extension": ".py",
   "mimetype": "text/x-python",
   "name": "python",
   "nbconvert_exporter": "python",
   "pygments_lexer": "ipython3",
   "version": "3.6.1"
  }
 },
 "nbformat": 4,
 "nbformat_minor": 2
}

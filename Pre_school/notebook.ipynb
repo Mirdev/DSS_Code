{
 "cells": [
  {
   "cell_type": "code",
   "execution_count": 48,
   "metadata": {},
   "outputs": [
    {
     "name": "stdout",
     "output_type": "stream",
     "text": [
      "[4, 5, 5, 4]\n",
      "[4, 5]\n",
      "[4, 5]\n"
     ]
    }
   ],
   "source": [
    "def remove_duplicates(l):\n",
    "    rl=[]\n",
    "    for i in range(len(l)):\n",
    "        rl.append(l[i])\n",
    "    i=0\n",
    "    cnt = 0\n",
    "    while i<len(rl):\n",
    "        d = rl[i]\n",
    "        j=i+1\n",
    "        while j < len(rl):\n",
    "            if rl[j] == d:\n",
    "                rl.pop(j)\n",
    "                cnt += 1\n",
    "            j+=1\n",
    "        i += cnt\n",
    "    print(l)\n",
    "    print(rl)\n",
    "    return rl\n",
    "\n",
    "print(remove_duplicates([4,5,5,4]))"
   ]
  },
  {
   "cell_type": "code",
   "execution_count": 49,
   "metadata": {},
   "outputs": [
    {
     "name": "stdout",
     "output_type": "stream",
     "text": [
      "0 1 4 4 [4, 5, 5, 4]\n",
      "1 2 5 4 [4, 5, 5, 4]\n",
      "2 3 4 3 [4, 5, 4]\n",
      "[4, 5, 4]\n"
     ]
    }
   ],
   "source": [
    "def remove_duplicates(l):\n",
    "    rl = l\n",
    "    i=0\n",
    "    cnt = 0\n",
    "    while i<len(rl):\n",
    "        d = rl[i]\n",
    "        j=i+1\n",
    "        print(i,j,d, len(rl),rl)\n",
    "        while j < len(rl):\n",
    "            if rl[j] == d:\n",
    "                rl.pop(j)\n",
    "                cnt+=1\n",
    "                j-=1\n",
    "            else:\n",
    "                #i+=cnt\n",
    "                break\n",
    "            j+=1\n",
    "        i+=1\n",
    "    return rl\n",
    "\n",
    "print(remove_duplicates([4,5,5,4]))"
   ]
  },
  {
   "cell_type": "code",
   "execution_count": 61,
   "metadata": {},
   "outputs": [
    {
     "ename": "TypeError",
     "evalue": "'int' object is not iterable",
     "output_type": "error",
     "traceback": [
      "\u001b[0;31m---------------------------------------------------------------------------\u001b[0m",
      "\u001b[0;31mTypeError\u001b[0m                                 Traceback (most recent call last)",
      "\u001b[0;32m<ipython-input-61-b8b8a011d531>\u001b[0m in \u001b[0;36m<module>\u001b[0;34m()\u001b[0m\n\u001b[1;32m      1\u001b[0m \u001b[0mval\u001b[0m \u001b[0;34m=\u001b[0m \u001b[0;34m[\u001b[0m\u001b[0;36m4\u001b[0m\u001b[0;34m,\u001b[0m\u001b[0;36m5\u001b[0m\u001b[0;34m,\u001b[0m\u001b[0;36m6\u001b[0m\u001b[0;34m,\u001b[0m\u001b[0;36m7\u001b[0m\u001b[0;34m,\u001b[0m\u001b[0;36m8\u001b[0m\u001b[0;34m]\u001b[0m\u001b[0;34m\u001b[0m\u001b[0m\n\u001b[1;32m      2\u001b[0m \u001b[0mcount\u001b[0m \u001b[0;34m=\u001b[0m \u001b[0;34m[\u001b[0m\u001b[0;36m1\u001b[0m\u001b[0;34m,\u001b[0m\u001b[0;36m2\u001b[0m\u001b[0;34m,\u001b[0m\u001b[0;36m3\u001b[0m\u001b[0;34m,\u001b[0m\u001b[0;36m4\u001b[0m\u001b[0;34m,\u001b[0m\u001b[0;36m5\u001b[0m\u001b[0;34m]\u001b[0m\u001b[0;34m\u001b[0m\u001b[0m\n\u001b[0;32m----> 3\u001b[0;31m \u001b[0;32mfor\u001b[0m \u001b[0mva\u001b[0m\u001b[0;34m,\u001b[0m \u001b[0mcnt\u001b[0m \u001b[0;32min\u001b[0m \u001b[0mcount\u001b[0m\u001b[0;34m:\u001b[0m\u001b[0;34m\u001b[0m\u001b[0m\n\u001b[0m\u001b[1;32m      4\u001b[0m     \u001b[0mprint\u001b[0m \u001b[0;34m(\u001b[0m\u001b[0mval\u001b[0m\u001b[0;34m,\u001b[0m \u001b[0mcnt\u001b[0m\u001b[0;34m)\u001b[0m\u001b[0;34m\u001b[0m\u001b[0m\n",
      "\u001b[0;31mTypeError\u001b[0m: 'int' object is not iterable"
     ]
    }
   ],
   "source": [
    "val = [4,5,6,7,8]\n",
    "count = [1,2,3,4,5]\n",
    "for va, cnt in count:\n",
    "    print (val, cnt)"
   ]
  },
  {
   "cell_type": "code",
   "execution_count": 65,
   "metadata": {},
   "outputs": [
    {
     "name": "stdout",
     "output_type": "stream",
     "text": [
      "2.625\n",
      "49.875\n",
      "49.875\n"
     ]
    }
   ],
   "source": [
    "grades = [3,5,1,0,1,2,1,8]\n",
    "\n",
    "def print_grades(grades_input):\n",
    "  for grade in grades_input:\n",
    "    print (grade)\n",
    "\n",
    "def grades_sum(scores):\n",
    "  total = 0\n",
    "  for score in scores: \n",
    "    total += score\n",
    "  return total\n",
    "    \n",
    "def grades_average(grades_input):\n",
    "  sum_of_grades = grades_sum(grades_input)\n",
    "  average = sum_of_grades / float(len(grades_input))\n",
    "  return average\n",
    "\n",
    "def grades_variance(scores):\n",
    "  average = grades_average(scores)\n",
    "  print(average)\n",
    "  variance = 0\n",
    "  for score in scores:\n",
    "    variance += (average-score) ** 2\n",
    "  print(variance)\n",
    "  variance/float(len(scores))\n",
    "  return variance\n",
    "\n",
    "print (grades_variance(grades))"
   ]
  }
 ],
 "metadata": {
  "kernelspec": {
   "display_name": "Python 3",
   "language": "python",
   "name": "python3"
  },
  "language_info": {
   "codemirror_mode": {
    "name": "ipython",
    "version": 3
   },
   "file_extension": ".py",
   "mimetype": "text/x-python",
   "name": "python",
   "nbconvert_exporter": "python",
   "pygments_lexer": "ipython3",
   "version": "3.6.1"
  }
 },
 "nbformat": 4,
 "nbformat_minor": 2
}

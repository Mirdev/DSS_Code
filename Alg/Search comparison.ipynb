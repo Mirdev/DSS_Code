{
 "cells": [
  {
   "cell_type": "code",
   "execution_count": 2,
   "metadata": {},
   "outputs": [
    {
     "name": "stdout",
     "output_type": "stream",
     "text": [
      "4.36 µs ± 232 ns per loop (mean ± std. dev. of 7 runs, 100000 loops each)\n",
      "129 µs ± 614 ns per loop (mean ± std. dev. of 7 runs, 10000 loops each)\n"
     ]
    }
   ],
   "source": [
    "from random import seed\n",
    "from random import random\n",
    "\n",
    "size = 10**4\n",
    "lst = [0] * size\n",
    "for i in range(size):\n",
    "    lst[i] = int(random()*100)\n",
    "lst.sort()\n",
    "#lst = [0, 0, 0, 3, 5, 5, 5, 5, 7, 8, 8, 10, 10, 13, 13, 13, 14, 15, 17, 18, 19, 20, 22, 23, 24, 25, 27, 28, 28, 30, 30, 30, 31, 31, 31, 32, 32, 32, 33, 33, 35, 37, 37, 38, 39, 43, 43, 44, 44, 44, 46, 49, 50, 51, 52, 53, 54, 54, 54, 55, 55, 56, 57, 57, 60, 60, 61, 62, 62, 62, 65, 65, 70, 71, 71, 71, 71, 71, 72, 75, 75, 77, 78, 78, 80, 81, 83, 83, 85, 85, 87, 89, 91, 92, 93, 94, 94, 95, 95, 95]\n",
    "#lst = [0,1,2,3,4,5,6,7,8,9]\n",
    "\n",
    "def b_s(ls, n=0):\n",
    "    n = int(random()*100)\n",
    "    #n=97\n",
    "    m = len(ls)-1;d = 1;idx = 0\n",
    "    #print(ls, n)\n",
    "    while -1 <idx <len(ls) and d:\n",
    "        m = m//2 + (m&1)\n",
    "        idx += m*d\n",
    "        #print(idx,m)\n",
    "        idx = 0 if idx<0 else len(ls)-1 if idx > len(ls)-1 else idx\n",
    "        d = 1 if ls[idx] < n and m-1 else -1 if ls[idx] > n and m-1 else 0\n",
    "    if -1 < idx < len(ls) and ls[idx] == n:\n",
    "        pass\n",
    "        #print(\"Index = %d, Value = %d\" % (idx, ls[idx]))\n",
    "    else:\n",
    "        pass\n",
    "        #print(\"There is no number in list\")\n",
    "    \n",
    "def s_s(ls, n=0):\n",
    "    n = int(random()*100)\n",
    "    for i in ls:\n",
    "        if i == n:\n",
    "            #print(\"Index = %d, Value = %d\" % (ls.index(i), i))\n",
    "            break\n",
    "    else:\n",
    "        pass\n",
    "        #print(\"There is no number in list\")\n",
    "\n",
    "b_s(lst, 0)\n",
    "        \n",
    "%timeit b_s(lst)\n",
    "%timeit s_s(lst)"
   ]
  }
 ],
 "metadata": {
  "kernelspec": {
   "display_name": "Python 3",
   "language": "python",
   "name": "python3"
  },
  "language_info": {
   "codemirror_mode": {
    "name": "ipython",
    "version": 3
   },
   "file_extension": ".py",
   "mimetype": "text/x-python",
   "name": "python",
   "nbconvert_exporter": "python",
   "pygments_lexer": "ipython3",
   "version": "3.6.1"
  }
 },
 "nbformat": 4,
 "nbformat_minor": 2
}

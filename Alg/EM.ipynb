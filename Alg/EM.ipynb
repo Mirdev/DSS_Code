{
 "cells": [
  {
   "cell_type": "code",
   "execution_count": 44,
   "metadata": {},
   "outputs": [
    {
     "name": "stdout",
     "output_type": "stream",
     "text": [
      "1572 \t 2383 \t x \t 0\n",
      "786 \t 4766 \t x \t 0\n",
      "393 \t 9532 \t v \t 9532\n",
      "196 \t 19064 \t x \t 9532\n",
      "98 \t 38128 \t x \t 9532\n",
      "49 \t 76256 \t v \t 85788\n",
      "24 \t 152512 \t x \t 85788\n",
      "12 \t 305024 \t x \t 85788\n",
      "6 \t 610048 \t x \t 85788\n",
      "3 \t 1220096 \t v \t 1305884\n",
      "1 \t 2440192 \t v \t 3746076\n",
      "\t+------\n",
      "\t 3746076\n",
      "\n",
      "1572*2383 = 3746076\n"
     ]
    }
   ],
   "source": [
    "def etiopian_mul(a, b):\n",
    "    tot=0\n",
    "    x=a\n",
    "    y=b\n",
    "    while x:\n",
    "        s=\"x\"\n",
    "        if x%2:\n",
    "            tot+=y\n",
    "            s=\"v\"\n",
    "        print(x,\"\\t\",y,\"\\t\",s,\"\\t\",tot)\n",
    "        x //= 2\n",
    "        y *= 2\n",
    "    print(\"\\t+------\")\n",
    "    print(\"\\t\",tot)\n",
    "    print()\n",
    "    print(\"%d*%d = %d\" % (a, b, a*b))\n",
    "    \n",
    "etiopian_mul(1572,2383)"
   ]
  },
  {
   "cell_type": "code",
   "execution_count": 51,
   "metadata": {},
   "outputs": [
    {
     "name": "stdout",
     "output_type": "stream",
     "text": [
      "\t 3575\n",
      "13*275 = 3575\n"
     ]
    }
   ],
   "source": [
    "def e_m_b(a, b):\n",
    "    tot=0\n",
    "    x=a\n",
    "    y=b\n",
    "    while x:\n",
    "        tot+=(x&True)*y\n",
    "        x>>=1\n",
    "        y<<=1\n",
    "    print(\"\\t\",tot)\n",
    "    print(\"%d*%d = %d\" % (a, b, a*b))\n",
    "    \n",
    "e_m_b(13,275)"
   ]
  }
 ],
 "metadata": {
  "kernelspec": {
   "display_name": "Python 3",
   "language": "python",
   "name": "python3"
  },
  "language_info": {
   "codemirror_mode": {
    "name": "ipython",
    "version": 3
   },
   "file_extension": ".py",
   "mimetype": "text/x-python",
   "name": "python",
   "nbconvert_exporter": "python",
   "pygments_lexer": "ipython3",
   "version": "3.6.1"
  }
 },
 "nbformat": 4,
 "nbformat_minor": 2
}

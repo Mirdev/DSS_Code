{
 "cells": [
  {
   "cell_type": "code",
   "execution_count": null,
   "metadata": {
    "collapsed": true
   },
   "outputs": [],
   "source": [
    "lst = [4, 8, 2, 6, 1, 0, 5, 3, 9, 7]\n",
    "\n",
    "def q_s(l, r):\n",
    "    lp = l+1\n",
    "    rp = r\n",
    "    pv = l\n",
    "    print(\"   \"*pv,\"|pv:%d\"%(pv))\n",
    "    print(\"   \"*lp,\"|lp:%d\"%(lp))\n",
    "    print(lst)\n",
    "    print(\"   \"*rp,\"|rp:%d\\n\"%(rp))\n",
    "    while lp<rp:\n",
    "        while lst[lp]<lst[pv]:\n",
    "            lp+=1\n",
    "        while lst[rp]>lst[pv]:\n",
    "            rp-=1\n",
    "        print(\"   \"*lp,\"vlp:%d\"%(lp))\n",
    "        print(lst)\n",
    "        print(\"   \"*rp,\"^rp:%d\"%(rp))\n",
    "        \"\"\"print(pv, lp, rp)\n",
    "        print(lst[pv], lst[lp], lst[rp])\n",
    "        print(lst[lp]>lst[pv] and lst[rp]<lst[pv])\"\"\"\n",
    "        if rp<=lp:\n",
    "            print(\"   \"*lp,\"vlp:%d\"%(lp))\n",
    "            print(lst)\n",
    "            print(\"   \"*rp,\"^rp:%d\"%(rp))\n",
    "            lst[pv], lst[rp] = lst[rp], lst[pv]\n",
    "            print(lst)\n",
    "            print(\"Call left side sorter\")\n",
    "            q_s(pv,rp-1)\n",
    "            print(\"Call right side sorter\")\n",
    "            q_s(lp,r)\n",
    "        elif lst[lp]>lst[pv] and lst[rp]<lst[pv]:\n",
    "            print(\"   \"*lp,\"vlp:%d\"%(lp))\n",
    "            print(lst)\n",
    "            print(\"   \"*rp,\"^rp:%d\"%(rp))\n",
    "            lst[lp], lst[rp] = lst[rp], lst[lp]\n",
    "            print(lst,\"*\\n\")\n",
    "\n",
    "q_s(0,len(lst)-1)\n",
    "\n",
    "print(lst)"
   ]
  },
  {
   "cell_type": "code",
   "execution_count": null,
   "metadata": {
    "collapsed": true
   },
   "outputs": [],
   "source": [
    "lst = [4, 8, 2, 6, 1, 0, 5, 3, 9, 7]\n",
    "\n",
    "def q_s(l, r):\n",
    "    lp = l+1;rp = r;pv = l\n",
    "    while lp<rp:\n",
    "        while lst[lp]<lst[pv] : lp+=1\n",
    "        while lst[rp]>lst[pv] : rp-=1\n",
    "        if rp<lp:\n",
    "            lst[pv], lst[rp] = lst[rp], lst[pv]\n",
    "            q_s(pv,rp-1)\n",
    "            q_s(lp,r)\n",
    "        else:\n",
    "            lst[lp], lst[rp] = lst[rp], lst[lp]\n",
    "\n",
    "q_s(0,len(lst)-1)\n",
    "\n",
    "print(lst)"
   ]
  },
  {
   "cell_type": "code",
   "execution_count": null,
   "metadata": {
    "collapsed": true
   },
   "outputs": [],
   "source": [
    "from random import seed\n",
    "from random import random\n",
    "\n",
    "\"\"\"n = 10**1\n",
    "lst = [0] * n\n",
    "for i in range(n):\n",
    "    lst[i] = int(random()*10)\"\"\"\n",
    "lst = [30, 14, 31, 10, 19, 24, 40, 89, 27, 21]\n",
    "#lst = [3, 8, 0, 2, 1, 6, 1, 6, 6, 5]\n",
    "\n",
    "def q_s(l, r):\n",
    "    lp = l+1;rp = r;pv = l\n",
    "    print(\"    \"*pv,\"|pv:%d\"%pv)\n",
    "    print(\"    \"*lp,\"|lp:%d\"%lp)\n",
    "    print(lst)\n",
    "    print(\"    \"*rp,\"|rp:%d\"%rp)\n",
    "    if lp<=rp:\n",
    "        while lp<rp:\n",
    "            while lst[lp]<=lst[pv] and lp<r : lp+=1;print(lp)\n",
    "            while lst[rp]>lst[pv] : rp-=1\n",
    "            print(\"    \"*lp,\"vlp:%d\"%lp)\n",
    "            print(lst)\n",
    "            print(\"    \"*rp,\"^rp:%d\"%rp)\n",
    "            if lp<rp:\n",
    "                lst[lp], lst[rp] = lst[rp], lst[lp]\n",
    "                print(lst,\"lp<->rp\\n\")\n",
    "        if lst[pv]>lst[rp] : lst[pv], lst[rp] = lst[rp], lst[pv]\n",
    "        print(\"    \"*pv,\"|pv:%d\"%pv)\n",
    "        print(lst,'pv<->rp\\n')\n",
    "        print(\"Recall left side function\")\n",
    "        q_s(pv,rp-1)\n",
    "        print(\"Recall right side function\")\n",
    "        q_s(lp,r)\n",
    "    else:\n",
    "        print(\"End of sorting in this side\\n\")\n",
    "\n",
    "q_s(0,len(lst)-1)\n",
    "\n",
    "print(lst)"
   ]
  },
  {
   "cell_type": "code",
   "execution_count": 1,
   "metadata": {},
   "outputs": [
    {
     "name": "stdout",
     "output_type": "stream",
     "text": [
      "[7, 14, 19, 21, 24, 27, 30, 31, 40, 89]\n"
     ]
    }
   ],
   "source": [
    "#lst = [4, 8, 2, 6, 1, 0, 5, 3, 9, 7]\n",
    "#lst = [3, 8, 0, 2, 1, 6, 1, 6, 6, 5]\n",
    "\"\"\"# 재귀함수 호출의 값이 기본적으로 5000이기 때문에 늘려줌\n",
    "import sys\n",
    "sys.setrecursionlimit(200000)\"\"\"\n",
    "\n",
    "lst = [30, 14, 31, 7, 19, 24, 40, 89, 27, 21]\n",
    "\n",
    "def q_s(l, r):\n",
    "    lp = l+1;rp = r;pv = l\n",
    "    if lp<=rp:\n",
    "        while lp<rp:\n",
    "            while lst[lp]<=lst[pv] and lp<r : lp+=1\n",
    "            while lst[rp]>lst[pv] : rp-=1\n",
    "            if lp<rp and lst[lp]!=lst[rp] : lst[lp], lst[rp] = lst[rp], lst[lp]\n",
    "        if lst[pv]>lst[rp] : lst[pv], lst[rp] = lst[rp], lst[pv]\n",
    "        q_s(pv,rp-1);q_s(lp,r)\n",
    "\n",
    "q_s(0,len(lst)-1)\n",
    "\n",
    "print(lst)"
   ]
  }
 ],
 "metadata": {
  "kernelspec": {
   "display_name": "Python 3",
   "language": "python",
   "name": "python3"
  },
  "language_info": {
   "codemirror_mode": {
    "name": "ipython",
    "version": 3
   },
   "file_extension": ".py",
   "mimetype": "text/x-python",
   "name": "python",
   "nbconvert_exporter": "python",
   "pygments_lexer": "ipython3",
   "version": "3.6.1"
  }
 },
 "nbformat": 4,
 "nbformat_minor": 2
}

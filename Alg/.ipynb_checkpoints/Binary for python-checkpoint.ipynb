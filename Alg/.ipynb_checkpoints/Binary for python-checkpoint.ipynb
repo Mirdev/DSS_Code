{
 "cells": [
  {
   "cell_type": "code",
   "execution_count": 2,
   "metadata": {},
   "outputs": [
    {
     "name": "stdout",
     "output_type": "stream",
     "text": [
      "6\n",
      "2\n"
     ]
    }
   ],
   "source": [
    "#Binary numbers\n",
    "n = int(input().strip())\n",
    "cnt=0\n",
    "p_cnt=0\n",
    "n<<=1\n",
    "while n:\n",
    "    n >>= 1\n",
    "    if n&1:\n",
    "        cnt+=1\n",
    "    else:\n",
    "        if cnt > p_cnt:\n",
    "            p_cnt = cnt\n",
    "        cnt = 0\n",
    "print(p_cnt)"
   ]
  },
  {
   "cell_type": "code",
   "execution_count": 3,
   "metadata": {},
   "outputs": [
    {
     "name": "stdout",
     "output_type": "stream",
     "text": [
      "6\n",
      "2\n"
     ]
    }
   ],
   "source": [
    "print(len(max(bin(int(input().strip()))[2:].split('0'))))"
   ]
  }
 ],
 "metadata": {
  "kernelspec": {
   "display_name": "Python 3",
   "language": "python",
   "name": "python3"
  },
  "language_info": {
   "codemirror_mode": {
    "name": "ipython",
    "version": 3
   },
   "file_extension": ".py",
   "mimetype": "text/x-python",
   "name": "python",
   "nbconvert_exporter": "python",
   "pygments_lexer": "ipython3",
   "version": "3.6.1"
  }
 },
 "nbformat": 4,
 "nbformat_minor": 2
}

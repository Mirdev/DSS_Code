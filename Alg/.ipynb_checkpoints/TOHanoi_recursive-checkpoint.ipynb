{
 "cells": [
  {
   "cell_type": "code",
   "execution_count": 24,
   "metadata": {},
   "outputs": [
    {
     "name": "stdout",
     "output_type": "stream",
     "text": [
      "1, a->c\n",
      "1, a->b\n",
      "1, c->b\n",
      "1, a->c\n",
      "1, b->a\n",
      "1, b->c\n",
      "1, a->c\n"
     ]
    }
   ],
   "source": [
    "#hanoi\n",
    "\n",
    "def hanoi(n, F, A, T):\n",
    "    if n==1:\n",
    "        print(\"%d, %s->%s\"%(n,F,T))\n",
    "    else:\n",
    "        hanoi(n-1, F, T, A)\n",
    "        hanoi(1, F, A, T)\n",
    "        hanoi(n-1, A, F, T)\n",
    "    \n",
    "hanoi(3, \"a\", \"b\", \"c\")"
   ]
  }
 ],
 "metadata": {
  "kernelspec": {
   "display_name": "Python 3",
   "language": "python",
   "name": "python3"
  },
  "language_info": {
   "codemirror_mode": {
    "name": "ipython",
    "version": 3
   },
   "file_extension": ".py",
   "mimetype": "text/x-python",
   "name": "python",
   "nbconvert_exporter": "python",
   "pygments_lexer": "ipython3",
   "version": "3.6.1"
  }
 },
 "nbformat": 4,
 "nbformat_minor": 2
}

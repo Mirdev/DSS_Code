{
 "cells": [
  {
   "cell_type": "code",
   "execution_count": 9,
   "metadata": {},
   "outputs": [
    {
     "name": "stdout",
     "output_type": "stream",
     "text": [
      "1.09 ms ± 37.7 µs per loop (mean ± std. dev. of 7 runs, 1000 loops each)\n",
      "9.23 s ± 240 ms per loop (mean ± std. dev. of 7 runs, 1 loop each)\n"
     ]
    }
   ],
   "source": [
    "from random import seed\n",
    "from random import random\n",
    "\n",
    "n = 10**4\n",
    "lst = [0] * n\n",
    "for i in range(n):\n",
    "    lst[i] = int(random()*100)\n",
    "    \n",
    "lst1 = lst[:]\n",
    "lst2 = lst[:]\n",
    "lst3 = lst[:]\n",
    "\n",
    "\"\"\"def q_s_1(l, r):\n",
    "    lp = l+1;rp = r;pv = l\n",
    "    if lp<=rp:\n",
    "        while lp<rp:\n",
    "            while lst1[lp]<=lst1[pv] and lp<r : lp+=1\n",
    "            while lst1[rp]>lst1[pv] : rp-=1\n",
    "            if lp<rp : lst1[lp], lst1[rp] = lst1[rp], lst1[lp]\n",
    "        if lst[pv]>lst[rp] : lst1[pv], lst1[rp] = lst1[rp], lst1[pv]\n",
    "        q_s_1(pv,rp-1);q_s_1(lp,r)\"\"\"\n",
    "\n",
    "def q_s(lst, l, r):\n",
    "    lp, rp = l+1, r\n",
    "    if l<r:\n",
    "        while lp<rp:\n",
    "            while lp<len(lst) and lst[lp]<=lst[l] : lp+=1\n",
    "            while l<rp and lst[rp]>=lst[l] : rp-=1\n",
    "            if lp<rp : lst[lp], lst[rp] = lst[rp], lst[lp]\n",
    "        if lst[l]>lst[rp] : lst[l], lst[rp] = lst[rp], lst[l]\n",
    "        if rp-l : q_s(lst, l, rp-1);q_s(lst, rp+1, r)\n",
    "        \n",
    "def s_s(ln):\n",
    "    i=0\n",
    "    while ln-i-1:\n",
    "        j=i+1;k=i\n",
    "        while ln-j:\n",
    "            if lst2[k]>lst2[j] : k=j\n",
    "            j+=1\n",
    "        lst2[i], lst2[k] = lst2[k], lst2[i]\n",
    "        i+=1\n",
    "#print(lst)\n",
    "\"\"\"%timeit q_s_1(0, len(lst)-1)\n",
    "print(lst1)\"\"\"\n",
    "%timeit q_s(lst3, 0, len(lst3)-1)\n",
    "#print(lst3)\n",
    "%timeit s_s(len(lst))\n",
    "#print(lst2)"
   ]
  }
 ],
 "metadata": {
  "kernelspec": {
   "display_name": "Python 3",
   "language": "python",
   "name": "python3"
  },
  "language_info": {
   "codemirror_mode": {
    "name": "ipython",
    "version": 3
   },
   "file_extension": ".py",
   "mimetype": "text/x-python",
   "name": "python",
   "nbconvert_exporter": "python",
   "pygments_lexer": "ipython3",
   "version": "3.6.1"
  }
 },
 "nbformat": 4,
 "nbformat_minor": 2
}

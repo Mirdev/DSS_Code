{
 "cells": [
  {
   "cell_type": "code",
   "execution_count": 1,
   "metadata": {},
   "outputs": [
    {
     "name": "stdout",
     "output_type": "stream",
     "text": [
      ">>6\n",
      "6\n",
      "Index = 5, Value = 6\n"
     ]
    }
   ],
   "source": [
    "lst = [1,2,3,4,5,6,7,8,9,10]\n",
    "lst.sort()\n",
    "m = len(lst)-1;d = 1;idx = 0\n",
    "\n",
    "n = int(input(\">>\"))\n",
    "print(n)\n",
    "\n",
    "while d:\n",
    "    m = m//2 + (m&1)\n",
    "    idx += m*d\n",
    "    idx += 1 if idx<0 else -1 if idx > len(lst)-1 else 0\n",
    "    d = 1 if lst[idx] < n else -1 if lst[idx] > n else 0\n",
    "    \n",
    "print(\"Index = %d, Value = %d\" % (idx, lst[idx])) if -1 < idx < len(lst) else print(\"There is no number in list\")"
   ]
  },
  {
   "cell_type": "code",
   "execution_count": 2,
   "metadata": {},
   "outputs": [
    {
     "name": "stdout",
     "output_type": "stream",
     "text": [
      ">>5\n",
      "5\n",
      "Index = 4, Value = 5\n"
     ]
    }
   ],
   "source": [
    "lst = [1,2,3,4,5,6,7,8,9,10]\n",
    "lst.sort()\n",
    "\n",
    "n = int(input(\">>\"))\n",
    "print(n)\n",
    "\n",
    "def b_s(ls, n=0):\n",
    "    m = len(ls)-1;d = 1;idx = 0\n",
    "    while -1 <idx <len(ls) and d:\n",
    "        m = m//2 + (m&1)\n",
    "        idx += m*d\n",
    "        idx = 0 if idx<0 else len(ls)-1 if idx > len(ls)-1 else idx\n",
    "        d = 1 if ls[idx] < n and m-1 else -1 if ls[idx] > n and m-1 else 0\n",
    "    print(\"Index = %d, Value = %d\" % (idx, ls[idx])) if ls[idx] == n else print(\"There is no number in list\")\n",
    "    \n",
    "b_s(lst, n)"
   ]
  }
 ],
 "metadata": {
  "kernelspec": {
   "display_name": "Python 3",
   "language": "python",
   "name": "python3"
  },
  "language_info": {
   "codemirror_mode": {
    "name": "ipython",
    "version": 3
   },
   "file_extension": ".py",
   "mimetype": "text/x-python",
   "name": "python",
   "nbconvert_exporter": "python",
   "pygments_lexer": "ipython3",
   "version": "3.6.1"
  }
 },
 "nbformat": 4,
 "nbformat_minor": 2
}

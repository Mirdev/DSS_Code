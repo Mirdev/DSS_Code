{
 "cells": [
  {
   "cell_type": "code",
   "execution_count": 2,
   "metadata": {},
   "outputs": [
    {
     "name": "stdout",
     "output_type": "stream",
     "text": [
      "0.7834305106688043\n",
      "0.7834305106688046\n",
      "0.7834305107121001\n"
     ]
    }
   ],
   "source": [
    "# scipy result : (0.7834305107121343, 3.351485755587191e-11)\n",
    "# numerical integration x^x from 0 to 1\n",
    "\n",
    "def f(x):\n",
    "    return x ** x\n",
    "\n",
    "n = 10000000\n",
    "step = 1/n\n",
    "\n",
    "#rectangular\n",
    "tot = lx = 0\n",
    "for i in range(n):\n",
    "    tot += f(lx)*step\n",
    "    lx += step\n",
    "print(tot)\n",
    "\n",
    "#trapezoidal\n",
    "tot = lx = 0\n",
    "for i in range(n):\n",
    "    tot += (f(lx)+f(lx+step))*step/2\n",
    "    lx += step\n",
    "print(tot)\n",
    "\n",
    "#simpson\n",
    "tot = lx = 0\n",
    "tot = f(0)+f(1)\n",
    "for i in range(1, n, 2):\n",
    "    tot += 4 * f(i * step)\n",
    "for i in range(2, n-1, 2):\n",
    "    tot += 2 * f(i * step)\n",
    "tot = tot * step / 3\n",
    "print(tot)"
   ]
  }
 ],
 "metadata": {
  "kernelspec": {
   "display_name": "Python 3",
   "language": "python",
   "name": "python3"
  },
  "language_info": {
   "codemirror_mode": {
    "name": "ipython",
    "version": 3
   },
   "file_extension": ".py",
   "mimetype": "text/x-python",
   "name": "python",
   "nbconvert_exporter": "python",
   "pygments_lexer": "ipython3",
   "version": "3.6.1"
  }
 },
 "nbformat": 4,
 "nbformat_minor": 2
}

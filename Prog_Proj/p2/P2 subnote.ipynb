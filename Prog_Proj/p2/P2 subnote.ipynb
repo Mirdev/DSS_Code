{
 "cells": [
  {
   "cell_type": "code",
   "execution_count": 15,
   "metadata": {},
   "outputs": [
    {
     "name": "stdout",
     "output_type": "stream",
     "text": [
      "1 2 3 \n",
      "4 5 6 \n",
      "7 8  \n",
      "2 2\n",
      "1 2\n",
      "1 2 3 \n",
      "4 5  \n",
      "7 8 6 \n",
      "You can't move!!\n",
      "1 2 3 \n",
      "4 5  \n",
      "7 8 6 \n"
     ]
    }
   ],
   "source": [
    "def show_puzzle(puzzle):\n",
    "    for row in puzzle:\n",
    "        for item in row:\n",
    "            print(item, end = \" \")\n",
    "        print()\n",
    "\n",
    "# 퍼즐을 생성한다.\n",
    "# 퍼즐은 동적으로 생성되며, 2차원 리스트 형태를 갖는다\n",
    "# 즉 [[1, 2, 3], [4, 5, 6], [7, 8, '']]\n",
    "# 빈공간은 ''로 표현한다\n",
    "def initiate_puzzle(size):\n",
    "    puzzle = []\n",
    "    tmp = []\n",
    "    cnt = 1\n",
    "    for i in range(size):\n",
    "        for j in range(size):\n",
    "            tmp.append(cnt)\n",
    "            cnt += 1\n",
    "        puzzle.append(tmp)\n",
    "        tmp = []\n",
    "    puzzle[size-1][size-1] = ''\n",
    "    return puzzle\n",
    "\n",
    "# 퍼즐 보드에서 숫자 n의 인덱스 검색\n",
    "# 2차원이기 때문에 i, j형태의 인덱스 값을 반환\n",
    "def get_index(puzzle, n):\n",
    "    for i in range(len(puzzle)):\n",
    "        for j in range(len(puzzle[0])):\n",
    "            if n == puzzle[i][j]:\n",
    "                return i, j\n",
    "            \n",
    "\n",
    "# 퍼즐에서 숫자 n을 이동,\n",
    "# 이동할 수 없는 경우에는 이동할 수 없다고 표시\n",
    "# 이동이 가능한 경우는 양옆위아래에 ''가 위치해 있을 경우이다\n",
    "def move_by_number(puzzle, n):\n",
    "    i, j = get_index(puzzle, n)\n",
    "    a = False\n",
    "    if i > 0 and puzzle[i-1][j]=='':\n",
    "        a = move_by_index(puzzle, i-1, j, n)\n",
    "    if i < len(puzzle)-1 and puzzle[i+1][j]=='':\n",
    "        a = move_by_index(puzzle, i+1, j, n)\n",
    "    if j > 0 and puzzle[i][j-1]=='':\n",
    "        a = move_by_index(puzzle, i, j-1, n)\n",
    "    if j < len(puzzle[0])-1 and puzzle[i][j+1]=='':\n",
    "        a = move_by_index(puzzle, i, j+1, n)\n",
    "    if not a:\n",
    "        print(\"You can't move!!\")\n",
    "\n",
    "# 숫자를 이동시키기 위해서는 결국 인덱스를 알아야 함\n",
    "# 즉 move_by_number 내부에서 호출되는 함수\n",
    "def move_by_index(puzzle, i, j, n):\n",
    "    # movable condition\n",
    "    # 좌우위아래 한방향중 하나가 '' 값이라면 이동 가능\n",
    "    oi, oj = get_index(puzzle, n)\n",
    "    print(i, j)\n",
    "    print(oi, oj)\n",
    "    puzzle[oi][oj], puzzle[i][j] = puzzle[i][j], puzzle[oi][oj]\n",
    "    return True\n",
    "    \n",
    "puzzle = initiate_puzzle(3)\n",
    "show_puzzle(puzzle)\n",
    "move_by_number(puzzle, 6)\n",
    "show_puzzle(puzzle)\n",
    "move_by_number(puzzle, 8)\n",
    "show_puzzle(puzzle)"
   ]
  }
 ],
 "metadata": {
  "kernelspec": {
   "display_name": "Python 3",
   "language": "python",
   "name": "python3"
  },
  "language_info": {
   "codemirror_mode": {
    "name": "ipython",
    "version": 3
   },
   "file_extension": ".py",
   "mimetype": "text/x-python",
   "name": "python",
   "nbconvert_exporter": "python",
   "pygments_lexer": "ipython3",
   "version": "3.6.1"
  }
 },
 "nbformat": 4,
 "nbformat_minor": 2
}

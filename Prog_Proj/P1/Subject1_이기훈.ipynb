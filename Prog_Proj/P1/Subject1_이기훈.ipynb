{
 "cells": [
  {
   "cell_type": "code",
   "execution_count": 1,
   "metadata": {},
   "outputs": [
    {
     "name": "stdout",
     "output_type": "stream",
     "text": [
      "Prime number\n"
     ]
    }
   ],
   "source": [
    "#1\n",
    "n = 6277\n",
    "d = 2\n",
    "#O(N) = N\n",
    "while d<n:\n",
    "    if not n%d:\n",
    "        print(\"Not prime number. Divided by %d\" % d)\n",
    "        break\n",
    "    d+=1\n",
    "else:\n",
    "    print(\"Prime number\")"
   ]
  },
  {
   "cell_type": "code",
   "execution_count": 2,
   "metadata": {},
   "outputs": [
    {
     "name": "stdout",
     "output_type": "stream",
     "text": [
      "2 3 5 7 11 13 17 19 23 29 31 37 41 43 47 53 59 61 67 71 73 79 83 89 97 101 103 107 109 113 127 131 137 139 149 151 157 163 167 173 179 181 191 193 197 199 211 223 227 229 233 239 241 251 257 263 269 271 277 281 283 293 307 311 313 317 331 337 347 349 353 359 367 373 379 383 389 397 401 409 419 421 431 433 439 443 449 457 461 463 467 479 487 491 499 503 509 521 523 541 547 557 563 569 571 577 587 593 599 601 607 613 617 619 631 641 643 647 653 659 661 673 677 683 691 701 709 719 727 733 739 743 751 757 761 769 773 787 797 809 811 821 823 827 829 839 853 857 859 863 877 881 883 887 907 911 919 929 937 941 947 953 967 971 977 983 991 997 "
     ]
    }
   ],
   "source": [
    "#2\n",
    "sieve = {i:1 for i in range(2,1001)}\n",
    "\n",
    "for i in sieve:\n",
    "    j = 2\n",
    "    if sieve.get(i):\n",
    "        while i*j < 1001:\n",
    "            sieve[i*j] = 0\n",
    "            j += 1\n",
    "            \n",
    "for i, v in sieve.items():\n",
    "    if v : print(i,end=\" \")"
   ]
  },
  {
   "cell_type": "code",
   "execution_count": 1,
   "metadata": {},
   "outputs": [
    {
     "name": "stdout",
     "output_type": "stream",
     "text": [
      "188\n"
     ]
    }
   ],
   "source": [
    "#3\n",
    "cnt = 0\n",
    "for i in range(1,9001):\n",
    "    lst = list(str(i))\n",
    "    if lst == list(reversed(lst)):\n",
    "        cnt+=1\n",
    "print(cnt)"
   ]
  },
  {
   "cell_type": "code",
   "execution_count": 4,
   "metadata": {},
   "outputs": [
    {
     "name": "stdout",
     "output_type": "stream",
     "text": [
      ">>8\n",
      "8\n",
      "Index = 7, Value = 8\n",
      "Index = 7, Value = 8\n"
     ]
    }
   ],
   "source": [
    "#4\n",
    "lst = [1,2,3,4,5,6,7,8,9,10]\n",
    "lst.sort()\n",
    "m = len(lst)-1;d = 1;idx = 0\n",
    "\n",
    "n = int(input(\">>\"))\n",
    "print(n)\n",
    "\n",
    "#Sequential Search\n",
    "for i in lst:\n",
    "    if i == n:\n",
    "        print(\"Index = %d, Value = %d\" % (lst.index(i), i))\n",
    "        break\n",
    "else:\n",
    "    print(\"There is no number in list\")\n",
    "\n",
    "#Binary Search\n",
    "while d:\n",
    "    m = m//2 + (m&1)\n",
    "    idx += m*d\n",
    "    idx += 1 if idx<0 else -1 if idx > len(lst)-1 else 0\n",
    "    d = 1 if lst[idx] < n else -1 if lst[idx] > n else 0\n",
    "    \n",
    "print(\"Index = %d, Value = %d\" % (idx, lst[idx])) if -1 < idx < len(lst) else print(\"There is no number in list\")"
   ]
  },
  {
   "cell_type": "code",
   "execution_count": 5,
   "metadata": {},
   "outputs": [
    {
     "name": "stdout",
     "output_type": "stream",
     "text": [
      "50\n",
      "The value is bigger than your guess\n",
      "75\n",
      "The value is smaller than your guess\n",
      "63\n",
      "you nailed it! 63\n"
     ]
    }
   ],
   "source": [
    "#Number Quiz\n",
    "import random\n",
    "\n",
    "# your code here\n",
    "# 1 - 100 임의의 수 생성\n",
    "hidden = random.randint(1,100)# 1 line of code \n",
    "\n",
    "i = 0\n",
    "while i < 7:\n",
    "    # your code here \n",
    "    # 사용자가 입력한 정수를 guess에 할당\n",
    "    guess = int(input())# 1 line of code\n",
    "\n",
    "    if guess == hidden:\n",
    "        print( 'you nailed it!', guess)\n",
    "        # your code here \n",
    "        # while loop 종료\n",
    "        break\n",
    "        \n",
    "    elif guess > hidden:\n",
    "        # your code here\n",
    "        # 적절한 출력 문\n",
    "        print('The value is smaller than your guess')\n",
    "    else:\n",
    "        # your code here\n",
    "        # 적절한 출력 문\n",
    "        print('The value is bigger than your guess')\n",
    "\n",
    "    i += 1\n",
    "else:\n",
    "    print('failed to guess a number in 7 times!')"
   ]
  }
 ],
 "metadata": {
  "kernelspec": {
   "display_name": "Python 3",
   "language": "python",
   "name": "python3"
  },
  "language_info": {
   "codemirror_mode": {
    "name": "ipython",
    "version": 3
   },
   "file_extension": ".py",
   "mimetype": "text/x-python",
   "name": "python",
   "nbconvert_exporter": "python",
   "pygments_lexer": "ipython3",
   "version": "3.6.1"
  }
 },
 "nbformat": 4,
 "nbformat_minor": 2
}

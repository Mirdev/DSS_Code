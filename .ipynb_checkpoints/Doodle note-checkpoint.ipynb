{
 "cells": [
  {
   "cell_type": "code",
   "execution_count": 1,
   "metadata": {},
   "outputs": [
    {
     "name": "stdout",
     "output_type": "stream",
     "text": [
      "[1, 2, 3, 4]\n",
      "[2, 3, 4]\n"
     ]
    }
   ],
   "source": [
    "lst = [1,2,3,4]\n",
    "print(lst)\n",
    "del(lst[0])\n",
    "print(lst)"
   ]
  },
  {
   "cell_type": "code",
   "execution_count": 6,
   "metadata": {},
   "outputs": [
    {
     "name": "stdout",
     "output_type": "stream",
     "text": [
      "0 0 0\n",
      "0 1 1\n",
      "1 0 True\n",
      "1 1 False\n"
     ]
    }
   ],
   "source": [
    "n = 0b11011000\n",
    "while n:\n",
    "    a=n&1\n",
    "    n>>=1\n",
    "    b=n&1\n",
    "    n>>=1\n",
    "    print(a,b,not a and b or a and not b)"
   ]
  },
  {
   "cell_type": "code",
   "execution_count": 9,
   "metadata": {},
   "outputs": [
    {
     "name": "stdout",
     "output_type": "stream",
     "text": [
      "<class 'int'> <class 'float'> <class 'int'>\n",
      "5 2.5 2\n",
      "<class 'int'> <class 'float'> <class 'int'>\n",
      "5 2.5 2\n",
      "<class 'float'> <class 'int'>\n",
      "2.5 2\n",
      "2\n"
     ]
    }
   ],
   "source": [
    "m = 11//2\n",
    "print(type(m),type(m/2),type(round(m/2)))\n",
    "print(m,m/2,round(m/2))\n",
    "\n",
    "m = 5\n",
    "print(type(m),type(m/2),type(round(m/2)))\n",
    "print(m,m/2,round(m/2))\n",
    "\n",
    "m = 2.5\n",
    "print(type(m),type(round(m)))\n",
    "print(m, round(m))\n",
    "\n",
    "print(round(2.5))"
   ]
  },
  {
   "cell_type": "code",
   "execution_count": 4,
   "metadata": {},
   "outputs": [
    {
     "name": "stdout",
     "output_type": "stream",
     "text": [
      "[2, 4, 6]\n",
      "[7, 5, 1, 3, 9]\n"
     ]
    }
   ],
   "source": [
    "a = [7,2,4,5,1,3,6,9]\n",
    "odds=[]\n",
    "evens=[]\n",
    "i=0\n",
    "while i<len(a):\n",
    "    evens.append(a[i]) if a[i]&1^1 else odds.append(a[i])\n",
    "    i+=1\n",
    "print(evens)\n",
    "print(odds)"
   ]
  },
  {
   "cell_type": "code",
   "execution_count": null,
   "metadata": {},
   "outputs": [],
   "source": []
  }
 ],
 "metadata": {
  "kernelspec": {
   "display_name": "Python 3",
   "language": "python",
   "name": "python3"
  },
  "language_info": {
   "codemirror_mode": {
    "name": "ipython",
    "version": 3
   },
   "file_extension": ".py",
   "mimetype": "text/x-python",
   "name": "python",
   "nbconvert_exporter": "python",
   "pygments_lexer": "ipython3",
   "version": "3.6.1"
  }
 },
 "nbformat": 4,
 "nbformat_minor": 2
}

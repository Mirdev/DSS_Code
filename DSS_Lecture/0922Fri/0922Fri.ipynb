{
 "cells": [
  {
   "cell_type": "code",
   "execution_count": null,
   "metadata": {
    "collapsed": true
   },
   "outputs": [],
   "source": [
    "#cracking the coding interview <- 코딩 인터뷰 완전 분석\n",
    "#데사가 되기위한 100가지 질문??\n",
    "\n",
    "#knp algorithm?\n",
    "\n",
    "#1. 두개의 사각형 겹치나 판단!\n",
    "  #(x1, y1, h1, l1), (x2, y2, h2, l2)\n",
    "#2. TV에 대한 가격을 n명이 예상, n개의 정렬된 추측이 주어짐. 정확한 가격을 알 때 top k guess(가장 근접한)를 찾으시오\n",
    "  #정렬 => nlogn 근데 더 빠르게 => logn + K\n",
    "#3. Anagram 판별\n",
    "  #정렬안시키고\n",
    "#4. 주어진 문자열 같은 문자가 나란히x 재배열\n",
    "\n",
    "#대화하면서 => 이건 어떻게 될 것 같다 - 허락 후 코딩"
   ]
  }
 ],
 "metadata": {
  "kernelspec": {
   "display_name": "Python 3",
   "language": "python",
   "name": "python3"
  },
  "language_info": {
   "codemirror_mode": {
    "name": "ipython",
    "version": 3
   },
   "file_extension": ".py",
   "mimetype": "text/x-python",
   "name": "python",
   "nbconvert_exporter": "python",
   "pygments_lexer": "ipython3",
   "version": "3.6.1"
  }
 },
 "nbformat": 4,
 "nbformat_minor": 2
}

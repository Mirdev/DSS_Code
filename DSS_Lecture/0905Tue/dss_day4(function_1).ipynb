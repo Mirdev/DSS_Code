{
 "cells": [
  {
   "cell_type": "markdown",
   "metadata": {},
   "source": [
    "# Function 1\n",
    "\n",
    "## 학습목표\n",
    " 1. 함수의 이해\n",
    " 2. 함수 구현 및 사용 숙지\n",
    " 3. 재귀함수 구현 및 사용 숙지"
   ]
  },
  {
   "cell_type": "markdown",
   "metadata": {},
   "source": [
    "## Function basic "
   ]
  },
  {
   "cell_type": "code",
   "execution_count": null,
   "metadata": {
    "collapsed": true
   },
   "outputs": [],
   "source": []
  },
  {
   "cell_type": "markdown",
   "metadata": {},
   "source": [
    "* 지금까지 무심코 코드에서 사용된 많은 함수들이 존재 합니다.\n",
    "* 예를들면, sum, len, range 같은 함수 등이 있죠.\n",
    "* 함수란 우리가 알고있는 개념처럼 주어진 입력(input)에 대해서 의도된 출력(output)를 전달하는 역할을 합니다.\n",
    "\n",
    "* 그렇다면, 하나씩 살펴보겠습니다.\n",
    "  > range 함수는 정수를 입력으로 전달하면 [0, 정수) 로 이루어진 리스트를 생성하는 역할을 합니다.\n",
    "  \n",
    "  > sum 함수는 리스트, 튜플등을 입력으로 전달하면 전체 아이템의 합을 출력으로 전달하는 역할을 합니다.\n",
    "  \n",
    "  > len 함수는 리스트, 튜플등을 입력으로 전달하면 아이템의 개수를 출력으로 전달하는 역할을 합니다.\n",
    "  \n",
    "* 그리고, 위의 함수들은 모두 python 내부에 이미 정의(구현)이 되어 있습니다.\n",
    "* 위와 같은 함수를 내장함수(built-in function)이라고 합니다."
   ]
  },
  {
   "cell_type": "code",
   "execution_count": null,
   "metadata": {
    "collapsed": true
   },
   "outputs": [],
   "source": [
    "# 내장 함수의 예\n",
    "\n",
    "nums = list(range(11))\n",
    "print(sum(nums))\n",
    "print(len(nums))\n",
    "\n",
    "print(add(2, 3)) # add는 정의 되어 있지 않아 오류 발생"
   ]
  },
  {
   "cell_type": "markdown",
   "metadata": {},
   "source": [
    "* **함수의 정의**\n",
    "  + 정의 시 최초에 def 키워드 사용\n",
    "  + argument 정의 (함수에 입력으로 전달하는 값을 의미, argument 또는 parameter라고 함) \n",
    "  + : (콜론) -> 함수 역시 코드 블록이기 때문에 콜론(:) 필요\n",
    "  + body (함수의 구현 부분, 함수 역시 코드 블록이기 때문에 들여쓰기 된 부분까지 함수의 코드블록으로 인지 함)\n",
    "    - 함수를 호출한 코드 (caller)로 함수가 해당 기능을 수행하고 완료된 값(output)을 전달하기 위해 return 키워드 사용\n",
    "    - 즉, return 이후에 오는 값을 caller로 전달\n",
    "  + 함수의 네이밍 역시 중요\n",
    "    - 즉, 어떤 기능을 하는 함수인지 이름으로 최대한 나타날 수 있게 해야함\n",
    "    - e.g) get_a (x) get_student_name (o)"
   ]
  },
  {
   "cell_type": "code",
   "execution_count": null,
   "metadata": {
    "collapsed": true
   },
   "outputs": [],
   "source": [
    "# add 함수의 정의\n",
    "def add(num1, num2):\n",
    "    # 전달받은 두개의 숫자를 합하여 return \n",
    "    return num1 + num2"
   ]
  },
  {
   "cell_type": "code",
   "execution_count": null,
   "metadata": {
    "collapsed": true
   },
   "outputs": [],
   "source": [
    "# add2 함수의 정의\n",
    "def add2(num1, num2):\n",
    "    print('function is called...')\n",
    "    print(num1, num2)\n",
    "    \n",
    "    # 전달받은 두개의 숫자를 합하여 return \n",
    "    return num1 + num2"
   ]
  },
  {
   "cell_type": "markdown",
   "metadata": {},
   "source": [
    "* **exercise** 함수를 정의해 봅시다.\n",
    "1. 전달받은 3개의 숫자를 한줄에 출력 한뒤, 세 숫자의 곱을 반환하는 함수를 만드세요\n",
    "2. 문자열 2개를 전달받아 앞의 문자열이 뒤의 문자열에 포함되는지 판단(True, False)하는 함수를 만드세요\n",
    "3. 정수 한개를 입력 받아, 그것이 소수인지 아닌지 판단(True, False)하는 함수를 만드세요"
   ]
  },
  {
   "cell_type": "code",
   "execution_count": 26,
   "metadata": {},
   "outputs": [
    {
     "name": "stdout",
     "output_type": "stream",
     "text": [
      "10 11 2\n"
     ]
    },
    {
     "data": {
      "text/plain": [
       "220"
      ]
     },
     "execution_count": 26,
     "metadata": {},
     "output_type": "execute_result"
    }
   ],
   "source": [
    "def exercise(a, b, c):\n",
    "    print(a, b, c)\n",
    "    return a*b*c\n",
    "\n",
    "exercise(10,11,2)"
   ]
  },
  {
   "cell_type": "code",
   "execution_count": 8,
   "metadata": {},
   "outputs": [
    {
     "data": {
      "text/plain": [
       "False"
      ]
     },
     "execution_count": 8,
     "metadata": {},
     "output_type": "execute_result"
    }
   ],
   "source": [
    "def is_in(str1, str2):\n",
    "    if len(str1) < len(str2):\n",
    "        for i in range(len(str1)):\n",
    "            for j in range(len(str2)):\n",
    "                if str1[i] == str2[j]:\n",
    "                    k = j\n",
    "                    while k<len(str2)-k:\n",
    "                        if str1[k]!=str2[k]:\n",
    "                            break\n",
    "                        k +=1\n",
    "                    else:\n",
    "                        return True\n",
    "    return False\n",
    "\n",
    "is_in(\"abcd\", \"fabc\")"
   ]
  },
  {
   "cell_type": "code",
   "execution_count": 7,
   "metadata": {},
   "outputs": [
    {
     "data": {
      "text/plain": [
       "False"
      ]
     },
     "execution_count": 7,
     "metadata": {},
     "output_type": "execute_result"
    }
   ],
   "source": [
    "def is_substring(s1, s2):\n",
    "    return s1 in s2\n",
    "\n",
    "is_substring(\"abcd\", \"fabc\")"
   ]
  },
  {
   "cell_type": "code",
   "execution_count": 27,
   "metadata": {},
   "outputs": [
    {
     "data": {
      "text/plain": [
       "False"
      ]
     },
     "execution_count": 27,
     "metadata": {},
     "output_type": "execute_result"
    }
   ],
   "source": [
    "from math import sqrt\n",
    "def is_prime(n):\n",
    "    for i in range(2,int(sqrt(n))+1):\n",
    "        if n%i == 0:\n",
    "            return False\n",
    "    return True\n",
    "\n",
    "is_prime(100)"
   ]
  },
  {
   "cell_type": "markdown",
   "metadata": {},
   "source": [
    "* **함수의 사용(호출)**\n",
    " + 함수명(파라미터1, 파라미터2, ... 파라미터n)\n",
    " + 위와 같이 정의 된 함수의 이름과 전달되는 parameter(인자)를 괄호안에 전달하여 함수를 호출\n",
    " + 함수가 호출되면 실행의 흐름이 호출자(caller)에서 함수(callee)로 변경 됨\n",
    " \n",
    " + 함수의 입력(인풋) 파라미터(parameter), 아규먼트(argument)라고도 함"
   ]
  },
  {
   "cell_type": "code",
   "execution_count": null,
   "metadata": {
    "collapsed": true
   },
   "outputs": [],
   "source": []
  },
  {
   "cell_type": "code",
   "execution_count": null,
   "metadata": {
    "collapsed": true
   },
   "outputs": [],
   "source": []
  },
  {
   "cell_type": "markdown",
   "metadata": {},
   "source": [
    "* **함수 네이밍(naming)**\n",
    "  * 함수 이름으로부터 기능이 명시 \n",
    "  * 의미와 반대되거나 맞지 않는 이름은 사용금지"
   ]
  },
  {
   "cell_type": "code",
   "execution_count": null,
   "metadata": {
    "collapsed": true
   },
   "outputs": [],
   "source": [
    "def substract(num1, num2):\n",
    "    return num1 - num2\n",
    "\n",
    "def substract(num1, num2):\n",
    "    return num1 + num2\n",
    "\n",
    "print(substract(5, 4))"
   ]
  },
  {
   "cell_type": "markdown",
   "metadata": {},
   "source": [
    "* **parameter(argument) (인자)**\n",
    " + 함수에 전달되는 입력(input)\n",
    " + 입력이 필요하지 않을 수도, 1개의 입력만 있을 수도, 여러개의 입력이 존재할 수 도 있음\n",
    " + 파라미터로 int, string, float, boolm, list, dict 등등 어떤 파이썬 객체도 전달 가능\n",
    " + 심지어, 함수도 함수의 파라미터로 전달 가능\n",
    " \n",
    " + python의 경우, 타입 명시가 없기 때문에, 함수 생성 시, 의도된 파라미터의 타입에 맞게 입력을 전달하는 것이 중요\n",
    " + 또한 파라미터를 전달 할 때, 정의된 순서에 따라 값을 전달하는 것이 중요\n"
   ]
  },
  {
   "cell_type": "code",
   "execution_count": null,
   "metadata": {
    "collapsed": true
   },
   "outputs": [],
   "source": [
    "# string이라는 파라미터 1개를 입력으로 받도록 의도\n",
    "# 또한, 길이를 구하기 위해 의도 하였으므로 리스트, 문자열 등의 타입이 전달 되는 것을 의도\n",
    "def len2(string):\n",
    "    return len(string)\n",
    "\n",
    "print(len2('test'))\n",
    "print(len2([1, 2, 3, 4]))"
   ]
  },
  {
   "cell_type": "markdown",
   "metadata": {},
   "source": [
    "* **exercise**)\n",
    "아래 두 코드는 실행시 오류가 발생합니다. 각각 이유를 말하시오"
   ]
  },
  {
   "cell_type": "code",
   "execution_count": null,
   "metadata": {
    "collapsed": true
   },
   "outputs": [],
   "source": [
    "# 함수를 잘못 사용한 예\n",
    "print(len2('test2', 23))\n",
    "print(len2(23))"
   ]
  },
  {
   "cell_type": "markdown",
   "metadata": {},
   "source": [
    "* **Default parameter (기본 인자) ** \n",
    " + 함수의 파라미터에 기본값 지정 가능\n",
    " + 파라미터를 명시하지 않을 경우, 지정된 기본값으로 대체"
   ]
  },
  {
   "cell_type": "code",
   "execution_count": null,
   "metadata": {
    "collapsed": true
   },
   "outputs": [],
   "source": [
    "def print_hello(nums='hello world'):\n",
    "    print(nums)\n",
    "    \n",
    "print_hello('hi world')\n",
    "\n",
    "# 전달하지 않은 경우 기본 파라미터가 전달\n",
    "print_hello()"
   ]
  },
  {
   "cell_type": "markdown",
   "metadata": {},
   "source": [
    "* **기본 파라미터의 다른 예**\n",
    " - print 함수\n",
    "   - sep, end, file등 여러 기본 파라미터를 가짐 "
   ]
  },
  {
   "cell_type": "code",
   "execution_count": 29,
   "metadata": {},
   "outputs": [
    {
     "name": "stdout",
     "output_type": "stream",
     "text": [
      "10???10\n"
     ]
    }
   ],
   "source": [
    "a = 10\n",
    "b = 10\n",
    "\n",
    "# 두 변수 사이의 구분자 재지정\n",
    "print(a, b, sep='???')"
   ]
  },
  {
   "cell_type": "code",
   "execution_count": 30,
   "metadata": {
    "collapsed": true
   },
   "outputs": [],
   "source": [
    "# 출력 위치 설정( 기본값 : 표준 출력)\n",
    "print(a, file=open('a.txt', 'w'))"
   ]
  },
  {
   "cell_type": "markdown",
   "metadata": {},
   "source": [
    "* **exercise** \n",
    "  * 다음 조건을 만족하는 add3함수를 작성하시오.\n",
    "    * 파라미터 : 정수 파라미터 2개 (두번째 정수가, 입력되지 않은 경우 기본값으로 10 설정)\n",
    "    * 반환 값 : 입력된 두 정수의 합\n",
    "  \n",
    "  "
   ]
  },
  {
   "cell_type": "code",
   "execution_count": 31,
   "metadata": {},
   "outputs": [
    {
     "data": {
      "text/plain": [
       "20"
      ]
     },
     "execution_count": 31,
     "metadata": {},
     "output_type": "execute_result"
    }
   ],
   "source": [
    "def add3(a, b=10):\n",
    "    return a+b\n",
    "add3(10)"
   ]
  },
  {
   "cell_type": "markdown",
   "metadata": {},
   "source": [
    "* ** Default parameter 사용 시 주의 점**\n",
    "  * 디폴트 파라미터 뒤에 일반 파라미터가 위치할 수 없음\n",
    "  \n",
    "  * e.g) 올바른 예\n",
    "    > def test(a, b, c = 1)\n",
    "    \n",
    "    > def test(a, b = 1, c = 2)\n",
    "    \n",
    "    > def test(a = 1, b = 1, c = 3)\n",
    "    \n",
    "  * e.g) 올바르지 않은 예\n",
    "    > def test(a, b = 1, c)\n",
    "    \n",
    "    > def test(a = 1, b, c)\n",
    "    \n",
    "    > def test(a = 1, b = 1, c)"
   ]
  },
  {
   "cell_type": "code",
   "execution_count": null,
   "metadata": {
    "collapsed": true
   },
   "outputs": [],
   "source": [
    "def increment_by(a, b = 1):\n",
    "    return a + b"
   ]
  },
  {
   "cell_type": "code",
   "execution_count": null,
   "metadata": {
    "collapsed": true
   },
   "outputs": [],
   "source": [
    "# 올바른 호출\n",
    "print(increment_by(45))\n",
    "print(increment_by(34, 10))"
   ]
  },
  {
   "cell_type": "code",
   "execution_count": null,
   "metadata": {
    "collapsed": true
   },
   "outputs": [],
   "source": [
    "# 올바르지 않은 호출\n",
    "print(increment_by())\n",
    "\n",
    "# 이유는?"
   ]
  },
  {
   "cell_type": "markdown",
   "metadata": {},
   "source": [
    "* **keyword parameter (키워드 파라미터)**\n",
    "  * 파이썬의 경우, 파라미터에 값을 전달 할 때, 파라미터의 이름을 명시하여 전달 가능\n",
    "  * 파라미터 이름을 사용하지 않을 경우, 기본적으로 순서에 맞게 전달"
   ]
  },
  {
   "cell_type": "code",
   "execution_count": 32,
   "metadata": {},
   "outputs": [
    {
     "name": "stdout",
     "output_type": "stream",
     "text": [
      "1 1 1 2\n",
      "1 1 3 4\n"
     ]
    }
   ],
   "source": [
    "def func_test(a, b, c = 1, d = 2):\n",
    "    print(a, b, c, d)\n",
    "\n",
    "# 일반적인 호출\n",
    "func_test(1, 1)\n",
    "func_test(1, 1, 3, 4)"
   ]
  },
  {
   "cell_type": "code",
   "execution_count": 33,
   "metadata": {},
   "outputs": [
    {
     "name": "stdout",
     "output_type": "stream",
     "text": [
      "4 2 1 2\n",
      "1 7 10 20\n",
      "1 2 4 5\n",
      "3 2 1 2\n",
      "3 2 1 2\n",
      "3 2 1 10\n"
     ]
    }
   ],
   "source": [
    "# 키워드 파라미터를 사용하는 호출\n",
    "func_test(b = 2, a = 4)\n",
    "func_test(1, 7, c = 10, d = 20)\n",
    "func_test(a = 1, b = 2, c = 4, d = 5)\n",
    "func_test(c = 1, d = 2, a = 3, b = 2)\n",
    "func_test(c = 1, a = 3, b = 2)\n",
    "func_test(d = 10, a = 3, b = 2)"
   ]
  },
  {
   "cell_type": "code",
   "execution_count": 34,
   "metadata": {},
   "outputs": [
    {
     "ename": "SyntaxError",
     "evalue": "positional argument follows keyword argument (<ipython-input-34-297d4e6952b5>, line 2)",
     "output_type": "error",
     "traceback": [
      "\u001b[0;36m  File \u001b[0;32m\"<ipython-input-34-297d4e6952b5>\"\u001b[0;36m, line \u001b[0;32m2\u001b[0m\n\u001b[0;31m    func_test(c = 1, d = 2, 1, 3)\u001b[0m\n\u001b[0m                           ^\u001b[0m\n\u001b[0;31mSyntaxError\u001b[0m\u001b[0;31m:\u001b[0m positional argument follows keyword argument\n"
     ]
    }
   ],
   "source": [
    "# 잘못된 호출\n",
    "func_test(c = 1, d = 2, 1, 3)\n",
    "func_test(c = 1, d = 2)\n",
    "func_test(1, c = 1, d = 2)\n",
    "func_test()"
   ]
  },
  {
   "cell_type": "markdown",
   "metadata": {},
   "source": [
    "* ** 연습문제) range 함수의 구현**\n",
    "  - loop를 이용하여 range함수를 직접 구현해보세요 "
   ]
  },
  {
   "cell_type": "code",
   "execution_count": null,
   "metadata": {
    "collapsed": true
   },
   "outputs": [],
   "source": [
    "list(range(10))\n",
    "list(range(1, 10))\n",
    "list(range(1, 10, 2))\n",
    "range"
   ]
  },
  {
   "cell_type": "code",
   "execution_count": 43,
   "metadata": {},
   "outputs": [
    {
     "ename": "TypeError",
     "evalue": "range2() takes from 1 to 2 positional arguments but 3 were given",
     "output_type": "error",
     "traceback": [
      "\u001b[0;31m---------------------------------------------------------------------------\u001b[0m",
      "\u001b[0;31mTypeError\u001b[0m                                 Traceback (most recent call last)",
      "\u001b[0;32m<ipython-input-43-5abb84c87cbc>\u001b[0m in \u001b[0;36m<module>\u001b[0;34m()\u001b[0m\n\u001b[1;32m     14\u001b[0m     \u001b[0;32mreturn\u001b[0m \u001b[0mls\u001b[0m\u001b[0;34m\u001b[0m\u001b[0m\n\u001b[1;32m     15\u001b[0m \u001b[0;34m\u001b[0m\u001b[0m\n\u001b[0;32m---> 16\u001b[0;31m \u001b[0mrange2\u001b[0m\u001b[0;34m(\u001b[0m\u001b[0;36m1\u001b[0m\u001b[0;34m,\u001b[0m \u001b[0;36m10\u001b[0m\u001b[0;34m,\u001b[0m \u001b[0;36m2\u001b[0m\u001b[0;34m)\u001b[0m\u001b[0;34m\u001b[0m\u001b[0m\n\u001b[0m",
      "\u001b[0;31mTypeError\u001b[0m: range2() takes from 1 to 2 positional arguments but 3 were given"
     ]
    }
   ],
   "source": [
    "def range2(stt, stp, step=1):\n",
    "    ls = []\n",
    "    i=stt\n",
    "    while i<stp:\n",
    "        ls.append(i)\n",
    "        i+=step\n",
    "    return ls\n",
    "def range2(stp, step=1):\n",
    "    ls = []\n",
    "    i=0\n",
    "    while i<stp:\n",
    "        ls.append(i)\n",
    "        i+=step\n",
    "    return ls\n",
    "\n",
    "range2(1, 10, 2)"
   ]
  },
  {
   "cell_type": "markdown",
   "metadata": {},
   "source": [
    "* **return (리턴)**\n",
    " + 기본적으로 함수의 종료를 명시\n",
    "   + return 옆에 값이나 수식이 있다면 해당 값을 호출자(caller)에게 반환(전달)\n",
    "   + return 만 존재하면 None 반환\n",
    "   + return이 없는 경우, 기본적으로 함수 코드 블록이 종료되면 종료로 간주. 이때도 None 반환"
   ]
  },
  {
   "cell_type": "code",
   "execution_count": null,
   "metadata": {
    "collapsed": true
   },
   "outputs": [],
   "source": [
    "# 1을 반환하는 함수 생성\n",
    "def simple():\n",
    "    print('hahah')\n",
    "    print('hohohs')\n",
    "    return 1\n",
    "\n",
    "    print('hahah')"
   ]
  },
  {
   "cell_type": "code",
   "execution_count": null,
   "metadata": {
    "collapsed": true
   },
   "outputs": [],
   "source": [
    "# simple 함수 호출\n",
    "simple()"
   ]
  },
  {
   "cell_type": "code",
   "execution_count": null,
   "metadata": {
    "collapsed": true
   },
   "outputs": [],
   "source": [
    "# simple 함수 호출 결과를 s 변수에 대입\n",
    "# caller는 현재 cell이며, simple의 코드가 수행된 후, 반환값으로 1을 전달 하였기 때문에\n",
    "# s에 1이 대입\n",
    "s = simple()\n",
    "print(s)"
   ]
  },
  {
   "cell_type": "code",
   "execution_count": 35,
   "metadata": {
    "collapsed": true
   },
   "outputs": [],
   "source": [
    "# 반환값이 없는 함수\n",
    "def print_something(a):\n",
    "    print('hi there')\n",
    "    print(a)\n",
    "    print('see you again')"
   ]
  },
  {
   "cell_type": "code",
   "execution_count": 36,
   "metadata": {},
   "outputs": [
    {
     "name": "stdout",
     "output_type": "stream",
     "text": [
      "hi there\n",
      "dds\n",
      "see you again\n"
     ]
    }
   ],
   "source": [
    "print_something('dds')"
   ]
  },
  {
   "cell_type": "code",
   "execution_count": 37,
   "metadata": {},
   "outputs": [
    {
     "name": "stdout",
     "output_type": "stream",
     "text": [
      "hi there\n",
      "dds\n",
      "see you again\n",
      "None\n"
     ]
    }
   ],
   "source": [
    "# 해당 함수는 아무것도 반환하지 않으므로, None 반환\n",
    "# 즉, 변수 c에는 None 대입\n",
    "c = print_something('dds')\n",
    "print(c)"
   ]
  },
  {
   "cell_type": "code",
   "execution_count": null,
   "metadata": {
    "collapsed": true
   },
   "outputs": [],
   "source": [
    "# return 만 명시하여도 None을 반환\n",
    "def just_return():\n",
    "    a = 1\n",
    "    b = 1\n",
    "    return \n",
    "    #return None\n",
    "\n",
    "c = just_return()\n",
    "print(c)"
   ]
  },
  {
   "cell_type": "markdown",
   "metadata": {},
   "source": [
    "* **exercise** \n",
    "0에서 부터 주어진 정수값의 두배 크기까지의 숫자를 차례대로 갖는 리스트를 생성하여 반환하는 함수를 만드시오"
   ]
  },
  {
   "cell_type": "code",
   "execution_count": 40,
   "metadata": {},
   "outputs": [
    {
     "data": {
      "text/plain": [
       "[0, 1, 2, 3, 4, 5, 6, 7, 8, 9, 10]"
      ]
     },
     "execution_count": 40,
     "metadata": {},
     "output_type": "execute_result"
    }
   ],
   "source": [
    "def exercise0(n):\n",
    "    return list(range(n*2+1))\n",
    "\n",
    "exercise0(5)"
   ]
  },
  {
   "cell_type": "markdown",
   "metadata": {},
   "source": [
    "* **multiple return (복수 값 반환)**\n",
    " + tuple반환을 하여 복수개의 값 리턴 가능"
   ]
  },
  {
   "cell_type": "code",
   "execution_count": null,
   "metadata": {
    "collapsed": true
   },
   "outputs": [],
   "source": [
    "# 이런 경우는 지양하는 것이 좋음\n",
    "# 함수 한개가 한개의 기능만을 수행하도록 함\n",
    "def add_sub(a, b):\n",
    "    return a+b, a-b\n",
    "\n",
    "def add(a, b):\n",
    "    return a + b\n",
    "\n",
    "def sub(a, b):\n",
    "    return a - b"
   ]
  },
  {
   "cell_type": "code",
   "execution_count": null,
   "metadata": {
    "collapsed": true
   },
   "outputs": [],
   "source": [
    "# 튜플을 반환\n",
    "c = add_sub(4, 5)\n",
    "\n",
    "# 튜를 언박싱으로 각각 값을 변수에 대입\n",
    "e, f = add_sub(4, 5)\n",
    "\n",
    "print(type(c), c)\n",
    "print(e, f)"
   ]
  },
  {
   "cell_type": "markdown",
   "metadata": {},
   "source": [
    "* **variable scope (변수의 범위)** \n",
    " + 변수가 참조 가능한 코드상의 범위를 명시\n",
    " + 함수내의 변수는 자신이 속한 코드 블록이 종료되면 소멸됨\n",
    " + 이렇게 특정 코드 블록에서 선언된 변수를 **지역변수(local variable)** 이라고 함\n",
    " + 반대로 가장 상단에서 정의되어 프로그램 종료 전까지 유지되는 변수를 **전역변수(global variable)**이라고 함\n",
    " + 같은 이름의 지역변수와 전역변수가 존재할 경우, 지역변수의 우선순위가 더 높음"
   ]
  },
  {
   "cell_type": "code",
   "execution_count": 44,
   "metadata": {},
   "outputs": [
    {
     "name": "stdout",
     "output_type": "stream",
     "text": [
      "java\n",
      "Python\n"
     ]
    }
   ],
   "source": [
    "def f(): \n",
    "    s = 'java'\n",
    "    print(s) # 지역변수 s를 출력\n",
    "    \n",
    "s = \"Python\"\n",
    "\n",
    "f()\n",
    "\n",
    "print(s)"
   ]
  },
  {
   "cell_type": "code",
   "execution_count": 45,
   "metadata": {
    "collapsed": true
   },
   "outputs": [],
   "source": [
    "del s # 아래 예제를 위해 전역 변수 s 삭제"
   ]
  },
  {
   "cell_type": "code",
   "execution_count": 46,
   "metadata": {},
   "outputs": [
    {
     "name": "stdout",
     "output_type": "stream",
     "text": [
      "Perl\n",
      "None\n"
     ]
    },
    {
     "ename": "NameError",
     "evalue": "name 's' is not defined",
     "output_type": "error",
     "traceback": [
      "\u001b[0;31m---------------------------------------------------------------------------\u001b[0m",
      "\u001b[0;31mNameError\u001b[0m                                 Traceback (most recent call last)",
      "\u001b[0;32m<ipython-input-46-d00763e00278>\u001b[0m in \u001b[0;36m<module>\u001b[0;34m()\u001b[0m\n\u001b[1;32m      5\u001b[0m \u001b[0mprint\u001b[0m\u001b[0;34m(\u001b[0m\u001b[0mf\u001b[0m\u001b[0;34m(\u001b[0m\u001b[0;34m)\u001b[0m\u001b[0;34m)\u001b[0m\u001b[0;34m\u001b[0m\u001b[0m\n\u001b[1;32m      6\u001b[0m \u001b[0;34m\u001b[0m\u001b[0m\n\u001b[0;32m----> 7\u001b[0;31m \u001b[0mprint\u001b[0m\u001b[0;34m(\u001b[0m\u001b[0ms\u001b[0m\u001b[0;34m)\u001b[0m\u001b[0;34m\u001b[0m\u001b[0m\n\u001b[0m\u001b[1;32m      8\u001b[0m \u001b[0;31m# s는 함수f의 지역변수였기 때문에 함수가 종료되면서 scope이 종료되어 사라짐, 따라서 오류 발생\u001b[0m\u001b[0;34m\u001b[0m\u001b[0;34m\u001b[0m\u001b[0m\n",
      "\u001b[0;31mNameError\u001b[0m: name 's' is not defined"
     ]
    }
   ],
   "source": [
    "def f(): \n",
    "    s = \"Perl\" # 로컬 변수 생성\n",
    "    print(s) \n",
    "\n",
    "print(f())\n",
    "\n",
    "print(s) \n",
    "# s는 함수f의 지역변수였기 때문에 함수가 종료되면서 scope이 종료되어 사라짐, 따라서 오류 발생"
   ]
  },
  {
   "cell_type": "code",
   "execution_count": 47,
   "metadata": {},
   "outputs": [
    {
     "name": "stdout",
     "output_type": "stream",
     "text": [
      "Python\n"
     ]
    }
   ],
   "source": [
    "def f():\n",
    "    print(s) \n",
    "    \n",
    "s = 'Python'\n",
    "\n",
    "f()"
   ]
  },
  {
   "cell_type": "code",
   "execution_count": null,
   "metadata": {
    "collapsed": true
   },
   "outputs": [],
   "source": [
    "def f():\n",
    "    global s # 명시적으로 global variable 임을 명시 해야 함\n",
    "    print(s)\n",
    "    s = \"dog\" # 지역변수가 아닌, 전역변수가 인식 (새로운 변수를 만드는 것이 아닌 전역변수에 새로운 값 대입)\n",
    "    print(s) \n",
    "    \n",
    "s = \"cat\" \n",
    "print(s)\n",
    "\n",
    "f()\n",
    "print(s)\n",
    "\n",
    "#g_s (global)"
   ]
  },
  {
   "cell_type": "markdown",
   "metadata": {},
   "source": [
    "* 연습문제 \n",
    " 1. 섭씨 온도를 입력받아, 화씨 온도로 변환하는 함수를 만들고, 섭씨 36.5의 화씨 값을 출력하세요. 화씨 = 섭씨x1.8 + 32\n",
    " 2. 숫자로 이루어진 리스트를 입력 받아, 그 수 중 홀수인 경우만 합하여 반환하는 함수를 만드세요.\n",
    " 3. 숫자로 이루어진 리스트를 입력 받아, 그 수 중 가장 큰 수를 반환하는 함수를 만드세요.\n",
    " 4. 문자열을 입력받아 거꾸로된 문자열을 반환하는 함수를 만드세요. \n",
    " 5. 숫자를 입력 받아 factorial을 반환하는 함수를 만드세요. 5! = factorial(5) = 5x4x3x2x1\n",
    " 6. 숫자로 이루어진 리스트를 입력 받아, 중복을 제거한 리스트만 반환하는 함수를 만드세요. 반환되는 리스트의 순서는 관계 없음 [1,1, 2, 3, 3, 2, 4] -> [1, 2, 3, 4]\n",
    " 7. 숫자로 이루어진 리스트를 입력 받아, 특정 숫자를 검색하는 함수를 만드세요. 없는 경우 -1 반환\n",
    " 8. 정렬된 숫자로 이루어진 리스트를 입력 받아, 이진탐색으로 특정 숫자를 검색하는 함수를 만드세요. 없는 경우 -1 반환\n",
    " 9. 두개의 정수 리스트를 입력 받아, 두 리스트에 모두 포함된 숫자만 갖는 리스트를 반환하시오. 이때, 생성되는 리스트는 정렬할 필요가 없습니다."
   ]
  },
  {
   "cell_type": "code",
   "execution_count": 1,
   "metadata": {},
   "outputs": [
    {
     "name": "stdout",
     "output_type": "stream",
     "text": [
      "97.7\n"
     ]
    }
   ],
   "source": [
    "def c2f(c):\n",
    "    return c*1.8+32\n",
    "print(c2f(36.5))"
   ]
  },
  {
   "cell_type": "code",
   "execution_count": 2,
   "metadata": {},
   "outputs": [
    {
     "name": "stdout",
     "output_type": "stream",
     "text": [
      "25\n"
     ]
    }
   ],
   "source": [
    "lst = [1,2,3,4,5,6,7,8,9]\n",
    "def soos(ls):\n",
    "    return sum(i for i in ls if i&1)\n",
    "print(soos(lst))"
   ]
  },
  {
   "cell_type": "code",
   "execution_count": 3,
   "metadata": {},
   "outputs": [
    {
     "name": "stdout",
     "output_type": "stream",
     "text": [
      "9\n"
     ]
    }
   ],
   "source": [
    "def mol(ls):\n",
    "    return max(ls)\n",
    "print(mol(lst))"
   ]
  },
  {
   "cell_type": "code",
   "execution_count": 21,
   "metadata": {},
   "outputs": [
    {
     "name": "stdout",
     "output_type": "stream",
     "text": [
      "input string >> abc\n",
      "cba\n"
     ]
    }
   ],
   "source": [
    "st = input(\"input string >> \")\n",
    "def rst(s):\n",
    "    return ''.join(list(reversed(st)))\n",
    "print(rst(st))\n",
    "#st[::-1]"
   ]
  },
  {
   "cell_type": "code",
   "execution_count": 42,
   "metadata": {},
   "outputs": [
    {
     "name": "stdout",
     "output_type": "stream",
     "text": [
      "120\n"
     ]
    }
   ],
   "source": [
    "def fac(n):\n",
    "    f=1\n",
    "    for i in range(2,n+1) : f *= i\n",
    "    return f\n",
    "print(fac(5))"
   ]
  },
  {
   "cell_type": "code",
   "execution_count": 25,
   "metadata": {},
   "outputs": [
    {
     "name": "stdout",
     "output_type": "stream",
     "text": [
      "[1, 2, 3, 4]\n"
     ]
    }
   ],
   "source": [
    "lst = [1, 1, 2, 3, 3, 2, 4]\n",
    "def doo(ls):\n",
    "    return list(set(ls))\n",
    "print(doo(lst))"
   ]
  },
  {
   "cell_type": "code",
   "execution_count": 32,
   "metadata": {},
   "outputs": [
    {
     "name": "stdout",
     "output_type": "stream",
     "text": [
      "7\n"
     ]
    }
   ],
   "source": [
    "lst = [0,1,2,3,4,5,6,7,8,9]\n",
    "def search(ls, n):\n",
    "    for i in ls:\n",
    "        if i == n : return i\n",
    "    else : return -1\n",
    "print(search(lst, 7))"
   ]
  },
  {
   "cell_type": "code",
   "execution_count": null,
   "metadata": {
    "collapsed": true
   },
   "outputs": [],
   "source": [
    "lst = [0,1,2,3,4,5,6,7,8,9]\n",
    "lst.sort()\n",
    "def search(ls, n):\n",
    "    s, e = 0, len(ls)-1\n",
    "    while s<=e:\n",
    "        m = (s+e)//2\n",
    "        if ls[m] == n : return m\n",
    "        elif n < ls[m] : e = m-1\n",
    "        else : s = m+1\n",
    "    else : return -1\n",
    "print(search(lst, 7))"
   ]
  },
  {
   "cell_type": "code",
   "execution_count": 29,
   "metadata": {},
   "outputs": [
    {
     "name": "stdout",
     "output_type": "stream",
     "text": [
      "[3, 5, 7]\n"
     ]
    }
   ],
   "source": [
    "lst1 = [1,3,5,7,9]\n",
    "lst2 = [2,3,5,7]\n",
    "def cn(ls1, ls2):\n",
    "    return list(set(ls1).intersection(set(ls2)))\n",
    "print(cn(lst1, lst2))"
   ]
  },
  {
   "cell_type": "code",
   "execution_count": 46,
   "metadata": {},
   "outputs": [
    {
     "name": "stdout",
     "output_type": "stream",
     "text": [
      "[3, 5, 7]\n"
     ]
    }
   ],
   "source": [
    "lst1 = [1,3,5,7,9]\n",
    "lst2 = [7,3,5,2]\n",
    "def cn_i(ls1, ls2):\n",
    "    lst = ls1 + ls2\n",
    "    res =[]\n",
    "    lst.sort()\n",
    "    for i in range(len(lst)-1):\n",
    "        if lst[i] == lst[i+1]:\n",
    "            res.append(lst[i])\n",
    "    return res\n",
    "        \n",
    "print(cn_i(lst1, lst2))"
   ]
  },
  {
   "cell_type": "code",
   "execution_count": 47,
   "metadata": {
    "collapsed": true
   },
   "outputs": [],
   "source": [
    "#dict = myway : 한줄로 쌓아서 카운트하고 1 넘으면 출력\n",
    "#2중 포문 돌지만 dict로 한 시간을 1로 만듦\n",
    "#cpu meory trade off\n",
    "def get_items_in_both(num1, num2):\n",
    "    result = []\n",
    "    d = {n:1 for n in num2}\n",
    "    for i in num1:\n",
    "        if i in d:\n",
    "            result.append(i)\n",
    "    return result"
   ]
  },
  {
   "cell_type": "markdown",
   "metadata": {},
   "source": [
    "+ **variable length argument (가변길이 인자)**\n",
    " - 전달되는 파라미터의 개수가 고정적이지 않은 경우 사용\n",
    " - e.g)\n",
    "   - print 함수\n",
    "   - format 함수\n",
    "  \n",
    "> ***args**,  ****kwargs**\n",
    "\n",
    "> ***args**    : 파라미터를 튜플의 형태로 전달\n",
    "\n",
    "> ****kwargs** : 파리미터를 딕셔너리 형태로 전달(네임드 파라미터)"
   ]
  },
  {
   "cell_type": "code",
   "execution_count": 48,
   "metadata": {},
   "outputs": [
    {
     "name": "stdout",
     "output_type": "stream",
     "text": [
      "formal arg: (1, 'two', 'three') <class 'tuple'>\n",
      "another arg: 1\n",
      "another arg: two\n",
      "another arg: three\n",
      "--------------------------------------------------\n",
      "formal arg: (1, 'two') <class 'tuple'>\n",
      "another arg: 1\n",
      "another arg: two\n",
      "--------------------------------------------------\n",
      "formal arg: (1,) <class 'tuple'>\n",
      "another arg: 1\n",
      "--------------------------------------------------\n",
      "formal arg: () <class 'tuple'>\n",
      "--------------------------------------------------\n"
     ]
    }
   ],
   "source": [
    "# 파라미터 이름 앞에 *가 붙어 가변인수로 정의\n",
    "def test_var_args(*args):\n",
    "    print(\"formal arg:\", args, type(args))\n",
    "    \n",
    "    for arg in args:\n",
    "        print(\"another arg:\", arg)\n",
    "\n",
    "test_var_args(1, \"two\", 'three')\n",
    "print('-' * 50)\n",
    "\n",
    "test_var_args(1, 'two')\n",
    "print('-' * 50)\n",
    "\n",
    "test_var_args(1)\n",
    "print('-' * 50)\n",
    "\n",
    "test_var_args()\n",
    "print('-' * 50)"
   ]
  },
  {
   "cell_type": "code",
   "execution_count": null,
   "metadata": {
    "collapsed": true
   },
   "outputs": [],
   "source": [
    "# 파라미터 이름 앞에 *가 붙어 가변인수로 정의\n",
    "# 여기서는 첫번째 파라미터는 일반 파라미터\n",
    "def test_var_args(farg, *args):\n",
    "    print(\"formal arg:\", args, type(args))\n",
    "    \n",
    "    print(farg, end=' ')\n",
    "    for arg in args:\n",
    "        print(\"another arg:\", arg)\n",
    "\n",
    "test_var_args(1, \"two\", 'three')\n",
    "print('-' * 50)\n",
    "\n",
    "test_var_args(1, 'two')\n",
    "print('-' * 50)\n",
    "\n",
    "test_var_args(1)\n",
    "print('-' * 50)\n",
    "\n",
    "# 에러 발생. 이유는?\n",
    "test_var_args()\n",
    "print('-' * 50)"
   ]
  },
  {
   "cell_type": "code",
   "execution_count": null,
   "metadata": {
    "collapsed": true
   },
   "outputs": [],
   "source": [
    "# 위 함수와의 차이점은?\n",
    "# 두개의 파라미터 모두 일반 파라미터 이기 때문에 2개이 인자만 전달 할 수 있음\n",
    "def test_tuple_args(farg, tuple_args):\n",
    "    print(\"formal arg:\", farg)\n",
    "    print(type(tuple_args))\n",
    "    for arg in tuple_args:\n",
    "        print(\"another arg:\", arg)\n",
    "\n",
    "#test_tuple_args(1, \"two\", 3) 인자의 개수가 맞지 않아 에러 발생\n",
    "\n",
    "test_tuple_args(1, (\"two\", 3))\n",
    "print('-' * 30)\n",
    "\n",
    "#test_tuple_args(1) 인자의 개수가 맞지 않아 에러 발생"
   ]
  },
  {
   "cell_type": "markdown",
   "metadata": {},
   "source": [
    "* **keyword parameter (키워드 파라미터)**\n",
    " - \\**가 붙은 경우에는 키워드 파라미터로 인식\n",
    " - 즉 함수 호출 시, 파리미터의 이름과 값을 함께 전달 가능"
   ]
  },
  {
   "cell_type": "code",
   "execution_count": 50,
   "metadata": {},
   "outputs": [
    {
     "name": "stdout",
     "output_type": "stream",
     "text": [
      "<class 'dict'>\n",
      "another keyword arg: two: two\n",
      "another keyword arg: three: three\n"
     ]
    },
    {
     "data": {
      "text/plain": [
       "'Hello Tom, how are you today?'"
      ]
     },
     "execution_count": 50,
     "metadata": {},
     "output_type": "execute_result"
    }
   ],
   "source": [
    "# 키워드 파라미터, 딕셔너리 타입을 가짐\n",
    "# 키워드 파라미터 형태로 전달해야함\n",
    "def test_var_kwargs(**kwargs):\n",
    "    print(type(kwargs))\n",
    "    for key in kwargs:\n",
    "        #python 2\n",
    "        print(\"another keyword arg: %s: %s\" \\\n",
    "        % (key, kwargs[key]))\n",
    "\n",
    "test_var_kwargs(two = \"two\", three = 'three')\n",
    "\n",
    "#python 3\n",
    "name = 'Tom'\n",
    "'Hello {}, how are you {}{}'.format(name, 'today', '?')"
   ]
  },
  {
   "cell_type": "code",
   "execution_count": null,
   "metadata": {
    "collapsed": true
   },
   "outputs": [],
   "source": [
    "# 일반적인 경우, 아래와 같이 정의 하여 사용\n",
    "# kwags가 뒤에 위치하는 이유는?\n",
    "# print(1,2,3,4,sep=,end=)\n",
    "# 파라미터->가변길이 파라미터->키워드 파라미터\n",
    "def test_var_args(*args, **kwargs):\n",
    "    print(\"formal arg:\", args)\n",
    "    print(type(args))\n",
    "    print() \n",
    "    \n",
    "    for arg in args:\n",
    "        print(\"another arg:\", arg)\n",
    "        \n",
    "    for kw in kwargs:\n",
    "        print(kw, kwargs[kw])\n",
    "\n",
    "test_var_args(1, \"two\", 'three', a = 'aa', b = 'bb')"
   ]
  },
  {
   "cell_type": "markdown",
   "metadata": {},
   "source": [
    "* 고정길이 함수에 \\*, \\** 사용 \n",
    "  - 튜플 혹은 딕셔너리를 가변길이 인자로 변경하여 전달"
   ]
  },
  {
   "cell_type": "code",
   "execution_count": 51,
   "metadata": {},
   "outputs": [
    {
     "name": "stdout",
     "output_type": "stream",
     "text": [
      "arg1: two\n",
      "arg2: 3\n",
      "arg3: 1\n"
     ]
    }
   ],
   "source": [
    "def test_var_args_call(arg1, arg2, arg3):\n",
    "    print(\"arg1:\", arg1)\n",
    "    print(\"arg2:\", arg2)\n",
    "    print(\"arg3:\", arg3)\n",
    "\n",
    "args = (\"two\", 3, 1) #tuple\n",
    "test_var_args_call(*args) #unboxing              <=**************************"
   ]
  },
  {
   "cell_type": "code",
   "execution_count": null,
   "metadata": {
    "collapsed": true
   },
   "outputs": [],
   "source": [
    "def test_var_args_call(arg1, arg2, arg3):\n",
    "    print(\"arg1:\", arg1)\n",
    "    print(\"arg2:\", arg2)\n",
    "    print(\"arg3:\", arg3)\n",
    "\n",
    "kwargs = {\"arg3\": 3, \"arg2\": \"two\"}\n",
    "test_var_args_call(1, **kwargs) #dict unboxing, key value-parameter matching"
   ]
  },
  {
   "cell_type": "markdown",
   "metadata": {},
   "source": [
    "* e.g) 가변길이 함수의 대표적인 예\n",
    " **문자열 포맷 함수**\n",
    " - 여러가지 값과 포맷을 이용하여 문자열을 정의할 수 있는 함수\n",
    " - {} placeholder를 문자열 내에 위치 시킨 후, 해당 위치에 format함수로 전달된 값으로 대체하여 문자열 생성\n",
    " - 포맷 구성은 다음 링크 참조 : https://pyformat.info/"
   ]
  },
  {
   "cell_type": "code",
   "execution_count": null,
   "metadata": {
    "collapsed": true
   },
   "outputs": [],
   "source": [
    "str1 = 'Hi my name is {} and the weather is {}' \\\n",
    "                        .format('younghyo', 100)\n",
    "print(str1)"
   ]
  },
  {
   "cell_type": "code",
   "execution_count": 52,
   "metadata": {},
   "outputs": [
    {
     "name": "stdout",
     "output_type": "stream",
     "text": [
      "hello mike world pop\n",
      "hello world aaron\n",
      "Hello 100! my name is aaron 200\n",
      "Hello aaron! my name aaron is bryan\n",
      "Hello Tom! my name is Boby\n",
      "Wow it is a big number! 1,073,741,824\n",
      "Wow it is a big number! 3.1416\n",
      "Wow it is a big number! 3.14159\n",
      "Wow it is a big number! 1213.14159\n",
      "Wow it is a big number!  1213.1\n",
      "Wow it is a big number! 01213.1\n"
     ]
    }
   ],
   "source": [
    "#가변길이라 길이도 상관없고, 개수도 상관없고, 타입도 상관없다.\n",
    "aa = 'hello {} world {}'.format('mike', 'pop')\n",
    "print(aa)\n",
    "\n",
    "a = 'hello world {}'.format('aaron')\n",
    "print(a)\n",
    "\n",
    "b = 'Hello {}! my name is {} {}'.format(100, 'aaron', 200)\n",
    "print(b)\n",
    "\n",
    "# 순서 명시 가능\n",
    "# 순서가 명시 되지 않으면 왼쪽부터 0부터 시작\n",
    "            #               #\n",
    "b = 'Hello {1}! my name is {0}'.format('bryan', 'aaron')\n",
    "b = 'Hello {1}! my name {1} is {0}'.format('bryan', 'aaron') #여러번 써야 하는 경우\n",
    "print(b)\n",
    "\n",
    "c = 'Hello {aa}! my name is {bb}'.format(aa = 'Tom', bb = 'Boby') #키워드 파라미터\n",
    "print(c)\n",
    "\n",
    "# :기준으로 앞에는 순서나 파라미터. 뒤로는 이하\n",
    "# 정수 콤마로 표시\n",
    "d = 'Wow it is a big number! {:,}'.format(2 ** 30)\n",
    "print(d)\n",
    "\n",
    "# 숫자 precision 5자리로 제한(전체 유효숫자)\n",
    "d = 'Wow it is a big number! {:.5}'.format(3.14159262840725)\n",
    "print(d)\n",
    "\n",
    "# .이후의 precision 5자리로 제한\n",
    "d = 'Wow it is a big number! {:.5f}'.format(3.14159262840725)\n",
    "print(d)\n",
    "\n",
    "# 최소 7자리는 필요(차지) .이후 precision 5자리로 제한\n",
    "# 숫자의 경우 오른쪽 부터 채워짐. (패딩이 왼쪽에 위치)\n",
    "d = 'Wow it is a big number! {:7.5f}'.format(1213.14159262840725)\n",
    "print(d)\n",
    "\n",
    "# 최소 7자리는 필요 .이후 precision 1자리로 제한\n",
    "d = 'Wow it is a big number! {:7.1f}'.format(1213.14159262840725)\n",
    "print(d)\n",
    "\n",
    "# 패딩을 넣은 경우\n",
    "d = 'Wow it is a big number! {:07.1f}'.format(1213.14159262840725)\n",
    "print(d)"
   ]
  },
  {
   "cell_type": "code",
   "execution_count": null,
   "metadata": {
    "collapsed": true
   },
   "outputs": [],
   "source": [
    "# old style 문자열 포매팅\n",
    "d = 'Hello %s %d %s' % ('aaron', 4454, 'cathy')\n",
    "print(d)"
   ]
  },
  {
   "cell_type": "code",
   "execution_count": null,
   "metadata": {
    "collapsed": true
   },
   "outputs": [],
   "source": [
    "print('{}'.format(420))\n",
    "print('{0}'.format(420))\n",
    "\n",
    "# : 뒤에 포매팅 문법이 위치\n",
    "print('{:4}'.format(420)) # 4만큼의 길이 필요\n",
    "print('{:04}'.format(420)) # 4만큼의 길이가 필요하고 없으면 빈 공간은 0으로 채움\n",
    "print('{:06}'.format(4200)) # 6만큼의 길이가 필요하고 없으면 빈 공간은 0으로 채움\n",
    "print('{:4,}'.format(4200))\n",
    "print('{:4,}'.format(42000))\n",
    "print('{:6.3f}'.format(3.14159223232))\n",
    "print('{:06.3f}'.format(3.14159223232))"
   ]
  },
  {
   "cell_type": "markdown",
   "metadata": {},
   "source": [
    "* **1st class citizen(일등 시민)**\n",
    " + 프로그래밍 언어에서 1st class라는 의미는 해당 객체를 사용하는데 있어서 아무런 **\"제약없음\"**을 의미\n",
    " + python에서는 모든 것이 객체(object)!\n",
    " + 숫자, 문자열, 튜플, 리스트, 딕셔너리 등등, 존재하는 모든 값을 객체로 볼 수 있음\n",
    " + 함수 역시 객체이며, 객체이기 때문에 변수의 값에 할당하거나, 함수의 파라미터로 전달하거나, 리스트의 원소가 되는 등 일반 타입처럼 사용 할 수 있음"
   ]
  },
  {
   "cell_type": "code",
   "execution_count": 53,
   "metadata": {},
   "outputs": [
    {
     "name": "stdout",
     "output_type": "stream",
     "text": [
      "23\n",
      "<function test1 at 0x10c1cb378> <class 'function'>\n",
      "23\n"
     ]
    }
   ],
   "source": [
    "def test1():\n",
    "    print(23)\n",
    "    \n",
    "#함수의 파라미터로 함수를 넘겨 그것을 사용\n",
    "def run_something(func):\n",
    "    func()\n",
    "    \n",
    "test2 = test1 # 함수를 변수에 대입\n",
    "test2()\n",
    "\n",
    "print(test1, type(test1))\n",
    "run_something(test1)\n",
    "\n",
    "#call-back, function body, javascript <=???"
   ]
  },
  {
   "cell_type": "markdown",
   "metadata": {},
   "source": [
    "## Recursive Function"
   ]
  },
  {
   "cell_type": "markdown",
   "metadata": {},
   "source": [
    "* 재귀함수\n",
    "* 내부적으로 자기 자신을 호출함 (러시아 인형, 혹은 프랙탈을 연상)\n",
    "* 점화식으로 표현되는 모든 수식을 간결히 표현할 수 있음\n",
    "* 종료조건이 꼭! 필요함 (명시하지 않으면 무한 호출반복)\n",
    "* 코드는 간결하나, 호출에 따른 오버헤드가 큼\n",
    "* 따라서 성능과 코드의 간결함에 대한 trade-off를 고려하여 구현이 필요\n"
   ]
  },
  {
   "cell_type": "code",
   "execution_count": 55,
   "metadata": {},
   "outputs": [
    {
     "data": {
      "text/plain": [
       "1"
      ]
     },
     "execution_count": 55,
     "metadata": {},
     "output_type": "execute_result"
    }
   ],
   "source": [
    "def a():\n",
    "    return 1\n",
    "\n",
    "def b():\n",
    "    return a()\n",
    "\n",
    "def c():\n",
    "    return b()\n",
    "\n",
    "c()"
   ]
  },
  {
   "cell_type": "code",
   "execution_count": 56,
   "metadata": {
    "collapsed": true
   },
   "outputs": [],
   "source": [
    "# factorial을 다시 작성해 봅시다.\n",
    "def factorial(n):\n",
    "    mul = 1\n",
    "    for i in range(2, n+1):\n",
    "        mul *= i\n",
    "        \n",
    "    return mul\n",
    "\n",
    "# assert 함수 : 주어진 값이 True가 아니면 에러를 발생\n",
    "# 주로 간단한 테스트에 사용\n",
    "assert(factorial(5) == 120)\n",
    "assert(factorial(4) == 24)\n",
    "assert(factorial(1) == 1)"
   ]
  },
  {
   "cell_type": "code",
   "execution_count": 57,
   "metadata": {
    "collapsed": true
   },
   "outputs": [],
   "source": [
    "def rf(n):\n",
    "    #base case\n",
    "    if n == 0:\n",
    "        return 1\n",
    "    #normal case\n",
    "    return n * rf(n-1)\n",
    "\n",
    "assert(rf(5) == 120)\n",
    "assert(rf(4) == 24)\n",
    "assert(rf(1) == 1)"
   ]
  },
  {
   "cell_type": "markdown",
   "metadata": {},
   "source": [
    "* **%timeit**\n",
    " - 해당 코드를 수행하여 평균 수행시간을 계산"
   ]
  },
  {
   "cell_type": "code",
   "execution_count": 58,
   "metadata": {},
   "outputs": [
    {
     "name": "stdout",
     "output_type": "stream",
     "text": [
      "283 ns ± 7.2 ns per loop (mean ± std. dev. of 7 runs, 1000000 loops each)\n"
     ]
    }
   ],
   "source": [
    "%timeit x = range(10000)"
   ]
  },
  {
   "cell_type": "code",
   "execution_count": null,
   "metadata": {
    "collapsed": true
   },
   "outputs": [],
   "source": [
    "%timeit range(10000)"
   ]
  },
  {
   "cell_type": "code",
   "execution_count": null,
   "metadata": {
    "collapsed": true
   },
   "outputs": [],
   "source": [
    "%timeit factorial(10000)"
   ]
  },
  {
   "cell_type": "code",
   "execution_count": null,
   "metadata": {
    "collapsed": true
   },
   "outputs": [],
   "source": [
    "# 재귀함수 호출의 값이 기본적으로 5000이기 때문에 늘려줌\n",
    "import sys\n",
    "sys.setrecursionlimit(200000)\n",
    "\n",
    "%timeit rf(10000)"
   ]
  },
  {
   "cell_type": "code",
   "execution_count": 59,
   "metadata": {},
   "outputs": [
    {
     "name": "stdout",
     "output_type": "stream",
     "text": [
      "610\n",
      "4.09 µs ± 165 ns per loop (mean ± std. dev. of 7 runs, 100000 loops each)\n"
     ]
    }
   ],
   "source": [
    "def fibonacci(n):\n",
    "    fibo = [1, 1]\n",
    "    for i in range(2, n):\n",
    "        fibo.append(fibo[i-1] + fibo[i-2])\n",
    "\n",
    "    return fibo[-1]\n",
    "\n",
    "print(fibonacci(15))\n",
    "%timeit fibonacci(20)"
   ]
  },
  {
   "cell_type": "code",
   "execution_count": 60,
   "metadata": {},
   "outputs": [
    {
     "name": "stdout",
     "output_type": "stream",
     "text": [
      "610\n",
      "2.11 ms ± 54.5 µs per loop (mean ± std. dev. of 7 runs, 100 loops each)\n"
     ]
    }
   ],
   "source": [
    "def recursive_fibonacci(n):\n",
    "    if n == 1 or n == 2:\n",
    "        return 1\n",
    "    \n",
    "    return recursive_fibonacci(n-1) + recursive_fibonacci(n-2)\n",
    "\n",
    "print(recursive_fibonacci(15))\n",
    "%timeit recursive_fibonacci(20)\n",
    "\n",
    "#호출트리, 2^n"
   ]
  },
  {
   "cell_type": "markdown",
   "metadata": {},
   "source": [
    "* **연습문제**\n",
    "1. 계단오르기 문제. 계단을 한번에 1,2 혹은 3칸까지 오를 수 있다고 할 때\n",
    "\n",
    "n층의 계단을 오르기 위해서는 몇 가지 경우가 가능한가?"
   ]
  },
  {
   "cell_type": "code",
   "execution_count": 94,
   "metadata": {},
   "outputs": [
    {
     "name": "stdout",
     "output_type": "stream",
     "text": [
      "159 µs ± 3.33 µs per loop (mean ± std. dev. of 7 runs, 10000 loops each)\n"
     ]
    }
   ],
   "source": [
    "def stair(n):\n",
    "    if n==0:\n",
    "        return 1\n",
    "    elif n<1:\n",
    "        return 0\n",
    "    return stair(n-1)+stair(n-2)+stair(n-3)\n",
    "%timeit stair(10)"
   ]
  },
  {
   "cell_type": "code",
   "execution_count": 119,
   "metadata": {},
   "outputs": [
    {
     "data": {
      "text/plain": [
       "13"
      ]
     },
     "execution_count": 119,
     "metadata": {},
     "output_type": "execute_result"
    }
   ],
   "source": [
    "def stair_count(n):\n",
    "    if n == 1 or n == 2:\n",
    "        return n\n",
    "    if n == 3:\n",
    "        return 4\n",
    "    return stair_count(n-1)+stair_count(n-2)+stair_count(n-3)\n",
    "stair_count(5)"
   ]
  },
  {
   "cell_type": "code",
   "execution_count": 96,
   "metadata": {},
   "outputs": [
    {
     "name": "stdout",
     "output_type": "stream",
     "text": [
      "209 ns ± 2.78 ns per loop (mean ± std. dev. of 7 runs, 1000000 loops each)\n"
     ]
    }
   ],
   "source": [
    "memo ={}\n",
    "def stair(n):\n",
    "    if n==0:\n",
    "        return 1\n",
    "    elif n<1:\n",
    "        return 0\n",
    "    if n in memo:\n",
    "        return memo[n]\n",
    "    memo[n] = stair(n-1)+stair(n-2)+stair(n-3)\n",
    "    return memo[n]\n",
    "%timeit stair(10)\n",
    "#3^n => n"
   ]
  },
  {
   "cell_type": "markdown",
   "metadata": {},
   "source": [
    "* **memozation(메모이제이션)**\n",
    "  - 이미 계산한 값은 따로 저장해두고, 필요하면 다시 불러와서 사용 하는 기법\n",
    "  - dynamic programming의 재귀적 구현 기법에서 많이 사용"
   ]
  },
  {
   "cell_type": "code",
   "execution_count": null,
   "metadata": {
    "collapsed": true
   },
   "outputs": [],
   "source": [
    "memo = {}\n",
    "def recursive_fibonacci(n):\n",
    "    if n == 1 or n == 2:\n",
    "        return 1\n",
    "    \n",
    "    if n in memo:\n",
    "        return memo[n]\n",
    "    \n",
    "    memo[n] = recursive_fibonacci(n-1) + recursive_fibonacci(n-2)\n",
    "    return memo[n]\n",
    "\n",
    "\n",
    "print recursive_fibonacci(15)\n",
    "%timeit recursive_fibonacci(50)"
   ]
  },
  {
   "cell_type": "markdown",
   "metadata": {},
   "source": [
    "* recursive function 연습문제\n",
    " 1. 숫자 리스트를 인자로 받아 그 숫자의 합을 구하는 재귀함수를 작성하시오.\n",
    " 2. 숫자를 입력받아 각 자리수의 합을 구하는 재귀함수를 작성하시오.\n",
    " 3. 주어진 두 수의 최대 공약수를 찾는 재귀함수를 작성하시오.\n",
    "    A와 B의 최대 공약수는 B와 A%B의 최대 공약수와 같다."
   ]
  },
  {
   "cell_type": "code",
   "execution_count": 100,
   "metadata": {},
   "outputs": [
    {
     "data": {
      "text/plain": [
       "15"
      ]
     },
     "execution_count": 100,
     "metadata": {},
     "output_type": "execute_result"
    }
   ],
   "source": [
    "lst = [1,2,3,4,5]\n",
    "def sol(ls, n):\n",
    "    if n==0:\n",
    "        return ls[n]\n",
    "    return ls[n]+sol(ls, n-1)\n",
    "sol(lst,len(lst)-1)"
   ]
  },
  {
   "cell_type": "code",
   "execution_count": 115,
   "metadata": {},
   "outputs": [
    {
     "data": {
      "text/plain": [
       "15"
      ]
     },
     "execution_count": 115,
     "metadata": {},
     "output_type": "execute_result"
    }
   ],
   "source": [
    "lst = [1,2,3,4,5]\n",
    "def sol2(ls, s, e):\n",
    "    if s == e:\n",
    "        return lst[s]\n",
    "    return sol2(ls, s, (s+e)//2)+sol2(ls, (s+e)//2+1, e)\n",
    "sol2(lst, 0, len(lst)-1)"
   ]
  },
  {
   "cell_type": "code",
   "execution_count": 116,
   "metadata": {},
   "outputs": [
    {
     "data": {
      "text/plain": [
       "30"
      ]
     },
     "execution_count": 116,
     "metadata": {},
     "output_type": "execute_result"
    }
   ],
   "source": [
    "def sod(n):\n",
    "    if n<10:\n",
    "        return n\n",
    "    return n%10+sod(n//10)\n",
    "sod(15987)"
   ]
  },
  {
   "cell_type": "code",
   "execution_count": 111,
   "metadata": {},
   "outputs": [
    {
     "data": {
      "text/plain": [
       "16"
      ]
     },
     "execution_count": 111,
     "metadata": {},
     "output_type": "execute_result"
    }
   ],
   "source": [
    "def gcd(n1, n2):\n",
    "    if n2<1:\n",
    "        return n1\n",
    "    return gcd(n2,n1%n2)\n",
    "gcd(80,48)"
   ]
  }
 ],
 "metadata": {
  "kernelspec": {
   "display_name": "Python 3",
   "language": "python",
   "name": "python3"
  },
  "language_info": {
   "codemirror_mode": {
    "name": "ipython",
    "version": 3
   },
   "file_extension": ".py",
   "mimetype": "text/x-python",
   "name": "python",
   "nbconvert_exporter": "python",
   "pygments_lexer": "ipython3",
   "version": "3.6.1"
  }
 },
 "nbformat": 4,
 "nbformat_minor": 1
}

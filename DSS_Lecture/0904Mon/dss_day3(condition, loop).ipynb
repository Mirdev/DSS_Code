{
 "cells": [
  {
   "cell_type": "markdown",
   "metadata": {},
   "source": [
    "# Condition & Loop"
   ]
  },
  {
   "cell_type": "markdown",
   "metadata": {},
   "source": [
    "## 학습목표\n",
    " * 조건문의 이해 및 활용 (if)\n",
    " * 반복문의 이해 및 활용 (while, for)"
   ]
  },
  {
   "cell_type": "raw",
   "metadata": {},
   "source": []
  },
  {
   "cell_type": "markdown",
   "metadata": {},
   "source": [
    "* condition (조건문)\n",
    " + 특정 조건을 만족하는 경우에만 수행할 작업이 있는 경우 사용\n",
    " + 모든 조건은 boolean으로 표현 됨 (예외 사항은 아래 배울 예정)\n",
    " + if, elif, else 키워드가 사용\n",
    " + 조건문의 경우 if, elif, else 블록에 종속된 코드는 들여쓰기로 표현 가능\n",
    " + 즉 아래코드에서와 같이, 조건문 아래에 들여쓰기된 2줄의 코드만이 조건문의 조건에 따라 수행될 수도, 수행되지 않을 수도 있는 코드라고 할 수 있음\n",
    " + 들여쓰기 된 코드를 블록(block), 또는 코드블록이라고 함\n",
    " + python에서 모든 블록의 시작점의 마지막에는 :(콜론, colon) 추가가 필요\n",
    "\n",
    "```python\n",
    "if 6 >= 5:\n",
    "    print ('6 is greater than 5')\n",
    "    print ('Yeah, it is true')\n",
    "print ('This code is not belongs to if statements')\n",
    "```"
   ]
  },
  {
   "cell_type": "code",
   "execution_count": null,
   "metadata": {},
   "outputs": [],
   "source": [
    "if 5 == 6: \n",
    "    print('5 is equal to 6')\n",
    "    print('hahah is it really true?')\n",
    "    print('I do not think so')\n",
    "    \n",
    "print('This is always printed...')"
   ]
  },
  {
   "cell_type": "code",
   "execution_count": 1,
   "metadata": {},
   "outputs": [
    {
     "name": "stdout",
     "output_type": "stream",
     "text": [
      "hahaha\n",
      "hey\n",
      "10\n"
     ]
    }
   ],
   "source": [
    "if 2 + 3 == 5:\n",
    "    print('hahaha')\n",
    "    print('hey')\n",
    "    \n",
    "a = 10\n",
    "print(a)"
   ]
  },
  {
   "cell_type": "code",
   "execution_count": null,
   "metadata": {
    "collapsed": true
   },
   "outputs": [],
   "source": [
    "if 5 > 6:\n",
    "    print('never printed')"
   ]
  },
  {
   "cell_type": "code",
   "execution_count": null,
   "metadata": {},
   "outputs": [],
   "source": [
    "a = 100\n",
    "if a % 9 == 0:\n",
    "    print('!!!')\n",
    "    \n",
    "    if a % 9 == 1:\n",
    "        print('???')"
   ]
  },
  {
   "cell_type": "markdown",
   "metadata": {},
   "source": [
    "* 중첩 조건문\n",
    "  - 조건문의 경우 중첩하여 작성 가능\n",
    "  - 중첩의 의미는 depth(깊이)로 생각할 수 있으며, depth의 제한은 없음"
   ]
  },
  {
   "cell_type": "code",
   "execution_count": 2,
   "metadata": {},
   "outputs": [
    {
     "name": "stdout",
     "output_type": "stream",
     "text": [
      "!!!\n",
      "hahaha\n"
     ]
    }
   ],
   "source": [
    "a = 99\n",
    "\n",
    "# 중첩 nested\n",
    "if a % 9 == 0:\n",
    "    if a % 11  == 0:\n",
    "        print('!!!')\n",
    "    if a-1 == 98:\n",
    "        print('hahaha')"
   ]
  },
  {
   "cell_type": "markdown",
   "metadata": {},
   "source": [
    "* Logical AND, OR, NOT \n",
    "  - 조건문에 사용되는 조건의 경우, boolean이기 때문에, 논리식 AND, OR, NOT 이 사용가능\n",
    "  - AND : and\n",
    "  - OR : or\n",
    "  - NOT : not\n",
    "  \n",
    "* 논리표 \n",
    "  - AND \n",
    "      - T AND T : T\n",
    "      - T AND F : F\n",
    "      - F AND T : F\n",
    "      - F AND F : F\n",
    "  - OR \n",
    "      - T OR T : T\n",
    "      - T OR F : T\n",
    "      - F OR T : T\n",
    "      - F OR F : F\n",
    "      \n",
    "  - NOT \n",
    "      - NOT T : F\n",
    "      - NOT F : T\n",
    "* 우선순위\n",
    "  - NOT > AND > OR"
   ]
  },
  {
   "cell_type": "code",
   "execution_count": 10,
   "metadata": {},
   "outputs": [
    {
     "name": "stdout",
     "output_type": "stream",
     "text": [
      "It is true\n",
      "True\n"
     ]
    }
   ],
   "source": [
    "# and\n",
    "x = 7\n",
    "if (5 < x) and (x < 10):\n",
    "    print('It is true')\n",
    "if 5 < x < 10:\n",
    "    print(True)"
   ]
  },
  {
   "cell_type": "code",
   "execution_count": 5,
   "metadata": {},
   "outputs": [
    {
     "name": "stdout",
     "output_type": "stream",
     "text": [
      "It is true\n"
     ]
    }
   ],
   "source": [
    "# or\n",
    "x = 7\n",
    "if (5 > x) or (x < 10):\n",
    "    print('It is true')"
   ]
  },
  {
   "cell_type": "code",
   "execution_count": 6,
   "metadata": {},
   "outputs": [
    {
     "name": "stdout",
     "output_type": "stream",
     "text": [
      "It is true\n"
     ]
    }
   ],
   "source": [
    "# not\n",
    "x = 7\n",
    "if not (5 > x):\n",
    "    print('It is true')"
   ]
  },
  {
   "cell_type": "code",
   "execution_count": 8,
   "metadata": {
    "collapsed": true
   },
   "outputs": [],
   "source": [
    "# combination\n",
    "x = 7\n",
    "if not (5 > x) and not (x < 10):\n",
    "    print('It is true')"
   ]
  },
  {
   "cell_type": "code",
   "execution_count": 7,
   "metadata": {},
   "outputs": [
    {
     "name": "stdout",
     "output_type": "stream",
     "text": [
      "It is true1\n"
     ]
    }
   ],
   "source": [
    "# combination\n",
    "# and 가 or 보다 우선순위가 높음을 확인\n",
    "# or를 먼저 수행하기 위해 아래 조건에서는 괄호 사용\n",
    "x = 7\n",
    "y = 9\n",
    "\n",
    "if (5 > x) and not (x < 10) or y == 9:\n",
    "    print('It is true1')\n",
    "    \n",
    "if (5 > x) and (not (x < 10) or y == 9):\n",
    "    print('It is true2')"
   ]
  },
  {
   "cell_type": "markdown",
   "metadata": {},
   "source": [
    "+ if의 조건이 bool이 아닌 경우\n",
    " * 일반적으로는 조건문에는 bool이 주로 위치 함\n",
    " * 하지만, 정수, 실수, 문자열 리스트 등 기본 타입도 조건에 사용 가능\n",
    " * False로 간주되는 값 (각 타입의 기본값)\n",
    "     * None\n",
    "     * 0\n",
    "     * 0.0\n",
    "     * ''\n",
    "     * [] -> 빈 리스트\n",
    "     * () -> 빈 튜플\n",
    "     * {} -> 빈 딕셔너리\n",
    "     * set() -> 빈 집합\n",
    " * 그밖에는 모두 True로 간주"
   ]
  },
  {
   "cell_type": "code",
   "execution_count": 18,
   "metadata": {},
   "outputs": [
    {
     "name": "stdout",
     "output_type": "stream",
     "text": [
      "0 0 0\n",
      "0 1 1\n",
      "1 0 True\n",
      "1 1 False\n"
     ]
    }
   ],
   "source": [
    "n = 0b11011000\n",
    "while n:\n",
    "    a=n&1;n>>=1\n",
    "    b=n&1;n>>=1\n",
    "    print(a,b,not a and b or a and not b)"
   ]
  },
  {
   "cell_type": "code",
   "execution_count": 19,
   "metadata": {},
   "outputs": [
    {
     "name": "stdout",
     "output_type": "stream",
     "text": [
      "haha\n",
      "heheh\n",
      "python\n"
     ]
    }
   ],
   "source": [
    "a = [1, 2, 3, 4]\n",
    "\n",
    "if len(a) > 0:\n",
    "    print('haha')\n",
    "    \n",
    "if a:\n",
    "    print('heheh')\n",
    "    \n",
    "    \n",
    "if 'python':\n",
    "    print('python')\n",
    "    \n",
    "if '':\n",
    "    print('python2')"
   ]
  },
  {
   "cell_type": "code",
   "execution_count": null,
   "metadata": {},
   "outputs": [],
   "source": [
    "a = [] \n",
    "if a: # 빈 리스트 이므로 조건이 False로 해석\n",
    "    print('not empty')"
   ]
  },
  {
   "cell_type": "code",
   "execution_count": null,
   "metadata": {},
   "outputs": [],
   "source": [
    "a = [1]\n",
    "if a:\n",
    "    print('not empty')"
   ]
  },
  {
   "cell_type": "markdown",
   "metadata": {},
   "source": [
    "* if, else\n",
    "  - if가 아닌 경우, 나머지 조건을 표현하고 싶다면 바로 아래 else 블락 사용\n",
    "  - 이 경우, if조건이 True인 경우, if 블락의 코드가 수행, 거짓인 경우 else 블락의 코드가 수행\n",
    "  - 주의 할 점 : if와 else사이에 다른 코드 삽입 불가"
   ]
  },
  {
   "cell_type": "code",
   "execution_count": 20,
   "metadata": {},
   "outputs": [
    {
     "name": "stdout",
     "output_type": "stream",
     "text": [
      "not empty\n"
     ]
    }
   ],
   "source": [
    "# 올바른 if, else 코드의 예\n",
    "a = [1]\n",
    "if a:\n",
    "    print('not empty')\n",
    "else:\n",
    "    print('empty')"
   ]
  },
  {
   "cell_type": "code",
   "execution_count": 24,
   "metadata": {},
   "outputs": [
    {
     "ename": "SyntaxError",
     "evalue": "invalid syntax (<ipython-input-24-6c9c0c021cd9>, line 7)",
     "output_type": "error",
     "traceback": [
      "\u001b[0;36m  File \u001b[0;32m\"<ipython-input-24-6c9c0c021cd9>\"\u001b[0;36m, line \u001b[0;32m7\u001b[0m\n\u001b[0;31m    else:\u001b[0m\n\u001b[0m       ^\u001b[0m\n\u001b[0;31mSyntaxError\u001b[0m\u001b[0;31m:\u001b[0m invalid syntax\n"
     ]
    }
   ],
   "source": [
    "# 올바른 if, else 코드의 올바르지 않은 예\n",
    "# if, else 사이에 다른 코드가 추가됨\n",
    "a = [1]\n",
    "if a:\n",
    "    print ('not empty')\n",
    "print ('another code')\n",
    "else:\n",
    "    print ('empty')"
   ]
  },
  {
   "cell_type": "markdown",
   "metadata": {},
   "source": [
    "* if, elif, else\n",
    "  - 조건이 여러개인 경우, 다음 조건을 elif 블록에 명시 가능\n",
    "  - 이 경우, 각 조건을 확인 후, True인 조건의 코드 블락을 실행 한 후, 전체 if, elif, else 구문을 종료\n",
    "  - 조건문을 사용할 때는, if 이후, 0개 이상의 elif를 사용 가능하며 0개 또는 1개의 else를 사용 가능함\n",
    "\n",
    "```python\n",
    "a = 17\n",
    "if a % 4 == 0:\n",
    "    print 'a is divisible by 4'\n",
    "elif a % 4 == 1:\n",
    "    print 'a % 4 is 1'\n",
    "elif a % 4 == 2:\n",
    "    print 'a % 4 is 2'\n",
    "else:\n",
    "    print 'a % 4 is 3'\n",
    "```"
   ]
  },
  {
   "cell_type": "code",
   "execution_count": 25,
   "metadata": {},
   "outputs": [
    {
     "name": "stdout",
     "output_type": "stream",
     "text": [
      "a % 4 is 1\n"
     ]
    }
   ],
   "source": [
    "a = 17\n",
    "if a % 4 == 0:\n",
    "    print('a is divisible by 4')\n",
    "elif a % 4 == 1:\n",
    "    print('a % 4 is 1')\n",
    "elif a % 4 == 2:\n",
    "    print('a % 4 is 2')\n",
    "else:\n",
    "    print('a % 4 is 3')"
   ]
  },
  {
   "cell_type": "code",
   "execution_count": 26,
   "metadata": {},
   "outputs": [
    {
     "name": "stdout",
     "output_type": "stream",
     "text": [
      "a % 4 is 1\n"
     ]
    }
   ],
   "source": [
    "a = 17\n",
    "if a % 4 == 0:\n",
    "    print('a is divisible by 4')\n",
    "elif a % 4 == 1:\n",
    "    print('a % 4 is 1')\n",
    "elif a % 4 == 2:\n",
    "    print('a % 4 is 2')\n",
    "elif a % 4 == 3: #위의 else블록을 변경하여 사용\n",
    "    print('a % 4 is 3')"
   ]
  },
  {
   "cell_type": "markdown",
   "metadata": {},
   "source": [
    "* **quiz)** 바로 위의 코드와 아래 코드의 차이점은?"
   ]
  },
  {
   "cell_type": "code",
   "execution_count": 27,
   "metadata": {},
   "outputs": [
    {
     "name": "stdout",
     "output_type": "stream",
     "text": [
      "a % 4 is 1\n"
     ]
    }
   ],
   "source": [
    "a = 17\n",
    "if a % 4 == 0:\n",
    "    print('a is divisible by 4')\n",
    "if a % 4 == 1:\n",
    "    print('a % 4 is 1')\n",
    "if a % 4 == 2:\n",
    "    print('a % 4 is 2')\n",
    "if a % 4 == 3: #위의 else블록을 변경하여 사용\n",
    "    print('a % 4 is 3')"
   ]
  },
  {
   "cell_type": "markdown",
   "metadata": {},
   "source": [
    "* loop (반복문)\n",
    " + 반복적인 작업을 가능하게 해주는 도구\n",
    " + 특정 조건을 만족하는 경우 수행할 수 있음 (while)\n",
    " + 리스트, 문자열, 튜플 등 컬렉션 타입의 아이템을 하나씩 순회하면서 사용 가능 (for)\n",
    " + 코드 작업에서, 가장 많이 사용하는 구문 중 하나\n",
    " + 주의할점: while을 사용할 경우, 반복을 멈추게 하는 장치가 필요\n",
    "   + 그렇지 않으면 셀이 무한히 수행되며, jupyter notebook의 재부팅이 필요"
   ]
  },
  {
   "cell_type": "markdown",
   "metadata": {},
   "source": [
    "* while 조건문\n",
    "  - while 뒤의 조건이 True일 경우, while 코드 블록을 계속 수행\n",
    "  - while 코드 블록\n",
    "    - if와 마찬가지로 while문 아래의 들여쓰기로 작성 된 부분을 의미\n",
    "  - 조건이 False가 되면 블록 수행을 멈추고 이후 코드를 실행"
   ]
  },
  {
   "cell_type": "code",
   "execution_count": null,
   "metadata": {},
   "outputs": [],
   "source": [
    "count = 1\n",
    "while count <= 3:  # 해당 조건이 True이면 코드 블록 수행, 아니면 코드 블록 종료\n",
    "    print(count)\n",
    "    count += 1\n",
    "    \n",
    "print('while loop Finished')\n",
    "print(count)"
   ]
  },
  {
   "cell_type": "code",
   "execution_count": null,
   "metadata": {},
   "outputs": [],
   "source": [
    "a = 'Python'\n",
    "\n",
    "i = 0\n",
    "while i < len(a):\n",
    "    print(a[i]) # 한글자씩 출력\n",
    "    \n",
    "    i += 1"
   ]
  },
  {
   "cell_type": "markdown",
   "metadata": {},
   "source": [
    "* 무한루프\n",
    " - while의 경우 종료가 되지 않도록 코드를 작성하면 블록에서 빠져나올 수 없음"
   ]
  },
  {
   "cell_type": "code",
   "execution_count": null,
   "metadata": {
    "collapsed": true
   },
   "outputs": [],
   "source": [
    "# 무한루프 주의\n",
    "a = 'Python'\n",
    "\n",
    "i = 0\n",
    "while i < len(a):\n",
    "    print(a[i])"
   ]
  },
  {
   "cell_type": "markdown",
   "metadata": {},
   "source": [
    "* 조건문을 추가하여 짝수와 홀수 분리하기"
   ]
  },
  {
   "cell_type": "code",
   "execution_count": null,
   "metadata": {},
   "outputs": [],
   "source": [
    "a = [2, 5, 6, 8, 9, 7]\n",
    "odds = []\n",
    "evens = []\n",
    "\n",
    "i = 0\n",
    "while i < len(a):\n",
    "    if a[i] % 2 == 0:\n",
    "        evens.append(a[i])\n",
    "    else:\n",
    "        odds.append(a[i])\n",
    "    \n",
    "    i += 1\n",
    "    \n",
    "print(evens)\n",
    "print(odds)"
   ]
  },
  {
   "cell_type": "markdown",
   "metadata": {},
   "source": [
    "* 연습문제) 위의 코드와 아래의 수행 결과 차이점은?"
   ]
  },
  {
   "cell_type": "code",
   "execution_count": null,
   "metadata": {
    "collapsed": true
   },
   "outputs": [],
   "source": [
    "a = [2, 5, 6, 8, 9, 7]\n",
    "odds = []\n",
    "evens = []\n",
    "\n",
    "i = 0\n",
    "while i < len(a):\n",
    "    if a[i] % 2 == 0:\n",
    "        evens.append(a[i])\n",
    "    odds.append(a[i])\n",
    "    \n",
    "    i += 1\n",
    "    \n",
    "print(evens)\n",
    "print(odds)"
   ]
  },
  {
   "cell_type": "markdown",
   "metadata": {},
   "source": [
    "* break \n",
    " + loop를 중단할 때 사용\n",
    " + 보통 조건문 안에서 수행되며, 조건을 만족하는 경우 loop를 탈출하기 위해 사용\n",
    " + loop를 중단 하는 경우, while 이후의 코드를 수행"
   ]
  },
  {
   "cell_type": "code",
   "execution_count": null,
   "metadata": {},
   "outputs": [],
   "source": [
    "count = 1\n",
    "while True: # 무한 루프\n",
    "    print(count)\n",
    "    count += 1\n",
    "    \n",
    "    if count > 3 : # 해당 조건을 만족하면 반복 블록을 종료\n",
    "        break\n",
    "\n",
    "print('while finished')"
   ]
  },
  {
   "cell_type": "code",
   "execution_count": null,
   "metadata": {},
   "outputs": [],
   "source": [
    "a = [1, 6, 8, 9, 7]\n",
    "\n",
    "i = 0\n",
    "while i < len(a):\n",
    "    print(a[i])\n",
    "    \n",
    "    if a[i] > 7:\n",
    "        break\n",
    "    i += 1"
   ]
  },
  {
   "cell_type": "markdown",
   "metadata": {},
   "source": [
    "* 연습문제) 아래 문자열을 순회하면서 한글자씩 출력하시오. 단, 모음을 만나면 반복을 종료하도록 하세요."
   ]
  },
  {
   "cell_type": "code",
   "execution_count": 49,
   "metadata": {},
   "outputs": [
    {
     "name": "stdout",
     "output_type": "stream",
     "text": [
      "['p', 'y', 't', 'h', 'o', 'n']\n"
     ]
    },
    {
     "ename": "ValueError",
     "evalue": "dictionary update sequence element #0 has length 1; 2 is required",
     "output_type": "error",
     "traceback": [
      "\u001b[0;31m---------------------------------------------------------------------------\u001b[0m",
      "\u001b[0;31mValueError\u001b[0m                                Traceback (most recent call last)",
      "\u001b[0;32m<ipython-input-49-193b4654c95e>\u001b[0m in \u001b[0;36m<module>\u001b[0;34m()\u001b[0m\n\u001b[1;32m      3\u001b[0m \u001b[0mprint\u001b[0m\u001b[0;34m(\u001b[0m\u001b[0mlst\u001b[0m\u001b[0;34m)\u001b[0m\u001b[0;34m\u001b[0m\u001b[0m\n\u001b[1;32m      4\u001b[0m \u001b[0mvd\u001b[0m \u001b[0;34m=\u001b[0m \u001b[0;34m{\u001b[0m\u001b[0ms\u001b[0m\u001b[0;34m:\u001b[0m\u001b[0;36m1\u001b[0m \u001b[0;32mfor\u001b[0m \u001b[0ms\u001b[0m \u001b[0;32min\u001b[0m \u001b[0;34m'aeiou'\u001b[0m\u001b[0;34m}\u001b[0m\u001b[0;34m\u001b[0m\u001b[0m\n\u001b[0;32m----> 5\u001b[0;31m \u001b[0mdic\u001b[0m \u001b[0;34m=\u001b[0m \u001b[0mdict\u001b[0m\u001b[0;34m(\u001b[0m\u001b[0mlst\u001b[0m\u001b[0;34m)\u001b[0m\u001b[0;34m\u001b[0m\u001b[0m\n\u001b[0m\u001b[1;32m      6\u001b[0m \u001b[0;34m\u001b[0m\u001b[0m\n\u001b[1;32m      7\u001b[0m \u001b[0;32mfor\u001b[0m \u001b[0ms\u001b[0m \u001b[0;32min\u001b[0m \u001b[0ma\u001b[0m\u001b[0;34m:\u001b[0m\u001b[0;34m\u001b[0m\u001b[0m\n",
      "\u001b[0;31mValueError\u001b[0m: dictionary update sequence element #0 has length 1; 2 is required"
     ]
    }
   ],
   "source": [
    "a = 'python'\n",
    "vd = {s:1 for s in 'aeiou'}\n",
    "\n",
    "for s in a:\n",
    "    if s in 'aeiou':\n",
    "        continue\n",
    "    print(s)\n",
    "    \n",
    "for s in a:\n",
    "    if vd.get(s):\n",
    "        break\n",
    "    print(s)"
   ]
  },
  {
   "cell_type": "markdown",
   "metadata": {},
   "source": [
    "* continue\n",
    " + break 처럼 반복을 중단하진 하여 빠져나오지 않고, 다시 while조건으로 점프함\n",
    " + 특정한 경우에는 코드를 수행하지 않고 다음으로 건너 뛰기 위해 사용"
   ]
  },
  {
   "cell_type": "code",
   "execution_count": null,
   "metadata": {},
   "outputs": [],
   "source": [
    "var = 7                    \n",
    "while var > 0:              \n",
    "    var -= 1\n",
    "    if var == 5:\n",
    "        continue\n",
    "    \n",
    "    print('Current value :', var)\n",
    "    \n",
    "print(\"while finished\")"
   ]
  },
  {
   "cell_type": "code",
   "execution_count": null,
   "metadata": {},
   "outputs": [],
   "source": [
    "# 주어진 문자열을 문자열의 끝부분부터 출력하는데, 모음을 만나면 무시, 자음은 출력\n",
    "a = 'python'\n",
    "i = len(a)\n",
    "\n",
    "while i >= 0:\n",
    "    i -= 1\n",
    "    if a[i] in 'aeiou':\n",
    "        continue\n",
    "        \n",
    "    print(a[i])\n",
    "    "
   ]
  },
  {
   "cell_type": "markdown",
   "metadata": {},
   "source": [
    "* **연습문제)**\n",
    "nums = [1, 3, 2, 5, 4, 6, 7, 9, 8]\n",
    "라는 숫자 리스트가 있습니다. while문을 이용하여 리스트를 순회하면서 각 아이템을 출력하세요"
   ]
  },
  {
   "cell_type": "code",
   "execution_count": 45,
   "metadata": {},
   "outputs": [
    {
     "name": "stdout",
     "output_type": "stream",
     "text": [
      "1\n",
      "3\n",
      "2\n",
      "5\n",
      "4\n",
      "6\n",
      "7\n",
      "9\n",
      "8\n"
     ]
    }
   ],
   "source": [
    "nums = [1,3,2,5,4,6,7,9,8]\n",
    "for n in nums:\n",
    "    print(n)"
   ]
  },
  {
   "cell_type": "markdown",
   "metadata": {},
   "source": [
    "* while - else\n",
    " + break 문에 걸리지 않고 while 종료 시, else문 호출"
   ]
  },
  {
   "cell_type": "code",
   "execution_count": 50,
   "metadata": {},
   "outputs": [
    {
     "name": "stdout",
     "output_type": "stream",
     "text": [
      "even number\n"
     ]
    }
   ],
   "source": [
    "nums = [1, 3, 5]\n",
    "nums = [1, 3, 4, 5]\n",
    "\n",
    "position = 0 # 인덱스 변수로 사용\n",
    "\n",
    "while position < len(nums):\n",
    "    number = nums[position]\n",
    "    \n",
    "    if number ^ 1: # 짝수 체크\n",
    "        print('even number')\n",
    "        break\n",
    "        \n",
    "    position += 1\n",
    "    \n",
    "else:\n",
    "    print('no even number')"
   ]
  },
  {
   "cell_type": "markdown",
   "metadata": {},
   "source": [
    "+ for \n",
    " - 리스트, 문자열 등등 순회 가능한 객체를 순회하면서 값을 처리할 때 사용\n",
    " - 아래와 같은 문법으로 사용\n",
    " - 여기서 i는 매번 수행 될 때마다, a의 아이템으로 순차적으로 변경 됨\n",
    " - 모든 아이템이 순회되면 for 블록 종료\n",
    " \n",
    "```python\n",
    "a = [1, 2, 4, 3, 5]\n",
    "for i in a:\n",
    "    print i,\n",
    "    print i * 2\n",
    "```\n",
    " - 클래스 수업 이후, for에 적용가능한 커스텀 객체 생성 예정"
   ]
  },
  {
   "cell_type": "code",
   "execution_count": null,
   "metadata": {},
   "outputs": [],
   "source": [
    "a = [1, 2, 3, 4, 5]\n",
    "\n",
    "for i in a:\n",
    "    print(i)"
   ]
  },
  {
   "cell_type": "code",
   "execution_count": null,
   "metadata": {},
   "outputs": [],
   "source": [
    "# 순회하는 변수의 이름은 커스텀하게 작성 가능\n",
    "# 아래의 예처럼, val, i, num등 다양한 상황에 맞게 작명 가능\n",
    "# 주로 실무에서는 다음과 같이 단수형으로 쓰거나 (nums -> num)\n",
    "# 정수형의 경우, i 혹은 x로 많이 사용\n",
    "\n",
    "nums = [1, 3, 2, 5, 4, 6, 7, 9, 8]\n",
    "for val in nums:\n",
    "    print(val, end=' ') \n",
    "    \n",
    "print() \n",
    "for i in nums:\n",
    "    print(i, end=' ')\n",
    "    \n",
    "print()\n",
    "for num in nums:\n",
    "    print(num)\n",
    "    \n",
    "\n",
    "    \n",
    "student_names = ['Tracy', 'Michael', 'Byun']\n",
    "for sn in student_names:\n",
    "    print(sn)\n",
    "    "
   ]
  },
  {
   "cell_type": "markdown",
   "metadata": {},
   "source": [
    "* 문자열의 순회\n",
    " - 문자열의 경우 순회 가능, 리스트의 유사하게 순회 가능"
   ]
  },
  {
   "cell_type": "code",
   "execution_count": null,
   "metadata": {},
   "outputs": [],
   "source": [
    "str = 'hello world'\n",
    "for char in str:\n",
    "    print(char, end=' ')"
   ]
  },
  {
   "cell_type": "markdown",
   "metadata": {},
   "source": [
    "* dict 순회\n",
    "  - dictionary의 경우 기본적으로 순회 하게 되면 key값을 참조\n",
    "  - keys()함수를 이용하여 key 값만 순회 가능\n",
    "  - values()함수를 이용하여 value 값만 순회 가능\n",
    "  - items()함수를 이용하여 tuple형태로 key, value 순회 가능"
   ]
  },
  {
   "cell_type": "code",
   "execution_count": null,
   "metadata": {},
   "outputs": [],
   "source": [
    "capitals = {'korea' : 'seoul', 'japan' : 'tokyo', 'usa' : 'Washington D.C'}\n",
    "\n",
    "for value in capitals:\n",
    "    print(value, capitals[value])\n",
    "print()\n",
    "\n",
    "for key in list(capitals.keys()):\n",
    "    print(key)\n",
    "print()\n",
    "    \n",
    "for val in list(capitals.values()):\n",
    "    print(val)\n",
    "print()\n",
    "    \n",
    "for k, v in list(capitals.items()):\n",
    "    print(k, v)"
   ]
  },
  {
   "cell_type": "code",
   "execution_count": null,
   "metadata": {},
   "outputs": [],
   "source": [
    "for k, v in list(capitals.items()):\n",
    "    print(k, v)\n",
    "    \n",
    "for item in list(capitals.items()):\n",
    "    print(item)"
   ]
  },
  {
   "cell_type": "code",
   "execution_count": null,
   "metadata": {
    "collapsed": true
   },
   "outputs": [],
   "source": []
  },
  {
   "cell_type": "markdown",
   "metadata": {},
   "source": [
    "+ for에서 index 사용하기\n",
    "  - 기본적으로 for에 리스트를 순회하는 경우, 값만 추출 함\n",
    "  - 아래와 같은 코드로 인덱스와 값 모두 사용 가능\n",
    "\n",
    "```python\n",
    "a = [1, 2, 4, 3, 5]\n",
    "for i, val in enumerate(a):\n",
    "    print i, val\n",
    "```"
   ]
  },
  {
   "cell_type": "code",
   "execution_count": 52,
   "metadata": {},
   "outputs": [
    {
     "name": "stdout",
     "output_type": "stream",
     "text": [
      "1 3 2 5 4 6 7 9 8 \n",
      "\n",
      "index: 0 value: 1\n",
      "index: 1 value: 3\n",
      "index: 2 value: 2\n",
      "index: 3 value: 5\n",
      "index: 4 value: 4\n",
      "index: 5 value: 6\n",
      "index: 6 value: 7\n",
      "index: 7 value: 9\n",
      "index: 8 value: 8\n"
     ]
    }
   ],
   "source": [
    "nums = [1, 3, 2, 5, 4, 6, 7, 9, 8]\n",
    "\n",
    "for val in nums:\n",
    "    print(val, end=' ')\n",
    "print('\\n')\n",
    "\n",
    "for i, val in enumerate(nums):\n",
    "    print('index:', i, 'value:', val)\n",
    "    \n",
    "#안쓰는 변수는 _(underscore)로 써준다. eg) for i, _ in enumerate(nums)"
   ]
  },
  {
   "cell_type": "markdown",
   "metadata": {},
   "source": [
    "* for break\n",
    "  - for의 경우에도 특정 조건일 때, loop 종료가 가능\n",
    "  - 이때, break을 수행하지 않았다면 else 블록이 수행됨"
   ]
  },
  {
   "cell_type": "code",
   "execution_count": null,
   "metadata": {},
   "outputs": [],
   "source": [
    "nums = [1, 3, 2, 5, 4, 6, 7, 9, 8]\n",
    "for i, val in enumerate(nums):\n",
    "    if i > 2: # if i > 10\n",
    "        break\n",
    "    print('value at index', i, 'is', val)\n",
    "else:\n",
    "    print('all done')"
   ]
  },
  {
   "cell_type": "code",
   "execution_count": 58,
   "metadata": {},
   "outputs": [
    {
     "name": "stdout",
     "output_type": "stream",
     "text": [
      "[2, 4, 6, 100]\n",
      "[1, 3, 5, 101]\n"
     ]
    }
   ],
   "source": [
    "nums = [1, 3, 2, 4, 5, 6, 100, 101]\n",
    "evens = []\n",
    "odds = []\n",
    "\n",
    "for n in nums:\n",
    "    if n&1^1:\n",
    "        evens.append(n)\n",
    "    else:\n",
    "        odds.append(n)\n",
    "        \n",
    "print(evens)\n",
    "print(odds)"
   ]
  },
  {
   "cell_type": "markdown",
   "metadata": {},
   "source": [
    "* loop 중첩\n",
    "  - 반복문의 경우에도 중첩하여 사용 가능\n",
    "  - 중첩이라는 것은 반복문 블록의 코드안에 또 반복문의 코드가 작성되는 것을 의미\n",
    "  - 이런 경우, 내부 루프는 외부 루프가 수행되는 만큼 반복 수행 됨\n",
    "  - 또한 중첩의 경우 무한히 가능\n",
    "\n",
    "```python\n",
    "a = [1, 2, 4]\n",
    "for i in a:\n",
    "    for j in a:\n",
    "        print i * j\n",
    "```"
   ]
  },
  {
   "cell_type": "code",
   "execution_count": null,
   "metadata": {},
   "outputs": [],
   "source": [
    "a = [1, 2, 4, 5]\n",
    "for i in a: # 최초 진입\n",
    "    for j in a: # 각각 i가 1, 2, 4, 5로 변경되면서 내부 루프가 수행 됨\n",
    "        print(i * j, end=' ')"
   ]
  },
  {
   "cell_type": "markdown",
   "metadata": {},
   "source": [
    "* **연습문제**) 아래 각 코드의 Big O notation을 계산하시오\n",
    "단, 출력과 각 연산에 드는 비용은 1이라고 합니다. (a의 길이는 n이라고 가정)"
   ]
  },
  {
   "cell_type": "code",
   "execution_count": null,
   "metadata": {
    "collapsed": true
   },
   "outputs": [],
   "source": [
    "a = [1, 2, 4, 5]\n",
    "for i in a:\n",
    "    print(i)\n",
    "    print(i + 2, i ** 3)\n",
    "    \n",
    "#n"
   ]
  },
  {
   "cell_type": "code",
   "execution_count": null,
   "metadata": {
    "collapsed": true
   },
   "outputs": [],
   "source": [
    "a = [1, 2, 4, 5]\n",
    "for i in a:\n",
    "    print(i)\n",
    "\n",
    "for j in a:\n",
    "    print(i + 2)\n",
    "    \n",
    "for k in a:\n",
    "    print(i ** 3)\n",
    "\n",
    "#n"
   ]
  },
  {
   "cell_type": "code",
   "execution_count": null,
   "metadata": {},
   "outputs": [],
   "source": [
    "a = [1, 2, 4, 5]\n",
    "for i in a:\n",
    "    for j in a:\n",
    "        print(i * j, end=' ')\n",
    "        \n",
    "#n^2"
   ]
  },
  {
   "cell_type": "code",
   "execution_count": null,
   "metadata": {},
   "outputs": [],
   "source": [
    "a = [1, 2, 4, 5]\n",
    "for i in a:\n",
    "    for j in a:\n",
    "        for k in a:\n",
    "            print(i * j + k, end=' ')\n",
    "            \n",
    "#n^3"
   ]
  },
  {
   "cell_type": "code",
   "execution_count": null,
   "metadata": {
    "collapsed": true
   },
   "outputs": [],
   "source": [
    "a = [1, 2, 3, 4]\n",
    "b = [2, 3, 4, 5] \n",
    "\n",
    "for i in a:\n",
    "    for j in b:\n",
    "        print(i, j)\n",
    "        \n",
    "#O(N)=N^2 or O(A,B)=AB"
   ]
  },
  {
   "cell_type": "markdown",
   "metadata": {},
   "source": [
    "* collection의 길이\n",
    " - len() 내장함수로 계산 가능\n",
    " - 내장함수란 파이썬 내부에 구현되어 있어서, import하지 않고도 사용 가능한 함수를 의미\n",
    " - abs, len, type, range 등이 있음 (과정 진행하면서 필요할 때마다 다룰 예정)"
   ]
  },
  {
   "cell_type": "code",
   "execution_count": null,
   "metadata": {},
   "outputs": [],
   "source": [
    "print(a)\n",
    "print(len(a))"
   ]
  },
  {
   "cell_type": "markdown",
   "metadata": {},
   "source": [
    "* range 함수\n",
    "  - 리스트를 쉽게 만들 수 있는 내장함수\n",
    "  - 주어진 값에 따라 다양한 결과를 반환\n",
    " \n",
    "```python\n",
    "range(10)       -> [0, 1, 2, 3, 4, 5, 6, 7, 8, 9]\n",
    "range(2, 10)    -> [2, 3, 4, 5, 6, 7, 8, 9] \n",
    "range(2, 10, 3) -> [2, 5, 8] \n",
    "```"
   ]
  },
  {
   "cell_type": "markdown",
   "metadata": {},
   "source": [
    "* 1 - 100까지의 리스트 생성하기"
   ]
  },
  {
   "cell_type": "code",
   "execution_count": null,
   "metadata": {},
   "outputs": [],
   "source": [
    "a = []\n",
    "i = 1\n",
    "while i <= 100:\n",
    "    a.append(i)\n",
    "    i += 1\n",
    "    \n",
    "print(a)"
   ]
  },
  {
   "cell_type": "code",
   "execution_count": null,
   "metadata": {},
   "outputs": [],
   "source": [
    "print(list(range(10)))"
   ]
  },
  {
   "cell_type": "code",
   "execution_count": null,
   "metadata": {},
   "outputs": [],
   "source": [
    "print(list(range(2, 10)))"
   ]
  },
  {
   "cell_type": "code",
   "execution_count": null,
   "metadata": {},
   "outputs": [],
   "source": [
    "print(list(range(2, 10, 3)))"
   ]
  },
  {
   "cell_type": "code",
   "execution_count": null,
   "metadata": {},
   "outputs": [],
   "source": [
    "print(list(range(2, 101, 2)))"
   ]
  },
  {
   "cell_type": "markdown",
   "metadata": {
    "collapsed": true
   },
   "source": [
    "* **quiz)** 1부터 100사이의 5의 배수만을 갖는 리스트를 생성하시오"
   ]
  },
  {
   "cell_type": "code",
   "execution_count": 62,
   "metadata": {},
   "outputs": [
    {
     "name": "stdout",
     "output_type": "stream",
     "text": [
      "[5, 10, 15, 20, 25, 30, 35, 40, 45, 50, 55, 60, 65, 70, 75, 80, 85, 90, 95, 100]\n"
     ]
    }
   ],
   "source": [
    "print(list(range(5, 101, 5)))"
   ]
  },
  {
   "cell_type": "markdown",
   "metadata": {},
   "source": [
    " + if & for 연습문제\n",
    "   \n",
    "  1. 구구단을 2 - 9단까지 출력하시오.\n",
    "  2. 1 - 100까지 정수 중 2의 배수 또는 11의 배수를 모두 출력하시오. \n",
    "  4. a = [22, 1, 3, 4, 7, 98, 21, 55, 87, 99, 19, 20, 45] 에서 최대값과 최소값을 찾으시오. (sorted, sort 사용 금지)\n",
    "  5. a = [22, 1, 3, 4, 7, 98, 21, 55, 87, 99, 19, 20, 45] 에서 평균을 구하세요.\n",
    "  "
   ]
  },
  {
   "cell_type": "code",
   "execution_count": null,
   "metadata": {
    "collapsed": true
   },
   "outputs": [],
   "source": [
    "ls = range(1,10)\n",
    "gg = [str(l)+\" * \"+str(r)+\" = \"+str(l*r) for l in ls[1:] for r in ls]\n",
    "for g in gg:\n",
    "    print(g)"
   ]
  },
  {
   "cell_type": "code",
   "execution_count": 64,
   "metadata": {},
   "outputs": [
    {
     "name": "stdout",
     "output_type": "stream",
     "text": [
      "2 4 6 8 10 11 12 14 16 18 20 22 24 26 28 30 32 33 34 36 38 40 42 44 46 48 50 52 54 55 56 58 60 62 64 66 68 70 72 74 76 77 78 80 82 84 86 88 90 92 94 96 98 99 100 "
     ]
    }
   ],
   "source": [
    "for i in range(1, 101):\n",
    "    if i&1^1 or not i%11:\n",
    "        print(i,end=' ')"
   ]
  },
  {
   "cell_type": "code",
   "execution_count": 415,
   "metadata": {},
   "outputs": [
    {
     "name": "stdout",
     "output_type": "stream",
     "text": [
      "max: 99 min: 1\n",
      "max: 99 min: 1\n"
     ]
    }
   ],
   "source": [
    "a = [22, 1, 3, 4, 7, 98, 21, 55, 87, 99, 19, 20, 45]\n",
    "\n",
    "print(\"max:\",max(a),\"min:\",min(a))\n",
    "\n",
    "mx=mn=a[0]\n",
    "for i in a[1:]:\n",
    "    if i>mx : mx = i\n",
    "    elif i<mn : mn = i\n",
    "print(\"max:\",mx,\"min:\",mn)"
   ]
  },
  {
   "cell_type": "code",
   "execution_count": 414,
   "metadata": {},
   "outputs": [
    {
     "data": {
      "text/plain": [
       "(99, 1)"
      ]
     },
     "execution_count": 414,
     "metadata": {},
     "output_type": "execute_result"
    }
   ],
   "source": [
    "a = [22, 1, 3, 4, 7, 98, 21, 55, 87, 99, 19, 20, 45]\n",
    "\n",
    "min_val = max_val = a[0]\n",
    "for i in a[1:]:\n",
    "    if min_val > i:\n",
    "        min_val = i\n",
    "    elif max_val < i:\n",
    "        max_val = i\n",
    "max_val, min_val"
   ]
  },
  {
   "cell_type": "code",
   "execution_count": 69,
   "metadata": {},
   "outputs": [
    {
     "name": "stdout",
     "output_type": "stream",
     "text": [
      "avg: 3.4615384615384617\n"
     ]
    }
   ],
   "source": [
    "a = [22, 1, 3, 4, 7, 98, 21, 55, 87, 99, 19, 20, 45]\n",
    "tot = 0\n",
    "for i in a:\n",
    "    tot += i\n",
    "print(\"avg:\",i/len(a))"
   ]
  },
  {
   "cell_type": "markdown",
   "metadata": {},
   "source": [
    "* 연습문제 2)\n",
    "\n",
    " 알고리즘의 설명을 듣고 아래 코드를 작성하세요\n",
    " 1. 주어진 정수를 담는 리스트를 정렬하는 코드를 작성하세요. (selection sort)\n",
    " 2. 다음과 같은 점화식을 만족하는 수열을 피보나치 수열이라고 합니다. f0 = 1, f1 = 1, fn = fn-1 + fn-2 \n",
    "    이때, 15번째까지 피보나치 수열을 출력하시오. \n",
    " 3. 몬테 카를로 방법을 이용하여 파이의 근사값을 계산하시오. "
   ]
  },
  {
   "cell_type": "code",
   "execution_count": 418,
   "metadata": {},
   "outputs": [
    {
     "name": "stdout",
     "output_type": "stream",
     "text": [
      "[0, 1, 2, 3, 4, 5, 99]\n"
     ]
    }
   ],
   "source": [
    "lst = [5,3,4,2,1,99,0]\n",
    "i=0\n",
    "while len(lst)-i-1:\n",
    "    j=i+1;k=i\n",
    "    while len(lst)-j:\n",
    "        if lst[k]>lst[j] : k=j\n",
    "        j+=1\n",
    "    tmp=lst[i]\n",
    "    lst[i]=lst[k]\n",
    "    lst[k]=tmp\n",
    "    i+=1\n",
    "print(lst)"
   ]
  },
  {
   "cell_type": "code",
   "execution_count": 103,
   "metadata": {},
   "outputs": [
    {
     "name": "stdout",
     "output_type": "stream",
     "text": [
      "[1, 1, 2, 3, 5, 8, 13, 21, 34, 55, 89, 144, 233, 377, 610]\n"
     ]
    }
   ],
   "source": [
    "lst = [1,1]\n",
    "n=1\n",
    "while n<14:\n",
    "    lst.append(lst[n-1]+lst[n])\n",
    "    n+=1\n",
    "print(lst)"
   ]
  },
  {
   "cell_type": "code",
   "execution_count": 425,
   "metadata": {},
   "outputs": [
    {
     "name": "stdout",
     "output_type": "stream",
     "text": [
      "3.14163832\n"
     ]
    }
   ],
   "source": [
    "from random import random\n",
    "from random import seed\n",
    "\n",
    "seed()\n",
    "\n",
    "s_cnt = 100000000\n",
    "c_cnt = 0\n",
    "\n",
    "for _ in range(s_cnt):\n",
    "    x = random();y = random()\n",
    "    if x**2 + y**2 <= 1 : c_cnt += 1\n",
    "        \n",
    "print((c_cnt/s_cnt)*4)"
   ]
  },
  {
   "cell_type": "code",
   "execution_count": 457,
   "metadata": {},
   "outputs": [
    {
     "data": {
      "text/plain": [
       "3.1416040000000001"
      ]
     },
     "execution_count": 457,
     "metadata": {},
     "output_type": "execute_result"
    }
   ],
   "source": [
    "import numpy as np\n",
    "\n",
    "total = 10**6\n",
    "sim_sum = (np.random.rand(total, 2)**2).sum(axis=1)\n",
    "4*np.sum(sim_sum<=1)/total"
   ]
  },
  {
   "cell_type": "markdown",
   "metadata": {},
   "source": [
    "* zip 내장 함수\n",
    " - 주어진 2개 이상의 컬렉션을 튜플 형태로 생성"
   ]
  },
  {
   "cell_type": "code",
   "execution_count": null,
   "metadata": {},
   "outputs": [],
   "source": [
    "capitals = {'korea' : 'seoul', 'japan' : 'tokyo', 'usa' : 'Washington D.C'}\n",
    "countries = list(capitals.keys())\n",
    "cities = list(capitals.values())\n",
    "\n",
    "print(list(zip(countries, cities)))\n",
    "\n",
    "for country, city in zip(countries, cities):\n",
    "    print(country, city)\n",
    "    \n",
    "for k, v in list(capitals.items()):\n",
    "    print(k, v)"
   ]
  },
  {
   "cell_type": "code",
   "execution_count": null,
   "metadata": {},
   "outputs": [],
   "source": [
    "aa = [1, 2, 3, 10]\n",
    "bb = [2, 4, 6]\n",
    "cc = [1, 4, 9]\n",
    "dd = [1, 4, 9]\n",
    "\n",
    "for i in range(len(aa)):\n",
    "    print(aa[i], bb[i], cc[i], dd[i])\n",
    "\n",
    "for a, b, c, d in zip(aa, bb, cc, dd):\n",
    "    print(a, b, c, d)"
   ]
  },
  {
   "cell_type": "markdown",
   "metadata": {},
   "source": [
    "* comprehension\n",
    " + python만의 간결한 문법을 이용하여 컬렉션을 생성하는 방법\n",
    " + 간결하게 생성 가능하기 때문에, 실무에서 많이 사용\n",
    " + 나중에 배울 generator를 이해하기 위해 **반드시** 숙지 필요"
   ]
  },
  {
   "cell_type": "markdown",
   "metadata": {},
   "source": [
    "### 주어진 리스트에서 짝수만 추출하여 새로운 리스트 생성"
   ]
  },
  {
   "cell_type": "markdown",
   "metadata": {},
   "source": [
    "* **quiz)** * 주어진 리스트에서 짝수만 추출하여 새로운 리스트를 만드세요"
   ]
  },
  {
   "cell_type": "code",
   "execution_count": 426,
   "metadata": {},
   "outputs": [
    {
     "name": "stdout",
     "output_type": "stream",
     "text": [
      "[2, 4, 6]\n"
     ]
    }
   ],
   "source": [
    "nums = [1,2,3,4,5,6]\n",
    "even_nums = [i for i in nums if i&1^1]\n",
    "print(even_nums)"
   ]
  },
  {
   "cell_type": "markdown",
   "metadata": {},
   "source": [
    "* list comprehension을 사용하여 생성"
   ]
  },
  {
   "cell_type": "code",
   "execution_count": null,
   "metadata": {},
   "outputs": [],
   "source": [
    "nums = [1, 2, 3, 4, 5, 6]\n",
    "\n",
    "even_nums2 = [i for i in nums if i % 2 == 0]\n",
    "even_nums3 = [i + 3 for i in nums if i % 2 == 0]\n",
    "\n",
    "print(even_nums2)\n",
    "print(even_nums3)"
   ]
  },
  {
   "cell_type": "code",
   "execution_count": null,
   "metadata": {},
   "outputs": [],
   "source": [
    "nums = [1, 2, 3, 4, 5, 6]\n",
    "\n",
    "new_nums = [i if i % 2 == 0 else i * 2 for i in nums]\n",
    "print(new_nums)"
   ]
  },
  {
   "cell_type": "markdown",
   "metadata": {},
   "source": [
    "* list comprehension 작성 요령\n",
    "  - [expression for element in collections] -> 기본 포맷\n",
    "  1. [ ] 빈리스트 작성\n",
    "  2. [for i in a] 루프와 순회할 대상, 순회 변수 작성\n",
    "  3. [i * 2 for i in a] for 앞에 새로 생성 될 아이템의 값을 작성, 여기서는 i*2로 작성\n",
    "   > 조건이 존재 하는 경우 [i \\* 2 for i in a if 조건 ]\n",
    "   \n",
    "   > 조건의 if, else를 표현하고 싶은 경우 [i \\* 2 if 조건 else 다른 값 for i in a]"
   ]
  },
  {
   "cell_type": "code",
   "execution_count": null,
   "metadata": {
    "collapsed": true
   },
   "outputs": [],
   "source": [
    "nums = [1, 2, 3, 4, 7, 9, 10, 12]\n",
    "\n",
    "# 짝수 : 해당 수 제곱, 홀수 : -1\n",
    "aa = [i ** 2 if i % 2 == 0 else -1 for i in nums]\n",
    "\n",
    "# 인덱스가 3보다 작거나 같으면 해당 값에 3승, 나머지 : 해당 값 + 7\n",
    "bb = [i**3 if i <= 3 else i+7 for i in range(len(nums))]\n",
    "\n",
    "# 인덱스가 3보다 작거나 같으면 해당 값에 3승\n",
    "bb = [nums[i]**3 for i in range(len(nums)) if i <= 3]"
   ]
  },
  {
   "cell_type": "code",
   "execution_count": null,
   "metadata": {},
   "outputs": [],
   "source": [
    "nums4 = [i for i in nums if i < 4]\n",
    "\n",
    "#nums41 = [i for i in nums if i < 4 else 0]\n",
    "\n",
    "nums5 = [i**2 if i < 4 else i*2 for i in nums]\n",
    "\n",
    "print(nums4)\n",
    "print(nums5)"
   ]
  },
  {
   "cell_type": "markdown",
   "metadata": {},
   "source": [
    "* 중첩 list comprehension\n",
    "  - for문의 중첩이 허용됨, 이때 먼저 사용하는 루프가 외부 루프로 동작"
   ]
  },
  {
   "cell_type": "code",
   "execution_count": null,
   "metadata": {},
   "outputs": [],
   "source": [
    "rows = list(range(1, 4))\n",
    "cols = list(range(1, 3))\n",
    "\n",
    "for row in rows:\n",
    "    for col in cols:\n",
    "        print(row, col)\n",
    "        \n",
    "print('-' * 20)\n",
    "        \n",
    "cells = [(row, col) for row in rows for col in cols]\n",
    "for row, col in cells:\n",
    "    print(row, col)"
   ]
  },
  {
   "cell_type": "markdown",
   "metadata": {},
   "source": [
    "* dictionary comprehension\n",
    "  - list comprehension과 거의 동일하게 생성\n",
    "  - {}를 이용하여 생성하며, key, value를 k:v 형식으로 작성\n",
    " "
   ]
  },
  {
   "cell_type": "code",
   "execution_count": null,
   "metadata": {},
   "outputs": [],
   "source": [
    "words = ['apple', 'banana', 'chicago', 'do', 'elephant']\n",
    "\n",
    "# dict comprehension을 사용하지 않는 경우\n",
    "dict1 = {}\n",
    "for w in words:\n",
    "    dict1[w] = len(w)\n",
    "    \n",
    "print(dict1)\n",
    "\n",
    "# dict comprehension을 사용하는 경우\n",
    "words = ['apple', 'banana', 'chicago', 'do', 'elephant']\n",
    "words_dict = {w : len(w) for w in words}\n",
    "\n",
    "# generator\n",
    "a = (i for i in nums)\n",
    "print(a)\n",
    "\n",
    "print(words_dict)"
   ]
  },
  {
   "cell_type": "markdown",
   "metadata": {},
   "source": [
    "* comprehension 연습문제\n",
    " 1. Celsius = [39.2, 36.5, 37.3, 37.8] F = (9/5) * C + 32 일 때, 리스트의 각 값을 화씨로 바꾼 리스트를 만드시오.\n",
    " 2. 주어진 문자열에서 띄어쓰기의 개수는? 'Today is very nice and I want to go out for dinner'\n",
    " 3. 주어진 문자열에서 모음을 모두 제거하시오. 'Today is very nice and I want to go out for dinner'"
   ]
  },
  {
   "cell_type": "code",
   "execution_count": 126,
   "metadata": {},
   "outputs": [
    {
     "data": {
      "text/plain": [
       "[102.56, 97.7, 99.14, 100.03999999999999]"
      ]
     },
     "execution_count": 126,
     "metadata": {},
     "output_type": "execute_result"
    }
   ],
   "source": [
    "Celsius = [39.2, 36.5, 37.3, 37.8]\n",
    "Fahrenheit = [i*9/5+32 for i in Celsius]\n",
    "Fahrenheit"
   ]
  },
  {
   "cell_type": "code",
   "execution_count": 133,
   "metadata": {},
   "outputs": [
    {
     "name": "stdout",
     "output_type": "stream",
     "text": [
      "11\n",
      "11\n"
     ]
    },
    {
     "data": {
      "text/plain": [
       "11"
      ]
     },
     "execution_count": 133,
     "metadata": {},
     "output_type": "execute_result"
    }
   ],
   "source": [
    "str1 = 'Today is very nice and I want to go out for dinner'\n",
    "print(str1.count(' '))\n",
    "print(len(str1.split())-1)\n",
    "\n",
    "lst = [s for s in str1 if s == ' ']\n",
    "len(lst)"
   ]
  },
  {
   "cell_type": "code",
   "execution_count": 137,
   "metadata": {},
   "outputs": [
    {
     "name": "stdout",
     "output_type": "stream",
     "text": [
      "Tdy s vry nc nd I wnt t g t fr dnnr\n"
     ]
    }
   ],
   "source": [
    "str1 = 'Today is very nice and I want to go out for dinner'\n",
    "print(''.join(s for s in list(str1) if s not in 'aeiou'))"
   ]
  },
  {
   "cell_type": "markdown",
   "metadata": {},
   "source": [
    "* **과제)**\n",
    " 1. 6277이 소수인지 아닌지 판별하는 코드를 작성하시오. 이 경우 해당 코드의 big o notation은?\n",
    " 1. 1 - 1000까지 정수 중 소수만 출력하시오.\n",
    "      1.1 - 에라토네스의 체\n",
    " 2. 1 - 9000까지 정수 중 palindrome의 개수는? palindrome은 11, 121, 1331, 999 등 앞으로 읽으나 뒤로 읽으나 같은 수를 의미 합니다.\n",
    " 3. 정렬된 주어진 리스트가 있을 때, 각각 순차탐색과, 이진탐색으로 특정 숫자를 검새하는 프로그램을 작성하시오\n"
   ]
  },
  {
   "cell_type": "code",
   "execution_count": 171,
   "metadata": {},
   "outputs": [
    {
     "name": "stdout",
     "output_type": "stream",
     "text": [
      "Prime number\n"
     ]
    }
   ],
   "source": [
    "n = 6277\n",
    "d = 2\n",
    "#O(N) = N\n",
    "while d<n:\n",
    "    if not n%d:\n",
    "        print(\"Not prime number. Divided by %d\" % d)\n",
    "        break\n",
    "    d+=1\n",
    "else:\n",
    "    print(\"Prime number\")"
   ]
  },
  {
   "cell_type": "code",
   "execution_count": 172,
   "metadata": {},
   "outputs": [
    {
     "name": "stdout",
     "output_type": "stream",
     "text": [
      "2 3 5 7 11 13 17 19 23 29 31 37 41 43 47 53 59 61 67 71 73 79 83 89 97 101 103 107 109 113 127 131 137 139 149 151 157 163 167 173 179 181 191 193 197 199 211 223 227 229 233 239 241 251 257 263 269 271 277 281 283 293 307 311 313 317 331 337 347 349 353 359 367 373 379 383 389 397 401 409 419 421 431 433 439 443 449 457 461 463 467 479 487 491 499 503 509 521 523 541 547 557 563 569 571 577 587 593 599 601 607 613 617 619 631 641 643 647 653 659 661 673 677 683 691 701 709 719 727 733 739 743 751 757 761 769 773 787 797 809 811 821 823 827 829 839 853 857 859 863 877 881 883 887 907 911 919 929 937 941 947 953 967 971 977 983 991 997 "
     ]
    }
   ],
   "source": [
    "sieve = {i:1 for i in range(2,1001)}\n",
    "\n",
    "for i in sieve:\n",
    "    j = 2\n",
    "    if sieve.get(i):\n",
    "        while i*j < 1001:\n",
    "            sieve[i*j] = 0\n",
    "            j += 1\n",
    "            \n",
    "for i, v in sieve.items():\n",
    "    if v : print(i,end=\" \")"
   ]
  },
  {
   "cell_type": "code",
   "execution_count": 177,
   "metadata": {},
   "outputs": [
    {
     "name": "stdout",
     "output_type": "stream",
     "text": [
      "188\n"
     ]
    }
   ],
   "source": [
    "cnt = 0\n",
    "for i in range(1,9001):\n",
    "    lst = list(str(i))\n",
    "    if lst == list(reversed(lst)):\n",
    "        cnt+=1\n",
    "print(cnt)"
   ]
  },
  {
   "cell_type": "code",
   "execution_count": 451,
   "metadata": {},
   "outputs": [
    {
     "name": "stdout",
     "output_type": "stream",
     "text": [
      ">>3\n",
      "3\n",
      "Index = 2, Value = 3\n",
      "Index = 2, Value = 3\n"
     ]
    }
   ],
   "source": [
    "lst = [1,2,3,4,5,6,7,8,9,10]\n",
    "lst.sort()\n",
    "m = len(lst)-1;d = 1;idx = 0\n",
    "\n",
    "n = int(input(\">>\"))\n",
    "print(n)\n",
    "\n",
    "#Sequential Search\n",
    "for i in lst:\n",
    "    if i == n:\n",
    "        print(\"Index = %d, Value = %d\" % (lst.index(i), i))\n",
    "        break\n",
    "else:\n",
    "    print(\"There is no number in list\")\n",
    "\n",
    "#Binary Search\n",
    "while d:\n",
    "    m = m//2 + (m&1)\n",
    "    idx += m*d\n",
    "    #When our lenth of list is even&odd size\n",
    "    idx += 1 if idx<0 else -1 if idx > len(lst)-1 else 0\n",
    "    #When our length of list is odd size\n",
    "    #if idx < 0 or idx > len(lst)-1 : break\n",
    "    d = 1 if lst[idx] < n else -1 if lst[idx] > n else 0\n",
    "    #print(\"m:\",m,\"\\nidx:\",idx,\"\\n\",lst,\"\\n\",'   '*idx,\"i\",d)\n",
    "#odd only => ~ if d else ~\n",
    "print(\"Index = %d, Value = %d\" % (idx, lst[idx])) if -1 < idx < len(lst) else print(\"There is no number in list\")"
   ]
  },
  {
   "cell_type": "code",
   "execution_count": 452,
   "metadata": {},
   "outputs": [
    {
     "name": "stdout",
     "output_type": "stream",
     "text": [
      ">>3\n",
      "3\n",
      "Index = 2, Value = 3\n"
     ]
    }
   ],
   "source": [
    "lst = [1,2,3,4,5,6,7,8,9,10];lst.sort()\n",
    "m = len(lst)-1;d = 1;idx = 0\n",
    "\n",
    "n = int(input(\">>\"));print(n)\n",
    "\n",
    "while d:\n",
    "    m = m//2 + (m&1)\n",
    "    idx += m*d\n",
    "    idx += 1 if idx<0 else -1 if idx > len(lst)-1 else 0\n",
    "    d = 1 if lst[idx] < n else -1 if lst[idx] > n else 0\n",
    "    \n",
    "print(\"Index = %d, Value = %d\" % (idx, lst[idx])) if -1 < idx < len(lst) else print(\"There is no number in list\")"
   ]
  },
  {
   "cell_type": "markdown",
   "metadata": {},
   "source": [
    "** project 1**\n",
    "숫자 맞추기 게임!\n",
    "[1, 100] 사이의 랜덤한 숫자를 맞추는 게임\n",
    "\n",
    "> 요구사항\n",
    " 1. 사용자는 7번의 시도를 할 수 있으며 7번 내에 생성된 숫자를 맞추어야 한다!\n",
    " 2. 사용자가 매번 시도를 할 때마다, 생성 된 숫자가 큰지, 작은지 같은지를 표시해준다.\n",
    " 3. 만약 7번 내에 맞출 경우, 해당 숫자 출력 후, 프로그램 종료\n",
    " 4. 만약 7번 내에 못맞출 경우, 숫자 찾기에 실패했음을 알리고 프로그램 종료\n",
    " \n",
    "> 필요 모듈\n",
    " 1. random\n",
    "    random.randint(a, b) -> [a, b] 랜덤한 숫자 생성\n",
    " 2. input() -> 사용자의 입력을 받아 문자열로 저장"
   ]
  },
  {
   "cell_type": "markdown",
   "metadata": {},
   "source": [
    "* 1 - 100사이의 랜덤한 정수 얻기"
   ]
  },
  {
   "cell_type": "code",
   "execution_count": null,
   "metadata": {},
   "outputs": [],
   "source": [
    "import random\n",
    "hidden = random.randint(1, 100)\n",
    "print(hidden)"
   ]
  },
  {
   "cell_type": "markdown",
   "metadata": {},
   "source": [
    "* 키보드 입력으로 값 생성"
   ]
  },
  {
   "cell_type": "code",
   "execution_count": 458,
   "metadata": {},
   "outputs": [
    {
     "name": "stdout",
     "output_type": "stream",
     "text": [
      "4\n",
      "4 <class 'int'>\n"
     ]
    }
   ],
   "source": [
    "a = int(input()) # 정수로 변경\n",
    "print(a, type(a))"
   ]
  },
  {
   "cell_type": "markdown",
   "metadata": {},
   "source": [
    "* **project template code**\n",
    " - your code here 아래 부분을 모두 완성하여 실행하면 숫자 맞추기 게임 완성!"
   ]
  },
  {
   "cell_type": "code",
   "execution_count": null,
   "metadata": {},
   "outputs": [],
   "source": [
    "import random\n",
    "\n",
    "# your code here\n",
    "# 1 - 100 임의의 수 생성\n",
    "hidden = random.randint(1,100)# 1 line of code \n",
    "\n",
    "i = 0\n",
    "while i < 7:\n",
    "    # your code here \n",
    "    # 사용자가 입력한 정수를 guess에 할당\n",
    "    guess = int(input())# 1 line of code\n",
    "\n",
    "    if guess == hidden:\n",
    "        print( 'you nailed it!', guess)\n",
    "        # your code here \n",
    "        # while loop 종료\n",
    "        break\n",
    "        \n",
    "    elif guess > hidden:\n",
    "        # your code here\n",
    "        # 적절한 출력 문\n",
    "        print('The value is smaller than your guess')\n",
    "    else:\n",
    "        # your code here\n",
    "        # 적절한 출력 문\n",
    "        print('The value is bigger than your guess')\n",
    "\n",
    "    i += 1\n",
    "else:\n",
    "    print('failed to guess a number in 7 times!')"
   ]
  }
 ],
 "metadata": {
  "kernelspec": {
   "display_name": "Python 3",
   "language": "python",
   "name": "python3"
  },
  "language_info": {
   "codemirror_mode": {
    "name": "ipython",
    "version": 3
   },
   "file_extension": ".py",
   "mimetype": "text/x-python",
   "name": "python",
   "nbconvert_exporter": "python",
   "pygments_lexer": "ipython3",
   "version": "3.6.1"
  }
 },
 "nbformat": 4,
 "nbformat_minor": 1
}

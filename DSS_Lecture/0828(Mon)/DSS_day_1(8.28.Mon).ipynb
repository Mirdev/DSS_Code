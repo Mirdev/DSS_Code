{
 "cells": [
  {
   "cell_type": "code",
   "execution_count": 4,
   "metadata": {},
   "outputs": [
    {
     "name": "stdout",
     "output_type": "stream",
     "text": [
      "30\n"
     ]
    }
   ],
   "source": [
    "a = 10\n",
    "b = 20\n",
    "print(a+b)"
   ]
  },
  {
   "cell_type": "markdown",
   "metadata": {},
   "source": [
    "'#' 제목\n",
    "# Introduction to python\n",
    "## Introduction\n",
    "### Intro\n",
    "#### Int\n",
    "##### I\n",
    " 리스트\n",
    " * programming language\n",
    "   * python\n",
    "     * variable\n",
    "     * for loop\n",
    "     * if condition\n",
    "   * *java*\n",
    "   * C++/**C#**\n",
    " * python history\n",
    " * python version\n",
    "   \n",
    " > python is a concise language\n",
    " [naver](http://naver.com)"
   ]
  }
 ],
 "metadata": {
  "kernelspec": {
   "display_name": "Python 3",
   "language": "python",
   "name": "python3"
  },
  "language_info": {
   "codemirror_mode": {
    "name": "ipython",
    "version": 3
   },
   "file_extension": ".py",
   "mimetype": "text/x-python",
   "name": "python",
   "nbconvert_exporter": "python",
   "pygments_lexer": "ipython3",
   "version": "3.6.1"
  }
 },
 "nbformat": 4,
 "nbformat_minor": 2
}

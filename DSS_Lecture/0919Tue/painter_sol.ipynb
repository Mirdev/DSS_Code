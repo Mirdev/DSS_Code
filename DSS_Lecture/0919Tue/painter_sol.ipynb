{
 "cells": [
  {
   "cell_type": "markdown",
   "metadata": {},
   "source": [
    "#BFS = Breadth first Search\n",
    "lst = [(x,y)]\n",
    "while lst:\n",
    "    cs, cy = lst[0]\n",
    "    lst = [(x-1, y), (x+1,y)...]\n",
    "    비우고채우고\n",
    "    거리가 1인점 2인점 3인점...\n",
    "    동심원처럼 퍼져나가는\n",
    "Queue\n",
    " enqueue, dequeue\n",
    " First In First Out\n",
    "Facebook"
   ]
  },
  {
   "cell_type": "markdown",
   "metadata": {},
   "source": [
    "#DFS = Depth First Search\n",
    "recursive\n",
    "Stack : 함수호출 자체가 스택\n",
    " push, pop\n",
    " Last In First Out\n",
    "방향이 맞을 때 최대한 깊게\n",
    "A* algorism(navigation alg)"
   ]
  },
  {
   "cell_type": "markdown",
   "metadata": {},
   "source": [
    "그래프 찾기 문제\n",
    "vertex(node), Edge\n",
    "Facebook, navigator"
   ]
  }
 ],
 "metadata": {
  "kernelspec": {
   "display_name": "Python 3",
   "language": "python",
   "name": "python3"
  },
  "language_info": {
   "codemirror_mode": {
    "name": "ipython",
    "version": 3
   },
   "file_extension": ".py",
   "mimetype": "text/x-python",
   "name": "python",
   "nbconvert_exporter": "python",
   "pygments_lexer": "ipython3",
   "version": "3.6.1"
  }
 },
 "nbformat": 4,
 "nbformat_minor": 2
}

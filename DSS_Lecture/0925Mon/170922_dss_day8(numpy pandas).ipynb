{
 "cells": [
  {
   "cell_type": "markdown",
   "metadata": {},
   "source": [
    "## 학습목표\n",
    " 1. 수치해석 라이브러리인 numpy의 이해 및 사용\n",
    " 2. 데이터 분석 라이브러이인 pandas의 이해 및 사용"
   ]
  },
  {
   "cell_type": "markdown",
   "metadata": {},
   "source": [
    "## numpy\n",
    " - 파이썬의 대표적인 수치해석 라이브러리\n",
    " - 벡터, 행렬등의 최적화된 data structure와 다양한 연산 제공\n",
    " - 다른 많은 machine learnig, 혹은 data analysis 패키지들에서 많이 사용 됨"
   ]
  },
  {
   "cell_type": "code",
   "execution_count": 4,
   "metadata": {},
   "outputs": [
    {
     "name": "stdout",
     "output_type": "stream",
     "text": [
      "1.13.1\n"
     ]
    }
   ],
   "source": [
    "import numpy as np\n",
    "print(np.__version__)"
   ]
  },
  {
   "cell_type": "markdown",
   "metadata": {},
   "source": [
    "* **ndarray**\n",
    " - numpy의 기본 타입\n",
    " - n dimentional array를 의미\n",
    " - vector, matrix를 표현\n",
    " - numpy.array([])로 생성"
   ]
  },
  {
   "cell_type": "code",
   "execution_count": 16,
   "metadata": {},
   "outputs": [
    {
     "name": "stdout",
     "output_type": "stream",
     "text": [
      "[1 3 4 6] <class 'numpy.ndarray'>\n",
      "[[0 1 2]\n",
      " [2 4 6]] <class 'numpy.ndarray'>\n",
      "\n",
      "[1 3 4 6]\n"
     ]
    },
    {
     "data": {
      "text/plain": [
       "(2, 3)"
      ]
     },
     "execution_count": 16,
     "metadata": {},
     "output_type": "execute_result"
    }
   ],
   "source": [
    "arr1 = np.array([1, 3, 4, 6]) # 1차원 벡터 생성\n",
    "arr2 = np.array([[0, 1, 2], [2, 4, 6]]) # 2차원 행렬 생성\n",
    "\n",
    "print(arr1, type(arr1))\n",
    "print(arr2, type(arr2))\n",
    "\n",
    "print()\n",
    "\n",
    "print(arr1)\n",
    "arr2.shape"
   ]
  },
  {
   "cell_type": "markdown",
   "metadata": {},
   "source": [
    "* **arange**\n",
    " - 내장 함수 range()와 동일한 기능을 수행함\n",
    " - ndarray 반환"
   ]
  },
  {
   "cell_type": "code",
   "execution_count": 15,
   "metadata": {},
   "outputs": [
    {
     "name": "stdout",
     "output_type": "stream",
     "text": [
      "[ 1  2  3  4  5  6  7  8  9 10] <class 'numpy.ndarray'>\n"
     ]
    },
    {
     "data": {
      "text/plain": [
       "(10,)"
      ]
     },
     "execution_count": 15,
     "metadata": {},
     "output_type": "execute_result"
    }
   ],
   "source": [
    "arr3 = np.arange(1, 11)\n",
    "print(arr3, type(arr3))\n",
    "arr3.shape"
   ]
  },
  {
   "cell_type": "markdown",
   "metadata": {},
   "source": [
    "* **linspace**\n",
    " - start, end를 n-1개의 균일한 간격으로 분할"
   ]
  },
  {
   "cell_type": "code",
   "execution_count": 21,
   "metadata": {},
   "outputs": [
    {
     "name": "stdout",
     "output_type": "stream",
     "text": [
      "[   0.   25.   50.   75.  100.]\n",
      "[   0.            8.33333333   16.66666667   25.           33.33333333\n",
      "   41.66666667   50.           58.33333333   66.66666667   75.\n",
      "   83.33333333   91.66666667  100.        ]\n"
     ]
    }
   ],
   "source": [
    "# 0 - 10의 범위를 n-1 등분 한다는 이야기\n",
    "arr4 = np.linspace(0, 100, 5) # end 마지막 포함\n",
    "print(arr4)\n",
    "a4 = np.linspace(0, 100, 13)\n",
    "print(a4)"
   ]
  },
  {
   "cell_type": "markdown",
   "metadata": {},
   "source": [
    "* **zeros**\n",
    " - 전달된 tuple 사이즈 행렬 반환\n",
    " - 0으로 채워짐"
   ]
  },
  {
   "cell_type": "code",
   "execution_count": 22,
   "metadata": {},
   "outputs": [
    {
     "name": "stdout",
     "output_type": "stream",
     "text": [
      "[[ 0.  0.  0.  0.]\n",
      " [ 0.  0.  0.  0.]]\n",
      "[ 0.  0.  0.  0.]\n",
      "[[[ 0.  0.]\n",
      "  [ 0.  0.]]\n",
      "\n",
      " [[ 0.  0.]\n",
      "  [ 0.  0.]]]\n"
     ]
    }
   ],
   "source": [
    "print(np.zeros((2, 4)))\n",
    "print(np.zeros(4))\n",
    "\n",
    "print(np.zeros((2, 2, 2))) # 차원이 올라갈수록 생각하기 힘드니 괄호의 개수로 봐보자"
   ]
  },
  {
   "cell_type": "markdown",
   "metadata": {},
   "source": [
    "* **ones**\n",
    " - 전달된 tuple 사이즈 행렬 반환\n",
    " - 1로 채워짐"
   ]
  },
  {
   "cell_type": "code",
   "execution_count": 23,
   "metadata": {},
   "outputs": [
    {
     "name": "stdout",
     "output_type": "stream",
     "text": [
      "[[[[[ 1.  1.  1. ...,  1.  1.  1.]\n",
      "    [ 1.  1.  1. ...,  1.  1.  1.]\n",
      "    [ 1.  1.  1. ...,  1.  1.  1.]\n",
      "    ..., \n",
      "    [ 1.  1.  1. ...,  1.  1.  1.]\n",
      "    [ 1.  1.  1. ...,  1.  1.  1.]\n",
      "    [ 1.  1.  1. ...,  1.  1.  1.]]\n",
      "\n",
      "   [[ 1.  1.  1. ...,  1.  1.  1.]\n",
      "    [ 1.  1.  1. ...,  1.  1.  1.]\n",
      "    [ 1.  1.  1. ...,  1.  1.  1.]\n",
      "    ..., \n",
      "    [ 1.  1.  1. ...,  1.  1.  1.]\n",
      "    [ 1.  1.  1. ...,  1.  1.  1.]\n",
      "    [ 1.  1.  1. ...,  1.  1.  1.]]]\n",
      "\n",
      "\n",
      "  [[[ 1.  1.  1. ...,  1.  1.  1.]\n",
      "    [ 1.  1.  1. ...,  1.  1.  1.]\n",
      "    [ 1.  1.  1. ...,  1.  1.  1.]\n",
      "    ..., \n",
      "    [ 1.  1.  1. ...,  1.  1.  1.]\n",
      "    [ 1.  1.  1. ...,  1.  1.  1.]\n",
      "    [ 1.  1.  1. ...,  1.  1.  1.]]\n",
      "\n",
      "   [[ 1.  1.  1. ...,  1.  1.  1.]\n",
      "    [ 1.  1.  1. ...,  1.  1.  1.]\n",
      "    [ 1.  1.  1. ...,  1.  1.  1.]\n",
      "    ..., \n",
      "    [ 1.  1.  1. ...,  1.  1.  1.]\n",
      "    [ 1.  1.  1. ...,  1.  1.  1.]\n",
      "    [ 1.  1.  1. ...,  1.  1.  1.]]]\n",
      "\n",
      "\n",
      "  [[[ 1.  1.  1. ...,  1.  1.  1.]\n",
      "    [ 1.  1.  1. ...,  1.  1.  1.]\n",
      "    [ 1.  1.  1. ...,  1.  1.  1.]\n",
      "    ..., \n",
      "    [ 1.  1.  1. ...,  1.  1.  1.]\n",
      "    [ 1.  1.  1. ...,  1.  1.  1.]\n",
      "    [ 1.  1.  1. ...,  1.  1.  1.]]\n",
      "\n",
      "   [[ 1.  1.  1. ...,  1.  1.  1.]\n",
      "    [ 1.  1.  1. ...,  1.  1.  1.]\n",
      "    [ 1.  1.  1. ...,  1.  1.  1.]\n",
      "    ..., \n",
      "    [ 1.  1.  1. ...,  1.  1.  1.]\n",
      "    [ 1.  1.  1. ...,  1.  1.  1.]\n",
      "    [ 1.  1.  1. ...,  1.  1.  1.]]]]\n",
      "\n",
      "\n",
      "\n",
      " [[[[ 1.  1.  1. ...,  1.  1.  1.]\n",
      "    [ 1.  1.  1. ...,  1.  1.  1.]\n",
      "    [ 1.  1.  1. ...,  1.  1.  1.]\n",
      "    ..., \n",
      "    [ 1.  1.  1. ...,  1.  1.  1.]\n",
      "    [ 1.  1.  1. ...,  1.  1.  1.]\n",
      "    [ 1.  1.  1. ...,  1.  1.  1.]]\n",
      "\n",
      "   [[ 1.  1.  1. ...,  1.  1.  1.]\n",
      "    [ 1.  1.  1. ...,  1.  1.  1.]\n",
      "    [ 1.  1.  1. ...,  1.  1.  1.]\n",
      "    ..., \n",
      "    [ 1.  1.  1. ...,  1.  1.  1.]\n",
      "    [ 1.  1.  1. ...,  1.  1.  1.]\n",
      "    [ 1.  1.  1. ...,  1.  1.  1.]]]\n",
      "\n",
      "\n",
      "  [[[ 1.  1.  1. ...,  1.  1.  1.]\n",
      "    [ 1.  1.  1. ...,  1.  1.  1.]\n",
      "    [ 1.  1.  1. ...,  1.  1.  1.]\n",
      "    ..., \n",
      "    [ 1.  1.  1. ...,  1.  1.  1.]\n",
      "    [ 1.  1.  1. ...,  1.  1.  1.]\n",
      "    [ 1.  1.  1. ...,  1.  1.  1.]]\n",
      "\n",
      "   [[ 1.  1.  1. ...,  1.  1.  1.]\n",
      "    [ 1.  1.  1. ...,  1.  1.  1.]\n",
      "    [ 1.  1.  1. ...,  1.  1.  1.]\n",
      "    ..., \n",
      "    [ 1.  1.  1. ...,  1.  1.  1.]\n",
      "    [ 1.  1.  1. ...,  1.  1.  1.]\n",
      "    [ 1.  1.  1. ...,  1.  1.  1.]]]\n",
      "\n",
      "\n",
      "  [[[ 1.  1.  1. ...,  1.  1.  1.]\n",
      "    [ 1.  1.  1. ...,  1.  1.  1.]\n",
      "    [ 1.  1.  1. ...,  1.  1.  1.]\n",
      "    ..., \n",
      "    [ 1.  1.  1. ...,  1.  1.  1.]\n",
      "    [ 1.  1.  1. ...,  1.  1.  1.]\n",
      "    [ 1.  1.  1. ...,  1.  1.  1.]]\n",
      "\n",
      "   [[ 1.  1.  1. ...,  1.  1.  1.]\n",
      "    [ 1.  1.  1. ...,  1.  1.  1.]\n",
      "    [ 1.  1.  1. ...,  1.  1.  1.]\n",
      "    ..., \n",
      "    [ 1.  1.  1. ...,  1.  1.  1.]\n",
      "    [ 1.  1.  1. ...,  1.  1.  1.]\n",
      "    [ 1.  1.  1. ...,  1.  1.  1.]]]]\n",
      "\n",
      "\n",
      "\n",
      " [[[[ 1.  1.  1. ...,  1.  1.  1.]\n",
      "    [ 1.  1.  1. ...,  1.  1.  1.]\n",
      "    [ 1.  1.  1. ...,  1.  1.  1.]\n",
      "    ..., \n",
      "    [ 1.  1.  1. ...,  1.  1.  1.]\n",
      "    [ 1.  1.  1. ...,  1.  1.  1.]\n",
      "    [ 1.  1.  1. ...,  1.  1.  1.]]\n",
      "\n",
      "   [[ 1.  1.  1. ...,  1.  1.  1.]\n",
      "    [ 1.  1.  1. ...,  1.  1.  1.]\n",
      "    [ 1.  1.  1. ...,  1.  1.  1.]\n",
      "    ..., \n",
      "    [ 1.  1.  1. ...,  1.  1.  1.]\n",
      "    [ 1.  1.  1. ...,  1.  1.  1.]\n",
      "    [ 1.  1.  1. ...,  1.  1.  1.]]]\n",
      "\n",
      "\n",
      "  [[[ 1.  1.  1. ...,  1.  1.  1.]\n",
      "    [ 1.  1.  1. ...,  1.  1.  1.]\n",
      "    [ 1.  1.  1. ...,  1.  1.  1.]\n",
      "    ..., \n",
      "    [ 1.  1.  1. ...,  1.  1.  1.]\n",
      "    [ 1.  1.  1. ...,  1.  1.  1.]\n",
      "    [ 1.  1.  1. ...,  1.  1.  1.]]\n",
      "\n",
      "   [[ 1.  1.  1. ...,  1.  1.  1.]\n",
      "    [ 1.  1.  1. ...,  1.  1.  1.]\n",
      "    [ 1.  1.  1. ...,  1.  1.  1.]\n",
      "    ..., \n",
      "    [ 1.  1.  1. ...,  1.  1.  1.]\n",
      "    [ 1.  1.  1. ...,  1.  1.  1.]\n",
      "    [ 1.  1.  1. ...,  1.  1.  1.]]]\n",
      "\n",
      "\n",
      "  [[[ 1.  1.  1. ...,  1.  1.  1.]\n",
      "    [ 1.  1.  1. ...,  1.  1.  1.]\n",
      "    [ 1.  1.  1. ...,  1.  1.  1.]\n",
      "    ..., \n",
      "    [ 1.  1.  1. ...,  1.  1.  1.]\n",
      "    [ 1.  1.  1. ...,  1.  1.  1.]\n",
      "    [ 1.  1.  1. ...,  1.  1.  1.]]\n",
      "\n",
      "   [[ 1.  1.  1. ...,  1.  1.  1.]\n",
      "    [ 1.  1.  1. ...,  1.  1.  1.]\n",
      "    [ 1.  1.  1. ...,  1.  1.  1.]\n",
      "    ..., \n",
      "    [ 1.  1.  1. ...,  1.  1.  1.]\n",
      "    [ 1.  1.  1. ...,  1.  1.  1.]\n",
      "    [ 1.  1.  1. ...,  1.  1.  1.]]]]]\n"
     ]
    }
   ],
   "source": [
    "print(np.ones((3, 3, 2, 7, 8)))\n",
    "#print np.ones(3)"
   ]
  },
  {
   "cell_type": "markdown",
   "metadata": {},
   "source": [
    "* **random sub package**\n",
    "  - 다양한 확률 분포를 이용한 랜덤 숫자로 채워진 ndarray 혹은 단일 값을 생성할 때 주로 사용"
   ]
  },
  {
   "cell_type": "code",
   "execution_count": 26,
   "metadata": {},
   "outputs": [
    {
     "name": "stdout",
     "output_type": "stream",
     "text": [
      "[[[ 0.30010605  0.80108486  0.44558656]\n",
      "  [ 0.62845383  0.23577035  0.7180075 ]]\n",
      "\n",
      " [[ 0.16203108  0.16491392  0.93000121]\n",
      "  [ 0.98673692  0.52148458  0.04904567]]\n",
      "\n",
      " [[ 0.09020084  0.79107994  0.72605218]\n",
      "  [ 0.29392408  0.60020182  0.33602943]]]\n",
      "[-1.86293679  1.0381419   0.43552201]\n"
     ]
    }
   ],
   "source": [
    "print(np.random.rand(3, 2, 3)) # [0, 1) 사이 출력 / rand 가변길이라서 \n",
    "print(np.random.randn(3)) # 정규분포"
   ]
  },
  {
   "cell_type": "code",
   "execution_count": 27,
   "metadata": {
    "collapsed": true
   },
   "outputs": [],
   "source": [
    "a = np.random.rand()"
   ]
  },
  {
   "cell_type": "code",
   "execution_count": 5,
   "metadata": {},
   "outputs": [
    {
     "data": {
      "text/plain": [
       "array([[[ 0.81426147,  0.94556468],\n",
       "        [ 0.65770851,  0.92107173]],\n",
       "\n",
       "       [[ 0.1704136 ,  0.24736764],\n",
       "        [ 0.96359945,  0.92833396]],\n",
       "\n",
       "       [[ 0.09272107,  0.60092459],\n",
       "        [ 0.51746453,  0.99177244]]])"
      ]
     },
     "execution_count": 5,
     "metadata": {},
     "output_type": "execute_result"
    }
   ],
   "source": [
    "a = np.random.rand(3, 2, 2)\n",
    "a"
   ]
  },
  {
   "cell_type": "code",
   "execution_count": 6,
   "metadata": {},
   "outputs": [
    {
     "data": {
      "text/plain": [
       "63"
      ]
     },
     "execution_count": 6,
     "metadata": {},
     "output_type": "execute_result"
    }
   ],
   "source": [
    "# 임의의 정수 한개 생성 [1, 100] #Return random integers from `low` (inclusive) to `high` (exclusive).\n",
    "np.random.randint(1, 100)"
   ]
  },
  {
   "cell_type": "code",
   "execution_count": 7,
   "metadata": {},
   "outputs": [
    {
     "data": {
      "text/plain": [
       "array([[37, 71, 99],\n",
       "       [44, 36, 42],\n",
       "       [93, 85,  5],\n",
       "       [86, 31,  5]])"
      ]
     },
     "execution_count": 7,
     "metadata": {},
     "output_type": "execute_result"
    }
   ],
   "source": [
    "# 임의의 정수 tensor 생성 \n",
    "np.random.randint(1, 100, size=(4, 3))"
   ]
  },
  {
   "cell_type": "code",
   "execution_count": 8,
   "metadata": {},
   "outputs": [
    {
     "data": {
      "text/plain": [
       "array([ 1.6919777 ,  1.2502314 ,  1.4336582 ,  1.52429926])"
      ]
     },
     "execution_count": 8,
     "metadata": {},
     "output_type": "execute_result"
    }
   ],
   "source": [
    "# 범위 지정을 원할 경우 uniform 함수 이용\n",
    "np.random.uniform(low=1.0, high=2.0, size=(4))"
   ]
  },
  {
   "cell_type": "code",
   "execution_count": 9,
   "metadata": {},
   "outputs": [
    {
     "data": {
      "text/plain": [
       "9"
      ]
     },
     "execution_count": 9,
     "metadata": {},
     "output_type": "execute_result"
    }
   ],
   "source": [
    "# 각 확률분포에 해당하는 함수가 존재\n",
    "np.random.binomial(10, 0.9)"
   ]
  },
  {
   "cell_type": "code",
   "execution_count": 13,
   "metadata": {},
   "outputs": [
    {
     "data": {
      "text/plain": [
       "array([5, 6, 9, 8, 7, 5, 1, 7, 1, 5, 7, 4, 6, 8, 9, 5, 1, 1, 5, 7, 5, 1, 6,\n",
       "       5, 0, 8, 2, 7, 9, 4, 3, 2, 1, 4, 0, 1, 6, 1, 2, 0])"
      ]
     },
     "execution_count": 13,
     "metadata": {},
     "output_type": "execute_result"
    }
   ],
   "source": [
    "# choice함수를 이용하여 샘플링 가능\n",
    "np.random.choice(range(10), size=40, replace=True)"
   ]
  },
  {
   "cell_type": "markdown",
   "metadata": {},
   "source": [
    "* **연습문제)**\n",
    " 1. 20 - 30 사이의 임의의 정수 4개를 출력하시오(중복 허용)\n",
    " 2. 20 - 30 사이의 임의의 정수 4개를 출력하시오(중복 x)\n",
    " 3. 20 - 30 사이의 임의의 실수 4개를 출력하시오\n",
    " 4. 0.01 - 1 사이의 임의의 실수 4개를 출력하시오 "
   ]
  },
  {
   "cell_type": "code",
   "execution_count": 25,
   "metadata": {},
   "outputs": [
    {
     "data": {
      "text/plain": [
       "array([27, 22, 24, 22])"
      ]
     },
     "execution_count": 25,
     "metadata": {},
     "output_type": "execute_result"
    }
   ],
   "source": [
    "np.random.choice(range(20, 30+1), size=4, replace=True)"
   ]
  },
  {
   "cell_type": "code",
   "execution_count": 26,
   "metadata": {},
   "outputs": [
    {
     "data": {
      "text/plain": [
       "array([21, 20, 22, 28])"
      ]
     },
     "execution_count": 26,
     "metadata": {},
     "output_type": "execute_result"
    }
   ],
   "source": [
    "np.random.choice(range(20, 30+1), size=(4), replace=False)"
   ]
  },
  {
   "cell_type": "code",
   "execution_count": 28,
   "metadata": {},
   "outputs": [
    {
     "data": {
      "text/plain": [
       "array([ 23.93330999,  24.27945572,  26.86491621,  20.77594827])"
      ]
     },
     "execution_count": 28,
     "metadata": {},
     "output_type": "execute_result"
    }
   ],
   "source": [
    "np.random.uniform(20, 30, size=4)"
   ]
  },
  {
   "cell_type": "code",
   "execution_count": 29,
   "metadata": {
    "scrolled": true
   },
   "outputs": [
    {
     "data": {
      "text/plain": [
       "array([ 0.94791089,  0.91277127,  0.64647193,  0.82638783])"
      ]
     },
     "execution_count": 29,
     "metadata": {},
     "output_type": "execute_result"
    }
   ],
   "source": [
    "np.random.uniform(0.01, 1, size=4)"
   ]
  },
  {
   "cell_type": "code",
   "execution_count": 30,
   "metadata": {},
   "outputs": [
    {
     "data": {
      "text/plain": [
       "array([ 0.01005218,  0.03359454,  0.21469083,  0.09420577])"
      ]
     },
     "execution_count": 30,
     "metadata": {},
     "output_type": "execute_result"
    }
   ],
   "source": [
    "# 균등하게 나누고 싶을때\n",
    "n = np.random.uniform(0, 2, size=4)\n",
    "10 **-n"
   ]
  },
  {
   "cell_type": "markdown",
   "metadata": {},
   "source": [
    "* ** seed ** \n",
    " - 실험, 분석 등을 할 때, 랜덤 값 생성 시, 해당 값을 추후에 또 사용해야 할 경우가 필요\n",
    " - 해당 경우에는 seed함수를 미리 호출하여 랜덤한 값을 동일 한 값으로 유지 할 수 있음\n",
    " - seed() 함수 호출 시, 정수를 전달"
   ]
  },
  {
   "cell_type": "code",
   "execution_count": 36,
   "metadata": {},
   "outputs": [
    {
     "name": "stdout",
     "output_type": "stream",
     "text": [
      "[[  4.17022005e-01   7.20324493e-01   1.14374817e-04]\n",
      " [  3.02332573e-01   1.46755891e-01   9.23385948e-02]]\n"
     ]
    }
   ],
   "source": [
    "np.random.seed(1) # seed 는 일회성이라 같이 호출을 해줘야함\n",
    "print(np.random.rand(2, 3))"
   ]
  },
  {
   "cell_type": "code",
   "execution_count": 41,
   "metadata": {},
   "outputs": [
    {
     "data": {
      "text/plain": [
       "array([50, 58,  4, 69, 25, 44, 77, 27, 53, 81])"
      ]
     },
     "execution_count": 41,
     "metadata": {},
     "output_type": "execute_result"
    }
   ],
   "source": [
    "np.random.randint(1, 101, 10) # seed없어서 바뀜 "
   ]
  },
  {
   "cell_type": "code",
   "execution_count": 51,
   "metadata": {},
   "outputs": [
    {
     "name": "stdout",
     "output_type": "stream",
     "text": [
      "0.5488135039273248\n",
      "0.43599490214200376\n"
     ]
    }
   ],
   "source": [
    "np.random.seed(0) # 랜덤한 값을 계속 유지하고 싶을 때 사용\n",
    "print(np.random.rand())\n",
    "\n",
    "np.random.seed(2) # 랜덤한 값을 계속 유지하고 싶을 때 사용\n",
    "print(np.random.rand())"
   ]
  },
  {
   "cell_type": "markdown",
   "metadata": {},
   "source": [
    "* **slicing**\n",
    " - 리스트, 문자열 slicing과 동일함\n",
    " - 단, ndarray의 차원이 높을 경우에는, 각 차원별로 slicing, indexing 가능"
   ]
  },
  {
   "cell_type": "code",
   "execution_count": 52,
   "metadata": {
    "collapsed": true
   },
   "outputs": [],
   "source": [
    "arr1 = np.array([1, 3, 4, 6])\n",
    "arr2 = np.array([[0, 1, 3], [2, 4, 6], [3, 7, 8]])"
   ]
  },
  {
   "cell_type": "code",
   "execution_count": 53,
   "metadata": {},
   "outputs": [
    {
     "name": "stdout",
     "output_type": "stream",
     "text": [
      "1\n",
      "[3 4]\n"
     ]
    }
   ],
   "source": [
    "print(arr1[0])\n",
    "print(arr1[1:-1])"
   ]
  },
  {
   "cell_type": "code",
   "execution_count": 54,
   "metadata": {},
   "outputs": [
    {
     "data": {
      "text/plain": [
       "array([[0, 1, 3],\n",
       "       [2, 4, 6],\n",
       "       [3, 7, 8]])"
      ]
     },
     "execution_count": 54,
     "metadata": {},
     "output_type": "execute_result"
    }
   ],
   "source": [
    "arr2"
   ]
  },
  {
   "cell_type": "code",
   "execution_count": 56,
   "metadata": {},
   "outputs": [
    {
     "name": "stdout",
     "output_type": "stream",
     "text": [
      "[2]\n",
      "2\n"
     ]
    }
   ],
   "source": [
    "print(arr2[1, :1]) # 슬라이싱을 하면 벡터 , 차원유지\n",
    "print(arr2[1, 0]) # 인덱싱 , 스칼라"
   ]
  },
  {
   "cell_type": "code",
   "execution_count": 57,
   "metadata": {},
   "outputs": [
    {
     "name": "stdout",
     "output_type": "stream",
     "text": [
      "[0 1 3]\n",
      "1\n",
      "[[2 4]]\n",
      "[3 6]\n",
      "[[1 3]\n",
      " [4 6]]\n"
     ]
    }
   ],
   "source": [
    "arr2 = np.array([[0, 1, 3], [2, 4, 6]])\n",
    "\n",
    "print(arr2[0]) # 1차원 \n",
    "print(arr2[0, 1]) # 스칼라\n",
    "print(arr2[1:, :2]) # 2차원, \n",
    "print(arr2[:, 2]) \n",
    "print(arr2[:, 1:])"
   ]
  },
  {
   "cell_type": "markdown",
   "metadata": {},
   "source": [
    "* **Boolean selection**\n",
    "  - bool 리스트로 해당 값이 True인 조건만 필터링"
   ]
  },
  {
   "cell_type": "code",
   "execution_count": 60,
   "metadata": {},
   "outputs": [
    {
     "name": "stdout",
     "output_type": "stream",
     "text": [
      "[False  True  True  True False  True  True False]\n"
     ]
    },
    {
     "ename": "TypeError",
     "evalue": "unsupported operand type(s) for %: 'list' and 'int'",
     "output_type": "error",
     "traceback": [
      "\u001b[1;31m---------------------------------------------------------------------------\u001b[0m",
      "\u001b[1;31mTypeError\u001b[0m                                 Traceback (most recent call last)",
      "\u001b[1;32m<ipython-input-60-9d5efe8b1ae7>\u001b[0m in \u001b[0;36m<module>\u001b[1;34m()\u001b[0m\n\u001b[0;32m      3\u001b[0m \u001b[1;33m\u001b[0m\u001b[0m\n\u001b[0;32m      4\u001b[0m \u001b[0mprint\u001b[0m\u001b[1;33m(\u001b[0m\u001b[0marr\u001b[0m \u001b[1;33m%\u001b[0m \u001b[1;36m2\u001b[0m \u001b[1;33m==\u001b[0m \u001b[1;36m0\u001b[0m\u001b[1;33m)\u001b[0m\u001b[1;33m\u001b[0m\u001b[0m\n\u001b[1;32m----> 5\u001b[1;33m \u001b[0mprint\u001b[0m\u001b[1;33m(\u001b[0m\u001b[0mlst\u001b[0m \u001b[1;33m%\u001b[0m \u001b[1;36m2\u001b[0m \u001b[1;33m==\u001b[0m \u001b[1;36m0\u001b[0m\u001b[1;33m)\u001b[0m\u001b[1;33m\u001b[0m\u001b[0m\n\u001b[0m",
      "\u001b[1;31mTypeError\u001b[0m: unsupported operand type(s) for %: 'list' and 'int'"
     ]
    }
   ],
   "source": [
    "arr = np.array([1, 2, 4, 8, 9, 6, 12, 13])\n",
    "lst = [1, 2, 4, 8, 9, 6, 12, 13]\n",
    "\n",
    "print(arr % 2 == 0) # 차원을 올려줌, 연산수행\n",
    "print(lst % 2 == 0)  # TypeError: unsupported operand type(s) for %: 'list' and 'int'"
   ]
  },
  {
   "cell_type": "markdown",
   "metadata": {},
   "source": [
    "## 중요 "
   ]
  },
  {
   "cell_type": "code",
   "execution_count": 62,
   "metadata": {},
   "outputs": [
    {
     "name": "stdout",
     "output_type": "stream",
     "text": [
      "[False  True  True  True False  True  True False]\n",
      "[ 2  4  8  6 12]\n",
      "[ 2  4  8  6 12]\n"
     ]
    }
   ],
   "source": [
    "even_mask = (arr % 2 == 0)\n",
    "print(even_mask)\n",
    "print(arr[even_mask]) # 참인것만!!!\n",
    "print(arr[arr % 2 == 0]) # 연산줄임!! "
   ]
  },
  {
   "cell_type": "markdown",
   "metadata": {},
   "source": [
    "* multiple conditions\n",
    " - and, or, not 키워드 사용 불가 (not에 !가 안됨)\n",
    " - & - AND \n",
    " - | - OR "
   ]
  },
  {
   "cell_type": "code",
   "execution_count": 63,
   "metadata": {},
   "outputs": [
    {
     "data": {
      "text/plain": [
       "array([ 1,  2,  4,  8,  9, 12, 13])"
      ]
     },
     "execution_count": 63,
     "metadata": {},
     "output_type": "execute_result"
    }
   ],
   "source": [
    "arr[(arr > 7) | (arr <= 5)] "
   ]
  },
  {
   "cell_type": "code",
   "execution_count": 64,
   "metadata": {},
   "outputs": [
    {
     "data": {
      "text/plain": [
       "array([2, 4, 8, 6])"
      ]
     },
     "execution_count": 64,
     "metadata": {},
     "output_type": "execute_result"
    }
   ],
   "source": [
    "arr[(arr % 2 == 0) & (arr <= 8)]"
   ]
  },
  {
   "cell_type": "markdown",
   "metadata": {},
   "source": [
    "* **ndarray operations**\n",
    "  - scala와의 연산은 전체 원소에 대해 적용\n",
    "  - 다른 ndarray와의 연산은 element-wise로 적용"
   ]
  },
  {
   "cell_type": "code",
   "execution_count": 65,
   "metadata": {},
   "outputs": [
    {
     "name": "stdout",
     "output_type": "stream",
     "text": [
      "[ 5 10 15 20 25 30]\n"
     ]
    }
   ],
   "source": [
    "arr = np.arange(1, 7) * 5\n",
    "print(arr)"
   ]
  },
  {
   "cell_type": "code",
   "execution_count": 66,
   "metadata": {},
   "outputs": [
    {
     "name": "stdout",
     "output_type": "stream",
     "text": [
      "[   625  10000  50625 160000 390625 810000]\n",
      "[  25.  100.  225.  400.  625.  900.]\n"
     ]
    }
   ],
   "source": [
    "arr2 = arr ** 4\n",
    "print(arr2)\n",
    "print(arr2 ** 0.5)"
   ]
  },
  {
   "cell_type": "code",
   "execution_count": 67,
   "metadata": {},
   "outputs": [
    {
     "name": "stdout",
     "output_type": "stream",
     "text": [
      "[ 3  6  9 12 15 18 21 24 27 30] [ 1  2  3  4  5  6  7  8  9 10]\n",
      "[ 2  4  6  8 10 12 14 16 18 20]\n",
      "[  3  12  27  48  75 108 147 192 243 300]\n",
      "[  9  36  81 144 225 324 441 576 729 900]\n",
      "[  9  36  81 144 225 324 441 576 729 900]\n"
     ]
    }
   ],
   "source": [
    "arr1 = np.arange(0, 30, 3) + 3\n",
    "arr2 = np.arange(1, 11)\n",
    "print(arr1, arr2)\n",
    "\n",
    "print(arr1 - arr2)\n",
    "print(arr1 * arr2)\n",
    "print(arr1 * arr1)\n",
    "#print arr1 ^2 \n",
    "print(arr1 ** 2)"
   ]
  },
  {
   "cell_type": "code",
   "execution_count": 68,
   "metadata": {},
   "outputs": [
    {
     "name": "stdout",
     "output_type": "stream",
     "text": [
      "[[2 2]\n",
      " [2 2]]\n",
      "[[4 4]\n",
      " [4 4]]\n"
     ]
    }
   ],
   "source": [
    "arr1 = np.array([[1, 1], [1, 1]])\n",
    "arr2 = np.array([[2, 2], [2, 2]])\n",
    "\n",
    "print(arr1 * arr2)  # 원소끼리의 곱\n",
    "print(arr1.dot(arr2)) # 행렬 곱"
   ]
  },
  {
   "cell_type": "markdown",
   "metadata": {},
   "source": [
    "* **logical operator**\n",
    "  - all()\n",
    "    - 모든 원소가 조건을 만족 시키면 True, 아니면 False\n",
    "  - any()\n",
    "    - 어떤 원소라도 조건을 만족 시키면 True, 아니면 False"
   ]
  },
  {
   "cell_type": "code",
   "execution_count": 82,
   "metadata": {},
   "outputs": [
    {
     "name": "stdout",
     "output_type": "stream",
     "text": [
      "[[6 5 6 3]\n",
      " [7 1 6 8]\n",
      " [2 7 8 1]\n",
      " [2 3 5 1]]\n"
     ]
    }
   ],
   "source": [
    "arr = np.random.randint(1, 10, size = (4,4))\n",
    "print(arr)"
   ]
  },
  {
   "cell_type": "code",
   "execution_count": 78,
   "metadata": {},
   "outputs": [
    {
     "name": "stdout",
     "output_type": "stream",
     "text": [
      "False\n"
     ]
    }
   ],
   "source": [
    "print(np.all(arr < 7))"
   ]
  },
  {
   "cell_type": "code",
   "execution_count": 83,
   "metadata": {},
   "outputs": [
    {
     "name": "stdout",
     "output_type": "stream",
     "text": [
      "False\n"
     ]
    }
   ],
   "source": [
    "print(np.any(arr == 9))"
   ]
  },
  {
   "cell_type": "markdown",
   "metadata": {},
   "source": [
    "* **ravel**\n",
    "  - 다차원배열을 1차원으로 변경 (쭈욱 핌~)"
   ]
  },
  {
   "cell_type": "code",
   "execution_count": 88,
   "metadata": {},
   "outputs": [
    {
     "name": "stdout",
     "output_type": "stream",
     "text": [
      "[[ 1  2  3  4  5]\n",
      " [10 11 12 13 14]]\n"
     ]
    }
   ],
   "source": [
    "arr = np.array([np.arange(1, 6), np.arange(10, 15)])\n",
    "print(arr)"
   ]
  },
  {
   "cell_type": "code",
   "execution_count": 89,
   "metadata": {},
   "outputs": [
    {
     "name": "stdout",
     "output_type": "stream",
     "text": [
      "[ 1  2  3  4  5 10 11 12 13 14]\n"
     ]
    }
   ],
   "source": [
    "print(arr.ravel())"
   ]
  },
  {
   "cell_type": "markdown",
   "metadata": {},
   "source": [
    "* **flatten**\n",
    " - 다차원 배열을 1차원으로 변경\n",
    " - copy를 생성하여 변경함"
   ]
  },
  {
   "cell_type": "code",
   "execution_count": 90,
   "metadata": {},
   "outputs": [
    {
     "name": "stdout",
     "output_type": "stream",
     "text": [
      "[ 1  2  3  4  5 10 11 12 13 14]\n"
     ]
    }
   ],
   "source": [
    "print(arr.flatten())"
   ]
  },
  {
   "cell_type": "code",
   "execution_count": 91,
   "metadata": {},
   "outputs": [
    {
     "name": "stdout",
     "output_type": "stream",
     "text": [
      "[ 1 10  2 11  3 12  4 13  5 14]\n"
     ]
    }
   ],
   "source": [
    "print(arr.flatten('F')) # column을 우선으로 변경"
   ]
  },
  {
   "cell_type": "code",
   "execution_count": 92,
   "metadata": {},
   "outputs": [
    {
     "name": "stdout",
     "output_type": "stream",
     "text": [
      "[ 1  2  3  4  5 10 11 12 13 14]\n",
      "[60  2  3  4  5 10 11 12 13 14]\n",
      "[[60  2  3  4  5]\n",
      " [10 11 12 13 14]]\n"
     ]
    }
   ],
   "source": [
    "# ravel vs flatten\n",
    "f_arr = arr.flatten() # copy를 반환\n",
    "r_arr = arr.ravel() # 원본 ndarray와 메모리 공유 <- 원본이 바뀜\n",
    "\n",
    "r_arr[0] = 60\n",
    "\n",
    "print(f_arr)\n",
    "print(r_arr)\n",
    "print(arr)"
   ]
  },
  {
   "cell_type": "markdown",
   "metadata": {},
   "source": [
    "* **reshaping**\n",
    " - array의 shape을 재정렬\n",
    " - 이때, 서로의 전체 원소 개수가 맞아야 가능\n",
    " - 데이터 정제에 가장 많이 사용\n",
    "   e.g) 이미지의 경우, 2차원 픽셀로 표현되나, 이것을 ml library로 전달하기 위해 reshape하여 사용"
   ]
  },
  {
   "cell_type": "code",
   "execution_count": 87,
   "metadata": {},
   "outputs": [
    {
     "name": "stdout",
     "output_type": "stream",
     "text": [
      "[ 1  2  3  4  5  6  7  8  9 10 11 12 13 14 15]\n",
      "[[ 1  2  3  4  5]\n",
      " [ 6  7  8  9 10]\n",
      " [11 12 13 14 15]]\n",
      "[ 1  2  3  4  5  6  7  8  9 10 11 12 13 14 15]\n"
     ]
    }
   ],
   "source": [
    "arr = np.arange(1, 16)\n",
    "print(arr)\n",
    "arr2 = arr.reshape(3, 5)\n",
    "print(arr2)\n",
    "print(arr)"
   ]
  },
  {
   "cell_type": "code",
   "execution_count": 85,
   "metadata": {},
   "outputs": [
    {
     "name": "stdout",
     "output_type": "stream",
     "text": [
      "[ 1  2  3  4  5  6  7  8  9 10 11 12 13 14 15]\n",
      "1\n",
      "8.0\n",
      "8.0\n",
      "15\n",
      "[99  2  3  4  5  6  7  8  9 10 20 21 22 23 24]\n",
      "4.32049379894\n",
      "0\n",
      "14\n",
      "120\n",
      "[ 1.          1.41421356  1.73205081  2.          2.23606798  2.44948974\n",
      "  2.64575131  2.82842712  3.          3.16227766  3.31662479  3.46410162\n",
      "  3.60555128  3.74165739  3.87298335]\n"
     ]
    }
   ],
   "source": [
    "print(arr)\n",
    "print(np.min(arr))\n",
    "print(np.mean(arr))\n",
    "print(np.median(arr))\n",
    "print(np.max(arr))\n",
    "print(np.maximum(arr, np.array([99, 1, 2, 3, 4, 5, 6, 7, 8, 9, 20, 21, 22, 23, 24])))\n",
    "print(np.std(arr))\n",
    "print(np.argmin(arr))\n",
    "print(np.argmax(arr))\n",
    "print(np.sum(arr))\n",
    "print(np.sqrt(arr))"
   ]
  },
  {
   "cell_type": "markdown",
   "metadata": {},
   "source": [
    "* **자주 쓰는 numpy 함수**"
   ]
  },
  {
   "cell_type": "code",
   "execution_count": null,
   "metadata": {
    "collapsed": true
   },
   "outputs": [],
   "source": []
  },
  {
   "cell_type": "markdown",
   "metadata": {},
   "source": [
    "* **axis**\n",
    " - 몇몇 함수에는 axis keyword 파라미터가 존재\n",
    " - axis값이 없는 경우에는 전체 데이터에 대해 적용\n",
    " - axis값이 있는 경우에는, 해당 axis를 **따라서** 연산 적용"
   ]
  },
  {
   "cell_type": "code",
   "execution_count": null,
   "metadata": {
    "collapsed": true
   },
   "outputs": [],
   "source": [
    "arr2 = np.array([[1, 2, 3], [4, 5, 6]])\n",
    "print(np.sum(arr2))"
   ]
  },
  {
   "cell_type": "code",
   "execution_count": null,
   "metadata": {
    "collapsed": true
   },
   "outputs": [],
   "source": [
    "# 1차원 적용\n",
    "arr2 = np.array([1, 2, 3])\n",
    "print(np.sum(arr2, axis=0))"
   ]
  },
  {
   "cell_type": "code",
   "execution_count": null,
   "metadata": {
    "collapsed": true
   },
   "outputs": [],
   "source": [
    "arr2 = np.array([[1, 2, 3], [4, 5, 6]])\n",
    "print(arr2)"
   ]
  },
  {
   "cell_type": "code",
   "execution_count": null,
   "metadata": {
    "collapsed": true
   },
   "outputs": [],
   "source": [
    "# 2차원 적용\n",
    "\n",
    "print(np.sum(arr2, axis=0))\n",
    "print(np.sum(arr2, axis=1))"
   ]
  },
  {
   "cell_type": "code",
   "execution_count": null,
   "metadata": {
    "collapsed": true
   },
   "outputs": [],
   "source": [
    "# 3차원 적용\n",
    "arr2 = np.array([[[1, 2, 3], [4, 5, 6]], [[1, 1, 1], [2, 2, 2]]] )\n",
    "print(np.sum(arr2, axis=0))\n",
    "print(np.sum(arr2, axis=1))\n",
    "print(np.sum(arr2, axis=2))"
   ]
  },
  {
   "cell_type": "markdown",
   "metadata": {},
   "source": [
    " * **numpy broadcasting**\n",
    "  - 연산시, 차원이 맞지 않은 경우, 적은 차원의 ndarray를 상위 차원으로 broadcast하여 연산 진행"
   ]
  },
  {
   "cell_type": "code",
   "execution_count": null,
   "metadata": {
    "collapsed": true
   },
   "outputs": [],
   "source": [
    "arr = np.arange(10)\n",
    "arr2 = np.arange(2, 12)\n",
    "arr3 = np.arange(10).reshape(2, 5)\n",
    "\n",
    "arr + arr2 # 기본적으로 element-wise 연산"
   ]
  },
  {
   "cell_type": "code",
   "execution_count": null,
   "metadata": {
    "collapsed": true
   },
   "outputs": [],
   "source": [
    "arr + 1"
   ]
  },
  {
   "cell_type": "code",
   "execution_count": null,
   "metadata": {
    "collapsed": true
   },
   "outputs": [],
   "source": [
    "2 ** arr "
   ]
  },
  {
   "cell_type": "code",
   "execution_count": null,
   "metadata": {
    "collapsed": true
   },
   "outputs": [],
   "source": [
    "arr ** 2"
   ]
  },
  {
   "cell_type": "code",
   "execution_count": null,
   "metadata": {
    "collapsed": true
   },
   "outputs": [],
   "source": [
    "arr3"
   ]
  },
  {
   "cell_type": "code",
   "execution_count": null,
   "metadata": {
    "collapsed": true
   },
   "outputs": [],
   "source": [
    "arr3 + arr[1:6]"
   ]
  },
  {
   "cell_type": "code",
   "execution_count": null,
   "metadata": {
    "collapsed": true
   },
   "outputs": [],
   "source": [
    "arr3.shape, arr[1:6].shape"
   ]
  },
  {
   "cell_type": "code",
   "execution_count": null,
   "metadata": {
    "collapsed": true
   },
   "outputs": [],
   "source": [
    "arr3 + 3"
   ]
  },
  {
   "cell_type": "markdown",
   "metadata": {},
   "source": [
    "* **where 함수**\n",
    " - condition에 따라 x, y선별적으로 선택"
   ]
  },
  {
   "cell_type": "code",
   "execution_count": null,
   "metadata": {
    "collapsed": true
   },
   "outputs": [],
   "source": [
    "a = np.array([1, 2, 4, 9, 10])\n",
    "b = np.array([0, 4, 9, 8, 7])\n",
    "a, b"
   ]
  },
  {
   "cell_type": "code",
   "execution_count": null,
   "metadata": {
    "collapsed": true
   },
   "outputs": [],
   "source": [
    "# 조건이 참이면 a, 거짓이면 b에서 선택\n",
    "np.where(a > 7, a, b) "
   ]
  },
  {
   "cell_type": "code",
   "execution_count": null,
   "metadata": {
    "collapsed": true
   },
   "outputs": [],
   "source": [
    "np.where([True, False, True, True, True], a, b)"
   ]
  },
  {
   "cell_type": "code",
   "execution_count": null,
   "metadata": {
    "collapsed": true
   },
   "outputs": [],
   "source": [
    "# 조건이 참이면 a, 거짓이면 1로 선택\n",
    "np.where(a > 7, a, 1)"
   ]
  },
  {
   "cell_type": "markdown",
   "metadata": {},
   "source": [
    "* **연습문제**\n",
    " 1. np.random.randn(5, 5)로 생성된 행렬에서 음수값을 0으로 변경하세요\n",
    " 2. numpy를 이용하여 Math.pi 값을 다시 구해봅시다.\n",
    " 3. python 기본 리스트 객체로 만든 두 행렬을 곱하는 코드를 작성하시오."
   ]
  },
  {
   "cell_type": "code",
   "execution_count": null,
   "metadata": {
    "collapsed": true
   },
   "outputs": [],
   "source": []
  },
  {
   "cell_type": "code",
   "execution_count": null,
   "metadata": {
    "collapsed": true
   },
   "outputs": [],
   "source": []
  },
  {
   "cell_type": "code",
   "execution_count": null,
   "metadata": {
    "collapsed": true
   },
   "outputs": [],
   "source": []
  },
  {
   "cell_type": "markdown",
   "metadata": {},
   "source": [
    "* **linear regression 실습**"
   ]
  },
  {
   "cell_type": "markdown",
   "metadata": {},
   "source": [
    "* generate random data\n",
    " - random package 활용하여 feature와 target 생성"
   ]
  },
  {
   "cell_type": "code",
   "execution_count": null,
   "metadata": {
    "collapsed": true
   },
   "outputs": [],
   "source": [
    "x = np.random.randn(100)\n",
    "x.shape, x"
   ]
  },
  {
   "cell_type": "code",
   "execution_count": null,
   "metadata": {
    "collapsed": true
   },
   "outputs": [],
   "source": [
    "y = 4 * x + 30 + 1.1 * np.random.randn(100)\n",
    "y.shape, y"
   ]
  },
  {
   "cell_type": "markdown",
   "metadata": {},
   "source": [
    "* plot data "
   ]
  },
  {
   "cell_type": "code",
   "execution_count": null,
   "metadata": {
    "collapsed": true
   },
   "outputs": [],
   "source": [
    "import matplotlib.pyplot as plt\n",
    "%matplotlib inline "
   ]
  },
  {
   "cell_type": "code",
   "execution_count": null,
   "metadata": {
    "collapsed": true
   },
   "outputs": [],
   "source": [
    "plt.scatter(x, y, c='r', marker='o')"
   ]
  },
  {
   "cell_type": "markdown",
   "metadata": {},
   "source": [
    "* create a model"
   ]
  },
  {
   "cell_type": "code",
   "execution_count": null,
   "metadata": {
    "collapsed": true
   },
   "outputs": [],
   "source": [
    "x = x.reshape(100, 1)"
   ]
  },
  {
   "cell_type": "code",
   "execution_count": null,
   "metadata": {
    "collapsed": true
   },
   "outputs": [],
   "source": [
    "from sklearn.linear_model import LinearRegression\n",
    "\n",
    "model = LinearRegression()\n",
    "model.fit(x, y)"
   ]
  },
  {
   "cell_type": "markdown",
   "metadata": {},
   "source": [
    "* check coefficient, bias(intercept)"
   ]
  },
  {
   "cell_type": "code",
   "execution_count": null,
   "metadata": {
    "collapsed": true
   },
   "outputs": [],
   "source": [
    "w = model.coef_\n",
    "b = model.intercept_\n",
    "\n",
    "w, b"
   ]
  },
  {
   "cell_type": "markdown",
   "metadata": {},
   "source": [
    "* plot data with our model"
   ]
  },
  {
   "cell_type": "code",
   "execution_count": null,
   "metadata": {
    "collapsed": true
   },
   "outputs": [],
   "source": [
    "plt.scatter(x, y, c='r', marker='o')\n",
    "plt.plot(x, w * x + b, 'g-')"
   ]
  },
  {
   "cell_type": "markdown",
   "metadata": {},
   "source": [
    "* **pandas**\n",
    "  - http://pandas.pydata.org/\n",
    "  - Opensource python 고성능 데이터 분석 라이브러리\n",
    "  - DataFrame, Series 객체가 가장 많이 사용\n",
    "  - ML library인 scikit-learn과 함께 ML 분석에 많이 사용 됨\n",
    "  - pip install pandas로 설치\n",
    "  - 관례적으로 pd 로 임포트"
   ]
  },
  {
   "cell_type": "code",
   "execution_count": null,
   "metadata": {
    "collapsed": true
   },
   "outputs": [],
   "source": [
    "import numpy as np\n",
    "import pandas as pd"
   ]
  },
  {
   "cell_type": "markdown",
   "metadata": {},
   "source": [
    " * **Series**\n",
    "  - pandas의 기본 객체 중 하나\n",
    "  - numpy의 ndarray를 기반으로 인덱싱을 기능을 추가하여 1차원 배열을 나타냄\n",
    "  - index를 지정하지 않을 시, 기본적으로 ndarray와 같이 0-based 인덱스 생성\n",
    "  - 같은 타입의 0개 이상의 데이터를 가질 수 있음"
   ]
  },
  {
   "cell_type": "code",
   "execution_count": null,
   "metadata": {
    "collapsed": true
   },
   "outputs": [],
   "source": [
    "s1 = pd.Series([1, 2,  20])\n",
    "print(s1)"
   ]
  },
  {
   "cell_type": "code",
   "execution_count": null,
   "metadata": {
    "collapsed": true
   },
   "outputs": [],
   "source": [
    "print(s1[0])"
   ]
  },
  {
   "cell_type": "code",
   "execution_count": null,
   "metadata": {
    "collapsed": true
   },
   "outputs": [],
   "source": [
    "s2 = pd.Series(list(range(1, 6)))\n",
    "print(s2)"
   ]
  },
  {
   "cell_type": "markdown",
   "metadata": {},
   "source": [
    " * **값 및 인덱스 접근**\n",
    "  - 각가 values, index 속성"
   ]
  },
  {
   "cell_type": "code",
   "execution_count": null,
   "metadata": {
    "collapsed": true
   },
   "outputs": [],
   "source": [
    "print(s2.values)"
   ]
  },
  {
   "cell_type": "code",
   "execution_count": null,
   "metadata": {
    "collapsed": true
   },
   "outputs": [],
   "source": [
    "print(s2.index)"
   ]
  },
  {
   "cell_type": "markdown",
   "metadata": {},
   "source": [
    "* **index 지정하기**"
   ]
  },
  {
   "cell_type": "code",
   "execution_count": null,
   "metadata": {
    "collapsed": true
   },
   "outputs": [],
   "source": [
    "print(chr(97))\n",
    "print([chr(i) for i in range(97, 100)])"
   ]
  },
  {
   "cell_type": "code",
   "execution_count": null,
   "metadata": {
    "collapsed": true
   },
   "outputs": [],
   "source": [
    "print(chr(97))\n",
    "\n",
    "s3 = pd.Series(list(range(1, 4)), index = [chr(i) for i in range(97, 100)])\n",
    "print(s3)\n",
    "print()\n",
    "print(s3.values)\n",
    "print()\n",
    "print(s3.index)"
   ]
  },
  {
   "cell_type": "code",
   "execution_count": null,
   "metadata": {
    "collapsed": true
   },
   "outputs": [],
   "source": [
    "print(s3[1]) # 기본 인덱스\n",
    "print(s3['c']) "
   ]
  },
  {
   "cell_type": "markdown",
   "metadata": {},
   "source": [
    "* **index 재사용**"
   ]
  },
  {
   "cell_type": "code",
   "execution_count": null,
   "metadata": {
    "collapsed": true
   },
   "outputs": [],
   "source": [
    "s4 = pd.Series(2, index = s3.index)\n",
    "print(s4)"
   ]
  },
  {
   "cell_type": "code",
   "execution_count": null,
   "metadata": {
    "collapsed": true
   },
   "outputs": [],
   "source": [
    "s5 = pd.Series(np.random.randn(5))\n",
    "print(s5)"
   ]
  },
  {
   "cell_type": "code",
   "execution_count": null,
   "metadata": {
    "collapsed": true
   },
   "outputs": [],
   "source": [
    "s6 = pd.Series(np.arange(1, 9))\n",
    "print(s6)"
   ]
  },
  {
   "cell_type": "code",
   "execution_count": null,
   "metadata": {
    "collapsed": true
   },
   "outputs": [],
   "source": [
    "s7 = pd.Series({'a' : 100, 'b' : 1000, 'c' : 2, 'd' : 6})\n",
    "print(s7)\n",
    "print(s7['b'])"
   ]
  },
  {
   "cell_type": "markdown",
   "metadata": {},
   "source": [
    "* **Series size, shape, unique, count, value_counts**\n",
    " - size : 개수 반환\n",
    " - shape : 튜플형태로 shape반환\n",
    " - unique: 유일한 값만 ndarray로 반환\n",
    " - count : NaN을 제외한 개수를 반환\n",
    " - value_counts: NaN을 제외하고 각 값들의 빈도를 반환 "
   ]
  },
  {
   "cell_type": "code",
   "execution_count": null,
   "metadata": {
    "collapsed": true
   },
   "outputs": [],
   "source": [
    "s = pd.Series([0, 1, 1, 2, 3, 4, 5, 6, 7, np.nan])\n",
    "print(s)"
   ]
  },
  {
   "cell_type": "code",
   "execution_count": null,
   "metadata": {
    "collapsed": true
   },
   "outputs": [],
   "source": [
    "print(len(s))"
   ]
  },
  {
   "cell_type": "code",
   "execution_count": null,
   "metadata": {
    "collapsed": true
   },
   "outputs": [],
   "source": [
    "print(s.size)"
   ]
  },
  {
   "cell_type": "code",
   "execution_count": null,
   "metadata": {
    "collapsed": true
   },
   "outputs": [],
   "source": [
    "print(s.shape)"
   ]
  },
  {
   "cell_type": "code",
   "execution_count": null,
   "metadata": {
    "collapsed": true
   },
   "outputs": [],
   "source": [
    "print(s.count()) # NaN을 제외한 값을 카운팅"
   ]
  },
  {
   "cell_type": "code",
   "execution_count": null,
   "metadata": {
    "collapsed": true
   },
   "outputs": [],
   "source": [
    "print(s.unique())"
   ]
  },
  {
   "cell_type": "code",
   "execution_count": null,
   "metadata": {
    "collapsed": true
   },
   "outputs": [],
   "source": [
    "print(s.value_counts()) # NaN 제외하고 값들을 카운팅 함"
   ]
  },
  {
   "cell_type": "markdown",
   "metadata": {},
   "source": [
    "* **head, tail, take**\n",
    " - head : 상위 n개 출력 기본 5개\n",
    " - tail : 하위 n개 출력 기본 5개\n",
    " - take : 주어진 인덱스 리스트와 매칭되는 원소만 추출"
   ]
  },
  {
   "cell_type": "code",
   "execution_count": null,
   "metadata": {
    "collapsed": true
   },
   "outputs": [],
   "source": [
    "s.head() # 상위 5개 출력"
   ]
  },
  {
   "cell_type": "code",
   "execution_count": null,
   "metadata": {
    "collapsed": true
   },
   "outputs": [],
   "source": [
    "s.head(n = 3)"
   ]
  },
  {
   "cell_type": "code",
   "execution_count": null,
   "metadata": {
    "collapsed": true
   },
   "outputs": [],
   "source": [
    "s.tail()"
   ]
  },
  {
   "cell_type": "code",
   "execution_count": null,
   "metadata": {
    "collapsed": true
   },
   "outputs": [],
   "source": [
    "s.tail(n = 2)"
   ]
  },
  {
   "cell_type": "code",
   "execution_count": null,
   "metadata": {
    "collapsed": true
   },
   "outputs": [],
   "source": [
    "print(s)\n",
    "print() \n",
    "print(s.take([0, 4, 3, 9]))"
   ]
  },
  {
   "cell_type": "code",
   "execution_count": null,
   "metadata": {
    "collapsed": true
   },
   "outputs": [],
   "source": [
    "s = pd.Series(np.arange(1, 4), index = ['x', 'y', 'z'])\n",
    "s.take([0, 2])\n",
    "#s.take(['x', 'z']) #0 - based index만 가능"
   ]
  },
  {
   "cell_type": "markdown",
   "metadata": {},
   "source": [
    " * **single value accessing**\n",
    "  - 인덱스를 이용하여 값 접근 가능\n",
    "  - 문자열 인덱스가 주어진 경우, 0-based index도 사용 가능\n",
    "  "
   ]
  },
  {
   "cell_type": "code",
   "execution_count": null,
   "metadata": {
    "collapsed": true
   },
   "outputs": [],
   "source": [
    "print(s['x']) # 인덱스로 가능"
   ]
  },
  {
   "cell_type": "code",
   "execution_count": null,
   "metadata": {
    "collapsed": true
   },
   "outputs": [],
   "source": [
    "print(s[1]) # 숫자 인덱스도 가능"
   ]
  },
  {
   "cell_type": "code",
   "execution_count": null,
   "metadata": {
    "collapsed": true
   },
   "outputs": [],
   "source": [
    "s = pd.Series(np.arange(1, 4), index = [100, 101, 102])\n",
    "print(s[100])\n",
    "print(s[0]) # 에러"
   ]
  },
  {
   "cell_type": "markdown",
   "metadata": {},
   "source": [
    "* **multiple values accessing**\n",
    " - 인덱스 리스트, ndarray로 여러 값에 접근 가능"
   ]
  },
  {
   "cell_type": "code",
   "execution_count": null,
   "metadata": {
    "collapsed": true
   },
   "outputs": [],
   "source": [
    "print(s)\n",
    "print(s[[100, 102]])"
   ]
  },
  {
   "cell_type": "markdown",
   "metadata": {},
   "source": [
    "* **loc , iloc**\n",
    "  - loc[] : index로 값 접근\n",
    "  - iloc[] : 0 based index로 값 접근"
   ]
  },
  {
   "cell_type": "code",
   "execution_count": null,
   "metadata": {
    "collapsed": true
   },
   "outputs": [],
   "source": [
    "print(s)"
   ]
  },
  {
   "cell_type": "code",
   "execution_count": null,
   "metadata": {
    "collapsed": true
   },
   "outputs": [],
   "source": [
    "print(s.loc[100])"
   ]
  },
  {
   "cell_type": "code",
   "execution_count": null,
   "metadata": {
    "collapsed": true
   },
   "outputs": [],
   "source": [
    "print(s.iloc[0])"
   ]
  },
  {
   "cell_type": "code",
   "execution_count": null,
   "metadata": {
    "collapsed": true
   },
   "outputs": [],
   "source": [
    "print(s.loc[[100, 102]])"
   ]
  },
  {
   "cell_type": "code",
   "execution_count": null,
   "metadata": {
    "collapsed": true
   },
   "outputs": [],
   "source": [
    "print(s.iloc[[0, 2]])"
   ]
  },
  {
   "cell_type": "code",
   "execution_count": null,
   "metadata": {
    "collapsed": true
   },
   "outputs": [],
   "source": [
    "s.loc[[100, 102, 104, 105]]"
   ]
  },
  {
   "cell_type": "code",
   "execution_count": null,
   "metadata": {
    "collapsed": true
   },
   "outputs": [],
   "source": [
    "# 에러 발생\n",
    "# 인덱스 4가 없기 때문\n",
    "s.iloc[[0, 2, 1, 4]] "
   ]
  },
  {
   "cell_type": "markdown",
   "metadata": {},
   "source": [
    "* **index를 기준으로 더하기**"
   ]
  },
  {
   "cell_type": "code",
   "execution_count": null,
   "metadata": {
    "collapsed": true
   },
   "outputs": [],
   "source": [
    "s1 = pd.Series([1, 2, 3, 4], index=['a', 'b', 'c', 'd'])\n",
    "print(s1)"
   ]
  },
  {
   "cell_type": "code",
   "execution_count": null,
   "metadata": {
    "collapsed": true
   },
   "outputs": [],
   "source": [
    "s2 = pd.Series([4, 3, 2, 1], index=['d', 'c', 'b', 'a'])\n",
    "s2"
   ]
  },
  {
   "cell_type": "code",
   "execution_count": null,
   "metadata": {
    "collapsed": true
   },
   "outputs": [],
   "source": [
    "print(s1 + s2)"
   ]
  },
  {
   "cell_type": "code",
   "execution_count": null,
   "metadata": {
    "collapsed": true
   },
   "outputs": [],
   "source": [
    "a1 = np.array([1, 2, 3, 4])\n",
    "a2 = np.array([4, 3, 2, 1])\n",
    "a1 + a2"
   ]
  },
  {
   "cell_type": "markdown",
   "metadata": {},
   "source": [
    "* **산술연산**\n",
    " - Series의 경우에도 스칼라와의 연산은 각 원소별로 스칼라와의 연산이 적용\n",
    " - Series와의 연산은 각 인덱스에 맞는 값끼리 연산이 적용\n",
    "   - 이때, 인덱스의 pair가 맞지 않으면, 결과는 NaN "
   ]
  },
  {
   "cell_type": "code",
   "execution_count": null,
   "metadata": {
    "collapsed": true
   },
   "outputs": [],
   "source": [
    "print(s1)"
   ]
  },
  {
   "cell_type": "code",
   "execution_count": null,
   "metadata": {
    "collapsed": true
   },
   "outputs": [],
   "source": [
    "print(s1 ** 2)\n",
    "print(s1)"
   ]
  },
  {
   "cell_type": "code",
   "execution_count": null,
   "metadata": {
    "collapsed": true
   },
   "outputs": [],
   "source": [
    "exp = pd.Series(2, s1.index)\n",
    "print(s1 ** exp)"
   ]
  },
  {
   "cell_type": "code",
   "execution_count": null,
   "metadata": {
    "collapsed": true
   },
   "outputs": [],
   "source": [
    "s1 = pd.Series({'a': 1, 'b': 2, 'c': 3, 'd': 5})\n",
    "s2 = pd.Series({'b': 6, 'c': 7, 'd': 9, 'e': 10})\n",
    "\n",
    "print(s1 + s2)"
   ]
  },
  {
   "cell_type": "markdown",
   "metadata": {},
   "source": [
    " * **NaN (Not a Number)**\n",
    "  - numpy와 비교"
   ]
  },
  {
   "cell_type": "code",
   "execution_count": null,
   "metadata": {
    "collapsed": true
   },
   "outputs": [],
   "source": [
    "nda = np.array([1, 2, 3, 4, 5])\n",
    "nda.mean()\n",
    "np.mean(nda)"
   ]
  },
  {
   "cell_type": "code",
   "execution_count": null,
   "metadata": {
    "collapsed": true
   },
   "outputs": [],
   "source": [
    "nda = np.array([1, 2, 3, 4, np.NaN])\n",
    "nda.mean()"
   ]
  },
  {
   "cell_type": "code",
   "execution_count": null,
   "metadata": {
    "collapsed": true
   },
   "outputs": [],
   "source": [
    "s = pd.Series([1, 2, 3, 4, np.NaN])\n",
    "print(s.mean())\n",
    "print(s.mean(skipna=False))"
   ]
  },
  {
   "cell_type": "markdown",
   "metadata": {},
   "source": [
    " * **Boolean selection**\n",
    "  - boolean Series가 []와 함께 사용되면 True 값에 해당하는 값만 새로 반환되는 Series객체에 포함됨"
   ]
  },
  {
   "cell_type": "code",
   "execution_count": null,
   "metadata": {
    "collapsed": true
   },
   "outputs": [],
   "source": [
    "s = pd.Series(np.arange(1, 10))\n",
    "s > 5\n",
    "print(s[s > 5])"
   ]
  },
  {
   "cell_type": "code",
   "execution_count": null,
   "metadata": {
    "collapsed": true
   },
   "outputs": [],
   "source": [
    "my_logic = s > 5\n",
    "print(s[my_logic])"
   ]
  },
  {
   "cell_type": "code",
   "execution_count": null,
   "metadata": {
    "collapsed": true
   },
   "outputs": [],
   "source": [
    "print(s[s > 5])\n"
   ]
  },
  {
   "cell_type": "code",
   "execution_count": null,
   "metadata": {
    "collapsed": true
   },
   "outputs": [],
   "source": [
    "#print s > 5 and s < 8\n",
    "#print s[s > 5 and s < 8]\n",
    "print(s[(s > 5) & (s < 8)]) # & and , | or"
   ]
  },
  {
   "cell_type": "code",
   "execution_count": null,
   "metadata": {
    "collapsed": true
   },
   "outputs": [],
   "source": [
    "print((s >= 0).all())\n",
    "print((s >= 2).all())"
   ]
  },
  {
   "cell_type": "code",
   "execution_count": null,
   "metadata": {
    "collapsed": true
   },
   "outputs": [],
   "source": [
    "print((s < 2).any())\n",
    "print(s[s < 2].any())"
   ]
  },
  {
   "cell_type": "code",
   "execution_count": null,
   "metadata": {
    "collapsed": true
   },
   "outputs": [],
   "source": [
    "print(s)\n",
    "print() \n",
    "print(s[s >= 7].sum())\n",
    "print((s >= 7).sum())"
   ]
  },
  {
   "cell_type": "markdown",
   "metadata": {},
   "source": [
    "* **Series 값 변경**\n",
    "  - 인덱스를 이용하여 변경  \n"
   ]
  },
  {
   "cell_type": "code",
   "execution_count": null,
   "metadata": {
    "collapsed": true
   },
   "outputs": [],
   "source": [
    "s = pd.Series([1, 10, 100], index = ['a', 'b', 'c'])\n",
    "s['d'] = 1000\n",
    "\n",
    "print(s)\n",
    "\n",
    "s['d'] = 10000\n",
    "print(s)"
   ]
  },
  {
   "cell_type": "code",
   "execution_count": null,
   "metadata": {
    "collapsed": true
   },
   "outputs": [],
   "source": [
    "del s['a']\n",
    "print(s)"
   ]
  },
  {
   "cell_type": "markdown",
   "metadata": {},
   "source": [
    "* **Slicing**\n",
    " - 리스트, ndarray와 동일하게 적용"
   ]
  },
  {
   "cell_type": "code",
   "execution_count": null,
   "metadata": {
    "collapsed": true
   },
   "outputs": [],
   "source": [
    "s.value_counts()"
   ]
  },
  {
   "cell_type": "code",
   "execution_count": null,
   "metadata": {
    "collapsed": true
   },
   "outputs": [],
   "source": [
    "s = pd.Series(np.arange(100, 110), index=np.arange(10, 20))\n",
    "print(s)\n",
    "print(s[0:5])\n",
    "print(s[:5])\n",
    "print(s[5:])\n",
    "print(s[-3:])"
   ]
  },
  {
   "cell_type": "markdown",
   "metadata": {},
   "source": [
    "* **DataFrame**\n",
    "  - Series가 1차원이라면 DataFrame은 2차원으로 확대된 버젼\n",
    "  - Excel spreadsheet이라고 생각하면 이해하기 쉬움\n",
    "  - 2차원이기 때문에 인덱스가 row, column로 구성됨"
   ]
  },
  {
   "cell_type": "code",
   "execution_count": null,
   "metadata": {
    "collapsed": true
   },
   "outputs": [],
   "source": [
    "import numpy as np\n",
    "import pandas as pd"
   ]
  },
  {
   "cell_type": "code",
   "execution_count": null,
   "metadata": {
    "collapsed": true
   },
   "outputs": [],
   "source": [
    "df = pd.DataFrame(np.array([[10, 11], [20, 22]]))\n",
    "print(df)"
   ]
  },
  {
   "cell_type": "code",
   "execution_count": null,
   "metadata": {
    "collapsed": true
   },
   "outputs": [],
   "source": [
    "df = pd.DataFrame(np.array([2, 1, 2, 3]))\n",
    "print(df, type(df))"
   ]
  },
  {
   "cell_type": "markdown",
   "metadata": {},
   "source": [
    "* **shape**\n",
    " - row, column에 대한 튜플 값으로 볼 수 있음"
   ]
  },
  {
   "cell_type": "code",
   "execution_count": null,
   "metadata": {
    "collapsed": true
   },
   "outputs": [],
   "source": [
    "df1 = pd.DataFrame([pd.Series(np.arange(10, 15)) ,\n",
    "            pd.Series(np.arange(20, 25))])\n",
    "print(df1)\n",
    "print(df1.shape)\n",
    "print() \n",
    "print(df1.info())\n",
    "print() \n",
    "print(df1.describe())"
   ]
  },
  {
   "cell_type": "code",
   "execution_count": null,
   "metadata": {
    "collapsed": true
   },
   "outputs": [],
   "source": [
    "df = pd.DataFrame(np.array([[10, 20], [20, 30]]), \n",
    "                  columns = ['a', 'b'])\n",
    "print(df)\n",
    "print(df.columns)\n",
    "print(df.columns[0], df.columns[1])\n",
    "\n",
    "df.columns = ['t1', 't2']\n",
    "print(df)"
   ]
  },
  {
   "cell_type": "code",
   "execution_count": null,
   "metadata": {
    "collapsed": true
   },
   "outputs": [],
   "source": [
    "df = pd.DataFrame(np.array([[10, 20], [20, 30]]), \n",
    "                  columns = ['a', 'b'], index = ['d1', 'd2'])\n",
    "print(df)\n",
    "print(df.index)"
   ]
  },
  {
   "cell_type": "markdown",
   "metadata": {},
   "source": [
    "* **Series dictionary로 부터 생성**"
   ]
  },
  {
   "cell_type": "code",
   "execution_count": null,
   "metadata": {
    "collapsed": true
   },
   "outputs": [],
   "source": [
    "s1 = pd.Series(np.arange(1, 6, 1))\n",
    "s2 = pd.Series(np.arange(6, 11, 1))\n",
    "df = pd.DataFrame({'c1': s1, 'c2': s2})\n",
    "\n",
    "print(df)"
   ]
  },
  {
   "cell_type": "markdown",
   "metadata": {},
   "source": [
    "* **csv 데이터로 부터 dataframe 생성**\n",
    "  - dataframe을 생성하는 가장 보편적인 방법\n",
    "  - 데이터 소스로부터 추출된 csv(comma separated values) 파일로 부터 df 생성"
   ]
  },
  {
   "cell_type": "code",
   "execution_count": null,
   "metadata": {
    "collapsed": true
   },
   "outputs": [],
   "source": [
    "sample_file = 'data/sample.csv'"
   ]
  },
  {
   "cell_type": "code",
   "execution_count": null,
   "metadata": {
    "collapsed": true
   },
   "outputs": [],
   "source": [
    "sample_df = pd.read_csv(sample_file)\n",
    "sample_df.head(n=3)"
   ]
  },
  {
   "cell_type": "code",
   "execution_count": null,
   "metadata": {
    "collapsed": true
   },
   "outputs": [],
   "source": [
    "sample_df = pd.read_csv(sample_file, usecols = [0, 1, 2, 3, 7])\n",
    "sample_df.head()"
   ]
  },
  {
   "cell_type": "code",
   "execution_count": null,
   "metadata": {
    "collapsed": true
   },
   "outputs": [],
   "source": [
    "sample_df = pd.read_csv(sample_file, index_col = 'Symbol', usecols = [0, 1, 2, 3, 7])\n",
    "sample_df.head()"
   ]
  },
  {
   "cell_type": "code",
   "execution_count": null,
   "metadata": {
    "collapsed": true
   },
   "outputs": [],
   "source": [
    "sample_df = pd.read_csv(sample_file, index_col = 'Symbol', \n",
    "                        usecols=['Name', 'Symbol', 'Price'])\n",
    "sample_df.head()"
   ]
  },
  {
   "cell_type": "markdown",
   "metadata": {},
   "source": [
    "* **data 개수**"
   ]
  },
  {
   "cell_type": "code",
   "execution_count": null,
   "metadata": {
    "collapsed": true
   },
   "outputs": [],
   "source": [
    "print(len(sample_df))"
   ]
  },
  {
   "cell_type": "code",
   "execution_count": null,
   "metadata": {
    "collapsed": true
   },
   "outputs": [],
   "source": [
    "print(sample_df.index)\n",
    "print() \n",
    "print(sample_df.columns)"
   ]
  },
  {
   "cell_type": "markdown",
   "metadata": {},
   "source": [
    "* **dataframe slicing**\n",
    "  - dataframe의 경우 기본적으로 [] 연산자가 column 선택에 사용\n",
    "  - 따라서 [0], ['some val'] 과 같이 하면 column 레벨의 데이터 추출\n",
    "  - 하지만, 유일하게 slicing은 row 레벨로 지원"
   ]
  },
  {
   "cell_type": "code",
   "execution_count": null,
   "metadata": {
    "collapsed": true
   },
   "outputs": [],
   "source": [
    "print(pd.__version__)"
   ]
  },
  {
   "cell_type": "code",
   "execution_count": null,
   "metadata": {
    "collapsed": true
   },
   "outputs": [],
   "source": [
    "#apple_df = pd.read_csv('apple.csv', header = None)\n",
    "apple_df = pd.read_csv('data/apple.csv')\n",
    "#print apple_df[:10]\n",
    "apple_df.head()"
   ]
  },
  {
   "cell_type": "code",
   "execution_count": null,
   "metadata": {
    "collapsed": true
   },
   "outputs": [],
   "source": [
    "print(apple_df['High'])"
   ]
  },
  {
   "cell_type": "markdown",
   "metadata": {},
   "source": [
    "* **column 선택하기**\n",
    "  - df에서 특정 컬럼의 데이터만 추출\n",
    "  - 컬럼 이름일 경우 이름만 사용 가능\n",
    "  - 컬럼 인덱스일 경우 인덱스의 리스트 사용 가능"
   ]
  },
  {
   "cell_type": "code",
   "execution_count": null,
   "metadata": {
    "collapsed": true
   },
   "outputs": [],
   "source": [
    "# 숫자 인덱스로 컬럼 셀렉션 확인 할 것 \n",
    "apple_df[['Date', 'Close', 'Volume']] # 인덱스로도 가능"
   ]
  },
  {
   "cell_type": "code",
   "execution_count": null,
   "metadata": {
    "collapsed": true
   },
   "outputs": [],
   "source": [
    "print(type(apple_df[[0, 4, 5]]))\n",
    "print(type(apple_df[[0]]))\n",
    "print(type(apple_df[['Date']]))\n",
    "print(type(apple_df[['Date', 'Close']]))\n",
    "print(type(apple_df['Date']))"
   ]
  },
  {
   "cell_type": "code",
   "execution_count": null,
   "metadata": {
    "collapsed": true
   },
   "outputs": [],
   "source": [
    "print(apple_df.Date)\n",
    "print(apple_df.Close)"
   ]
  },
  {
   "cell_type": "markdown",
   "metadata": {},
   "source": [
    "* **row 선택하기**\n",
    "  - Seires의 경우 []로 row 선택이 가능하나, **DataFrame의 경우는 기본적으로 column을 선택하도록 설계**\n",
    "  - [:10]과 같이 slicing의 경우에는 row 선택 가능\n",
    "  - .loc, .iloc, .ix 의 함수로 row 선택 가능"
   ]
  },
  {
   "cell_type": "code",
   "execution_count": null,
   "metadata": {
    "collapsed": true
   },
   "outputs": [],
   "source": [
    "print(apple_df[0:10])\n",
    "\n",
    "print(apple_df.loc[0])\n"
   ]
  },
  {
   "cell_type": "code",
   "execution_count": null,
   "metadata": {
    "collapsed": true
   },
   "outputs": [],
   "source": [
    "sample_df = pd.read_csv('sample.csv', index_col = 'Symbol', \n",
    "                        usecols = [0, 1, 2, 3, 7])\n",
    "sample_df"
   ]
  },
  {
   "cell_type": "code",
   "execution_count": null,
   "metadata": {
    "collapsed": true
   },
   "outputs": [],
   "source": [
    "print(sample_df.loc['MMM'])"
   ]
  },
  {
   "cell_type": "code",
   "execution_count": null,
   "metadata": {
    "collapsed": true
   },
   "outputs": [],
   "source": [
    "print(sample_df.loc[['MMM', 'MSFT']])"
   ]
  },
  {
   "cell_type": "code",
   "execution_count": null,
   "metadata": {
    "collapsed": true
   },
   "outputs": [],
   "source": [
    "print(sample_df.iloc[[0, 1, 2]])\n",
    "print(type(sample_df.iloc[[0, 1, 2]]))\n",
    "\n",
    "print(sample_df.iloc[0]) \n",
    "print(type(sample_df.iloc[0]))"
   ]
  },
  {
   "cell_type": "markdown",
   "metadata": {},
   "source": [
    "* **boolean selection으로 row 선택하기**"
   ]
  },
  {
   "cell_type": "code",
   "execution_count": null,
   "metadata": {
    "collapsed": true
   },
   "outputs": [],
   "source": [
    "print(sample_df.Price > 100)\n",
    "print(sample_df['Price'] > 100)"
   ]
  },
  {
   "cell_type": "code",
   "execution_count": null,
   "metadata": {
    "collapsed": true
   },
   "outputs": [],
   "source": [
    "sample_df[sample_df['Price'] > 100][['Name', 'Price']]"
   ]
  },
  {
   "cell_type": "code",
   "execution_count": null,
   "metadata": {
    "collapsed": true
   },
   "outputs": [],
   "source": [
    "print(sample_df[sample_df.Price > 100][['Price']])"
   ]
  },
  {
   "cell_type": "code",
   "execution_count": null,
   "metadata": {
    "collapsed": true
   },
   "outputs": [],
   "source": [
    "sample_df.head()"
   ]
  },
  {
   "cell_type": "markdown",
   "metadata": {},
   "source": [
    "* **새 column 추가하기**"
   ]
  },
  {
   "cell_type": "code",
   "execution_count": null,
   "metadata": {
    "collapsed": true
   },
   "outputs": [],
   "source": [
    "# 새로운 dataframe 생성\n",
    "copy = sample_df.copy()\n",
    "\n",
    "# 새로 생성된 프레임에 새로운 컬럼 추가 (기존 컬럼 이용)\n",
    "copy['TwicePrice'] = sample_df.Price * 2\n",
    "copy.head()"
   ]
  },
  {
   "cell_type": "code",
   "execution_count": null,
   "metadata": {
    "collapsed": true
   },
   "outputs": [],
   "source": [
    "copy['ratio'] = copy['Price'] / copy['Book Value']\n",
    "copy.head()"
   ]
  },
  {
   "cell_type": "code",
   "execution_count": null,
   "metadata": {
    "collapsed": true
   },
   "outputs": [],
   "source": [
    "# insert 함수를 이용하여 원하는 컬럼 위치에 삽입 가능\n",
    "copy.insert(1, 'TriplePrice', sample_df.Price * 3)\n",
    "copy.head()"
   ]
  },
  {
   "cell_type": "markdown",
   "metadata": {
    "collapsed": true
   },
   "source": [
    " * **column 삭제하기**"
   ]
  },
  {
   "cell_type": "code",
   "execution_count": null,
   "metadata": {
    "collapsed": true
   },
   "outputs": [],
   "source": [
    "print(copy[:2])\n",
    "\n",
    "# del 키워드로 삭제\n",
    "del copy['TriplePrice']\n",
    "print(copy[:2])"
   ]
  },
  {
   "cell_type": "markdown",
   "metadata": {},
   "source": [
    " * **row 추가/삭제하기**"
   ]
  },
  {
   "cell_type": "code",
   "execution_count": null,
   "metadata": {
    "collapsed": true
   },
   "outputs": [],
   "source": [
    "df1 = copy.iloc[0:3].copy()\n",
    "print(df1)\n",
    "\n",
    "# append 함수 사용\n",
    "copy = copy.append(df1)\n",
    "print(copy.tail())"
   ]
  },
  {
   "cell_type": "code",
   "execution_count": null,
   "metadata": {
    "collapsed": true
   },
   "outputs": [],
   "source": [
    "# 인덱스가 유일 값을 가져야 하는데???\n",
    "copy.loc['MMM']"
   ]
  },
  {
   "cell_type": "code",
   "execution_count": null,
   "metadata": {
    "collapsed": true
   },
   "outputs": [],
   "source": [
    "# drop 함수를 사용하여 해당 row 제거\n",
    "copy = copy.drop(['ABBV'])\n",
    "copy.tail()"
   ]
  }
 ],
 "metadata": {
  "kernelspec": {
   "display_name": "Python 3",
   "language": "python",
   "name": "python3"
  },
  "language_info": {
   "codemirror_mode": {
    "name": "ipython",
    "version": 3
   },
   "file_extension": ".py",
   "mimetype": "text/x-python",
   "name": "python",
   "nbconvert_exporter": "python",
   "pygments_lexer": "ipython3",
   "version": "3.6.1"
  }
 },
 "nbformat": 4,
 "nbformat_minor": 1
}

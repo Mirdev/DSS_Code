{
 "cells": [
  {
   "cell_type": "code",
   "execution_count": 17,
   "metadata": {},
   "outputs": [
    {
     "name": "stdout",
     "output_type": "stream",
     "text": [
      "First matrix (3x3)\n",
      "[1, 2, 3]\n",
      "[4, 5, 6]\n",
      "[7, 8, 9]\n",
      "Second matrix (3x3)\n",
      "[9, 8, 7]\n",
      "[6, 5, 4]\n",
      "[3, 2, 1]\n",
      "\n",
      "Result : [30, 69, 90]\n"
     ]
    }
   ],
   "source": [
    "list1 = [[1,2],[3,4],[5,6]]\n",
    "list2 = [[7,8,9],[8,7,6]]\n",
    "list1 = [[1,2,3],[4,5,6]]\n",
    "list2 = [[7,8],[9,8],[7,6]]\n",
    "list1 = [[1,2,3],[4,5,6],[7,8,9]]\n",
    "list2 = [[9,8,7],[6,5,4],[3,2,1]]\n",
    "res = []\n",
    "\n",
    "print(\"First matrix ({}x{})\".format(len(list1),len(list1[0])))\n",
    "for i in list1:\n",
    "    print(i)\n",
    "print(\"Second matrix ({}x{})\".format(len(list2),len(list2[0])))\n",
    "for i in list2:\n",
    "    print(i)\n",
    "print()\n",
    "if len(list1[0]) == len(list2):\n",
    "    for i in range(len(list1)):\n",
    "        dp = 0\n",
    "        for j in range(len(list1[0])):\n",
    "            dp += list1[i][j] * list2[j][i]\n",
    "        res.append(dp)\n",
    "    print(\"Result : {}\".format(res))\n",
    "else:\n",
    "    print(\"I can't execute dot product!\\n\\\n",
    "        They are not matching a number of columns and a number of rows respectibly First matrix and second matrix.\")"
   ]
  }
 ],
 "metadata": {
  "kernelspec": {
   "display_name": "Python 3",
   "language": "python",
   "name": "python3"
  },
  "language_info": {
   "codemirror_mode": {
    "name": "ipython",
    "version": 3
   },
   "file_extension": ".py",
   "mimetype": "text/x-python",
   "name": "python",
   "nbconvert_exporter": "python",
   "pygments_lexer": "ipython3",
   "version": "3.6.1"
  }
 },
 "nbformat": 4,
 "nbformat_minor": 2
}

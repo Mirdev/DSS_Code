{
 "cells": [
  {
   "cell_type": "markdown",
   "metadata": {},
   "source": [
    "# Data Science & Python"
   ]
  },
  {
   "cell_type": "markdown",
   "metadata": {},
   "source": [
    "## 학습목표\n",
    " 1. list, tuple, dictionary, set에 대해 이해 및 실습\n"
   ]
  },
  {
   "cell_type": "markdown",
   "metadata": {},
   "source": [
    "## List, Tuple, Dictionary, Set"
   ]
  },
  {
   "cell_type": "markdown",
   "metadata": {},
   "source": [
    "+ **list & tuple**\n",
    " * 복수개의 값을 담을 수 있는 데이터 구조\n",
    " * 실생활에서 사용하는 리스트(학생 리스트, 성적 리스트 등등)과 동일한 의미로 이해\n",
    " * list - mutable    (생성된 후에 변경 가능)  \n",
    " * tuple - immutable (생성된 후에 변경 불가능)  "
   ]
  },
  {
   "cell_type": "markdown",
   "metadata": {},
   "source": [
    "* **리스트 생성**\n",
    " - [] 안에 값을 담아서 생성\n",
    " - list() 함수로 생성\n",
    " - str.split()함수로 생성"
   ]
  },
  {
   "cell_type": "code",
   "execution_count": null,
   "metadata": {},
   "outputs": [],
   "source": [
    "a = [1, 2, 3, 5, 2, 1, 1, 2]\n",
    "print(a, type(a))"
   ]
  },
  {
   "cell_type": "code",
   "execution_count": null,
   "metadata": {},
   "outputs": [],
   "source": [
    "empty_list = []\n",
    "print (empty_list)\n",
    "\n",
    "#타입 관계없이 섞어서 넣을 수 있다(리스트 안에 리스트도) ['Aaron', 1, 1.25, 'David', 'Bill', 'Michael', 'John']\n",
    "first_names = ['Aaron', 'David', 'Bill', 'Michael', 'John']\n",
    "print(first_names)\n",
    "\n",
    "nums = [1, 4, 5, 3]\n",
    "print(nums)"
   ]
  },
  {
   "cell_type": "code",
   "execution_count": null,
   "metadata": {},
   "outputs": [],
   "source": [
    "empty_list2 = list() # []\n",
    "print(empty_list2)"
   ]
  },
  {
   "cell_type": "markdown",
   "metadata": {},
   "source": [
    "+ **list() 함수**\n",
    " + 다른 데이터 타입을 리스트로 변환할 때도 사용"
   ]
  },
  {
   "cell_type": "code",
   "execution_count": 1,
   "metadata": {},
   "outputs": [
    {
     "name": "stdout",
     "output_type": "stream",
     "text": [
      "['c', 'a', 't']\n",
      "<class 'tuple'>\n",
      "['Monday', 'Tuesday', 'Wednesday'] <class 'list'>\n"
     ]
    }
   ],
   "source": [
    "cat = 'cat'\n",
    "print(list(cat))\n",
    "\n",
    "test_tuple = ('Monday', 'Tuesday', 'Wednesday')\n",
    "print(type(test_tuple))\n",
    "print(list(test_tuple), type(list(test_tuple)))"
   ]
  },
  {
   "cell_type": "markdown",
   "metadata": {},
   "source": [
    "+ **string split 함수**\n",
    " * 구분자로 구분되는 리스트를 반환 (빈번히 사용 됨)"
   ]
  },
  {
   "cell_type": "code",
   "execution_count": null,
   "metadata": {},
   "outputs": [],
   "source": [
    "a = '1986/03/20'\n",
    "result = a.split('/')\n",
    "print(result)\n",
    "\n",
    "python_str = 'python is easy to learn'\n",
    "print(python_str.split())"
   ]
  },
  {
   "cell_type": "code",
   "execution_count": 2,
   "metadata": {},
   "outputs": [
    {
     "name": "stdout",
     "output_type": "stream",
     "text": [
      "['a', 'b', '', 'c', 'd', '', '', 'e']\n",
      "['a/b', 'c/d', '/e']\n"
     ]
    }
   ],
   "source": [
    "a = 'a/b//c/d///e'\n",
    "\n",
    "print(a.split('/'))\n",
    "print(a.split('//'))"
   ]
  },
  {
   "cell_type": "markdown",
   "metadata": {},
   "source": [
    "+ **indexing**\n",
    " * 문자열의 인덱싱과 동일하게 동작\n",
    " * [] 연산자를 이용하여 항목 얻어오기\n",
    " * [i] - i번째 원소를 반환\n",
    " * i가 음수인 경우도 가능하며 마지막원소가 -1로 하여 앞으로 갈때마다 1씩 감소함"
   ]
  },
  {
   "cell_type": "code",
   "execution_count": 3,
   "metadata": {},
   "outputs": [
    {
     "name": "stdout",
     "output_type": "stream",
     "text": [
      "1988\n",
      "1989\n",
      "2013\n",
      "2019\n",
      "2019\n"
     ]
    },
    {
     "ename": "IndexError",
     "evalue": "list index out of range",
     "output_type": "error",
     "traceback": [
      "\u001b[0;31m---------------------------------------------------------------------------\u001b[0m",
      "\u001b[0;31mIndexError\u001b[0m                                Traceback (most recent call last)",
      "\u001b[0;32m<ipython-input-3-871f47dcd3d4>\u001b[0m in \u001b[0;36m<module>\u001b[0;34m()\u001b[0m\n\u001b[1;32m      9\u001b[0m \u001b[0;34m\u001b[0m\u001b[0m\n\u001b[1;32m     10\u001b[0m \u001b[0;31m# 예외 발생 (index가 bound를 넘어감)\u001b[0m\u001b[0;34m\u001b[0m\u001b[0;34m\u001b[0m\u001b[0m\n\u001b[0;32m---> 11\u001b[0;31m \u001b[0mprint\u001b[0m\u001b[0;34m(\u001b[0m\u001b[0myears\u001b[0m\u001b[0;34m[\u001b[0m\u001b[0;36m5\u001b[0m\u001b[0;34m]\u001b[0m\u001b[0;34m)\u001b[0m\u001b[0;34m\u001b[0m\u001b[0m\n\u001b[0m",
      "\u001b[0;31mIndexError\u001b[0m: list index out of range"
     ]
    }
   ],
   "source": [
    "years = ['1988', '1989', '2013', '2016', '2019']\n",
    "print(years[0])\n",
    "print(years[1])\n",
    "print(years[2])\n",
    "\n",
    "# 마지막 원소에 대한 접근 \n",
    "print(years[len(years) - 1])\n",
    "print(years[-1])\n",
    "\n",
    "# 예외 발생 (index가 bound를 넘어감)\n",
    "print(years[5])"
   ]
  },
  {
   "cell_type": "markdown",
   "metadata": {},
   "source": [
    "* **연습문제**\n",
    "years[0][1]의 값은?"
   ]
  },
  {
   "cell_type": "code",
   "execution_count": 4,
   "metadata": {},
   "outputs": [
    {
     "data": {
      "text/plain": [
       "'9'"
      ]
     },
     "execution_count": 4,
     "metadata": {},
     "output_type": "execute_result"
    }
   ],
   "source": [
    "years[0][1]"
   ]
  },
  {
   "cell_type": "markdown",
   "metadata": {},
   "source": [
    "* **multiple indexing** \n",
    " - []연산자의 경우 이어서 계속 적용 가능"
   ]
  },
  {
   "cell_type": "code",
   "execution_count": 5,
   "metadata": {},
   "outputs": [
    {
     "name": "stdout",
     "output_type": "stream",
     "text": [
      "1\n",
      "r\n",
      "a\n"
     ]
    }
   ],
   "source": [
    "seoul = ['sinsa', 'gangnam', 'jongro']\n",
    "gyeonggi = ['pangyo', 'gwacheon', 'guri', 1, 2, 100]\n",
    "jeju = ['seogwipo', 123.3]\n",
    "\n",
    "korea = [seoul, gyeonggi, jeju, 'pyungchang']\n",
    "\n",
    "world = [korea, 1, 2, 3]\n",
    "\n",
    "print(korea[1][3]) #1\n",
    "print(korea[1][2][2]) #r\n",
    "print(world[0][0][0][-1]) #a"
   ]
  },
  {
   "cell_type": "markdown",
   "metadata": {},
   "source": [
    "* **인덱스 값 할당**\n",
    " - 인덱스에 접근하여 값을 업데이트 가능"
   ]
  },
  {
   "cell_type": "code",
   "execution_count": 6,
   "metadata": {},
   "outputs": [
    {
     "name": "stdout",
     "output_type": "stream",
     "text": [
      "1989\n",
      "['1988', '1986', '2013', '2016', '2019']\n"
     ]
    }
   ],
   "source": [
    "print(years[1])\n",
    "years[1] = '1986'\n",
    "print(years)"
   ]
  },
  {
   "cell_type": "code",
   "execution_count": 7,
   "metadata": {
    "collapsed": true
   },
   "outputs": [],
   "source": [
    "#str is immutable\n",
    "a = 'python is good'\n",
    "a = a.replace('p','P')\n",
    "#or\n",
    "a = 'Python is good'\n",
    "# it can't\n",
    "# a[0] = 'P'"
   ]
  },
  {
   "cell_type": "markdown",
   "metadata": {},
   "source": [
    "* **list slicing**\n",
    " - 문자열 슬라이싱과 동일하게 동작\n",
    " - 슬라이싱의 결과 역시 list!"
   ]
  },
  {
   "cell_type": "code",
   "execution_count": null,
   "metadata": {},
   "outputs": [],
   "source": [
    "print(years[1:])\n",
    "print(years[2:4])\n",
    "print(years[2:-1])\n",
    "print(years[:3])\n",
    "print(years[2:2])\n",
    "print(years[:])"
   ]
  },
  {
   "cell_type": "markdown",
   "metadata": {},
   "source": [
    "* **연습문제**\n",
    "years 리스트에서 두번째 원소를 제거해 보세요"
   ]
  },
  {
   "cell_type": "code",
   "execution_count": 10,
   "metadata": {},
   "outputs": [
    {
     "name": "stdout",
     "output_type": "stream",
     "text": [
      "['1988', '1986', '2013', '2016', '2019']\n",
      "['1988', '2013', '2016', '2019']\n"
     ]
    }
   ],
   "source": [
    "print(years)\n",
    "print(years[:1]+years[2:]) #n번째 원소 지우기 : [:n-1]+[n:]"
   ]
  },
  {
   "cell_type": "markdown",
   "metadata": {},
   "source": [
    "### list 멤버 함수"
   ]
  },
  {
   "cell_type": "markdown",
   "metadata": {},
   "source": [
    "* **append()**\n",
    " + 리스트의 끝에 항목을 추가함"
   ]
  },
  {
   "cell_type": "code",
   "execution_count": null,
   "metadata": {},
   "outputs": [],
   "source": [
    "a = [1, 2, 3, 4]\n",
    "b = [1]\n",
    "\n",
    "a.append(5)\n",
    "b.append(3)\n",
    "\n",
    "print(a)\n",
    "print(b)\n",
    "\n",
    "# b가 리스트 이므로 리스트 자체가 추가 됨\n",
    "a.append(b) #shift+tap?\n",
    "print(a)"
   ]
  },
  {
   "cell_type": "markdown",
   "metadata": {},
   "source": [
    "+ **extend()**\n",
    " * 리스트를 연장\n",
    " * += 로도 가능함"
   ]
  },
  {
   "cell_type": "code",
   "execution_count": 11,
   "metadata": {},
   "outputs": [
    {
     "name": "stdout",
     "output_type": "stream",
     "text": [
      "[1, 2, 3, 4, 10, 20, 30, 40]\n",
      "[10, 20, 30, 40]\n",
      "[10, 20, 30, 40, 1, 2, 3, 4, 10, 20, 30, 40]\n"
     ]
    }
   ],
   "source": [
    "a = [1, 2, 3, 4]\n",
    "b = [10, 20, 30, 40]\n",
    "\n",
    "#a.append(b)\n",
    "a.extend(b)\n",
    "\n",
    "print(a)\n",
    "print(b)\n",
    "\n",
    "b += a\n",
    "\n",
    "print(b)"
   ]
  },
  {
   "cell_type": "markdown",
   "metadata": {},
   "source": [
    "+ **insert()로 항목추가**\n",
    " * 리스트의 원하는 위치에 추가 가능\n",
    " * 앞에 인덱스를, 뒤에 아이템을 명시"
   ]
  },
  {
   "cell_type": "code",
   "execution_count": 12,
   "metadata": {},
   "outputs": [
    {
     "name": "stdout",
     "output_type": "stream",
     "text": [
      "[1, 2, 3, 4, 5, 10]\n"
     ]
    }
   ],
   "source": [
    "a = [1, 2, 4, 5, 10]\n",
    "a.insert(2, 3) #(idx,value)\n",
    "print(a)"
   ]
  },
  {
   "cell_type": "markdown",
   "metadata": {},
   "source": [
    "+ **아이템 삭제**\n",
    " * del 키워드 사용 \n",
    "   - 인덱스로 삭제 가능"
   ]
  },
  {
   "cell_type": "code",
   "execution_count": 13,
   "metadata": {},
   "outputs": [
    {
     "name": "stdout",
     "output_type": "stream",
     "text": [
      "[9, 1, 2, 3, 4, 5, 10, 100]\n",
      "[1, 2, 3, 4, 5, 10]\n"
     ]
    }
   ],
   "source": [
    "a = [9, 1, 2, 3, 4, 5, 10, 100]\n",
    "print(a)\n",
    "\n",
    "del a[-1] # python 구문 (할당연산자인 = 와 반대 역할을 함)\n",
    "del a[0]\n",
    "\n",
    "print(a)"
   ]
  },
  {
   "cell_type": "markdown",
   "metadata": {},
   "source": [
    "+ **remove()**\n",
    " * 값으로 항목 삭제"
   ]
  },
  {
   "cell_type": "code",
   "execution_count": 15,
   "metadata": {},
   "outputs": [
    {
     "name": "stdout",
     "output_type": "stream",
     "text": [
      "[1, 2, 1, 3, 4, 5]\n",
      "[2, 1, 3, 4, 5]\n"
     ]
    },
    {
     "ename": "TypeError",
     "evalue": "remove() takes exactly one argument (0 given)",
     "output_type": "error",
     "traceback": [
      "\u001b[0;31m---------------------------------------------------------------------------\u001b[0m",
      "\u001b[0;31mTypeError\u001b[0m                                 Traceback (most recent call last)",
      "\u001b[0;32m<ipython-input-15-0e1e147ede49>\u001b[0m in \u001b[0;36m<module>\u001b[0;34m()\u001b[0m\n\u001b[1;32m      6\u001b[0m \u001b[0;31m# 삭제할 아이템이 없으면 에러\u001b[0m\u001b[0;34m\u001b[0m\u001b[0;34m\u001b[0m\u001b[0m\n\u001b[1;32m      7\u001b[0m \u001b[0;31m#a.remove(88)\u001b[0m\u001b[0;34m\u001b[0m\u001b[0;34m\u001b[0m\u001b[0m\n\u001b[0;32m----> 8\u001b[0;31m \u001b[0ma\u001b[0m\u001b[0;34m.\u001b[0m\u001b[0mremove\u001b[0m\u001b[0;34m(\u001b[0m\u001b[0;34m)\u001b[0m\u001b[0;34m\u001b[0m\u001b[0m\n\u001b[0m\u001b[1;32m      9\u001b[0m \u001b[0mprint\u001b[0m\u001b[0;34m(\u001b[0m\u001b[0ma\u001b[0m\u001b[0;34m)\u001b[0m\u001b[0;34m\u001b[0m\u001b[0m\n",
      "\u001b[0;31mTypeError\u001b[0m: remove() takes exactly one argument (0 given)"
     ]
    }
   ],
   "source": [
    "a = [1, 2, 1, 3, 4, 5]\n",
    "print(a)\n",
    "a.remove(1) # 첫번째로 매칭되는 값만 삭제\n",
    "print(a)\n",
    "\n",
    "# 삭제할 아이템이 없으면 에러\n",
    "#a.remove(88)\n",
    "a.remove()\n",
    "print(a)"
   ]
  },
  {
   "cell_type": "markdown",
   "metadata": {},
   "source": [
    "+ **pop()**\n",
    "  - 지우고자 하는 아이템을 반환 후, 삭제"
   ]
  },
  {
   "cell_type": "code",
   "execution_count": 16,
   "metadata": {},
   "outputs": [
    {
     "name": "stdout",
     "output_type": "stream",
     "text": [
      "5\n",
      "[2, 1, 3, 4]\n",
      "2\n",
      "[1, 3, 4]\n"
     ]
    }
   ],
   "source": [
    "a = [1, 2, 1, 3, 4, 5]\n",
    "a.remove(1)\n",
    "\n",
    "b = a.pop() # 기본적으로 가장 마지막 값을 삭제\n",
    "print(b)\n",
    "print(a)\n",
    "\n",
    "print(a.pop(0))\n",
    "print(a)"
   ]
  },
  {
   "cell_type": "markdown",
   "metadata": {},
   "source": [
    "+ **index()**\n",
    " * 찾고자 하는 값의 인덱스 반환"
   ]
  },
  {
   "cell_type": "code",
   "execution_count": 17,
   "metadata": {},
   "outputs": [
    {
     "name": "stdout",
     "output_type": "stream",
     "text": [
      "0\n",
      "2\n"
     ]
    },
    {
     "ename": "ValueError",
     "evalue": "1 is not in list",
     "output_type": "error",
     "traceback": [
      "\u001b[0;31m---------------------------------------------------------------------------\u001b[0m",
      "\u001b[0;31mValueError\u001b[0m                                Traceback (most recent call last)",
      "\u001b[0;32m<ipython-input-17-7caf01e56f2e>\u001b[0m in \u001b[0;36m<module>\u001b[0;34m()\u001b[0m\n\u001b[1;32m      3\u001b[0m \u001b[0mprint\u001b[0m\u001b[0;34m(\u001b[0m\u001b[0ma\u001b[0m\u001b[0;34m.\u001b[0m\u001b[0mindex\u001b[0m\u001b[0;34m(\u001b[0m\u001b[0;36m1\u001b[0m\u001b[0;34m)\u001b[0m\u001b[0;34m)\u001b[0m\u001b[0;34m\u001b[0m\u001b[0m\n\u001b[1;32m      4\u001b[0m \u001b[0mprint\u001b[0m\u001b[0;34m(\u001b[0m\u001b[0ma\u001b[0m\u001b[0;34m.\u001b[0m\u001b[0mindex\u001b[0m\u001b[0;34m(\u001b[0m\u001b[0;36m1\u001b[0m\u001b[0;34m,\u001b[0m \u001b[0;36m1\u001b[0m\u001b[0;34m)\u001b[0m\u001b[0;34m)\u001b[0m\u001b[0;34m\u001b[0m\u001b[0m\n\u001b[0;32m----> 5\u001b[0;31m \u001b[0mprint\u001b[0m\u001b[0;34m(\u001b[0m\u001b[0ma\u001b[0m\u001b[0;34m.\u001b[0m\u001b[0mindex\u001b[0m\u001b[0;34m(\u001b[0m\u001b[0;36m1\u001b[0m\u001b[0;34m,\u001b[0m \u001b[0;36m1\u001b[0m\u001b[0;34m,\u001b[0m \u001b[0;36m2\u001b[0m\u001b[0;34m)\u001b[0m\u001b[0;34m)\u001b[0m\u001b[0;34m\u001b[0m\u001b[0m\n\u001b[0m",
      "\u001b[0;31mValueError\u001b[0m: 1 is not in list"
     ]
    }
   ],
   "source": [
    "a = [1, 2, 1, 3, 4, 5]\n",
    "\n",
    "print(a.index(1))\n",
    "print(a.index(1, 1))\n",
    "print(a.index(1, 1, 2))"
   ]
  },
  {
   "cell_type": "markdown",
   "metadata": {},
   "source": [
    "* **in**\n",
    " + 리스트 내에 해당 값이 존재하는지 확인\n",
    " + value in [list]\n",
    " + True, False 중 한가지로 반환"
   ]
  },
  {
   "cell_type": "code",
   "execution_count": null,
   "metadata": {},
   "outputs": [],
   "source": [
    "years = ['1988', '1989', '2013', '2016', '2019', '2019']\n",
    "\n",
    "print('19888' in years)\n",
    "print('1989' in years)\n",
    "print(1989 in years)"
   ]
  },
  {
   "cell_type": "markdown",
   "metadata": {},
   "source": [
    "* **count()**\n",
    " + 리스트 내에 해당 값의 카운트"
   ]
  },
  {
   "cell_type": "code",
   "execution_count": null,
   "metadata": {},
   "outputs": [],
   "source": [
    "print(years.count('19888'))\n",
    "print(years.count('1988'))\n",
    "print(years.count('2019'))"
   ]
  },
  {
   "cell_type": "markdown",
   "metadata": {},
   "source": [
    "* **join()**\n",
    " + 리스트의 원소를 구분자를 이용하여 문자열로 합친다\n",
    " + join은 string의 함수이다\n",
    " + list의 split() 함수와 반대의 작업을 함"
   ]
  },
  {
   "cell_type": "code",
   "execution_count": 19,
   "metadata": {},
   "outputs": [
    {
     "name": "stdout",
     "output_type": "stream",
     "text": [
      "['python', 'is', 'good']\n",
      "python is good\n"
     ]
    }
   ],
   "source": [
    "a = 'python is good'\n",
    "print(a.split())\n",
    "print(a)"
   ]
  },
  {
   "cell_type": "code",
   "execution_count": 18,
   "metadata": {},
   "outputs": [
    {
     "name": "stdout",
     "output_type": "stream",
     "text": [
      "1986/03/20\n",
      "['1986', '03', '20']\n"
     ]
    }
   ],
   "source": [
    "birth_date_components = ['1986', '03', '20']\n",
    "print('/'.join(birth_date_components))\n",
    "print(birth_date_components)"
   ]
  },
  {
   "cell_type": "markdown",
   "metadata": {},
   "source": [
    "* **list 정렬**\n",
    " + sort() -> 리스트 자체를 내부적으로 정렬 (멤버함수)\n",
    " + sorted() -> 리스트의 정렬된 복사본을 반환 (내장함수)\n"
   ]
  },
  {
   "cell_type": "code",
   "execution_count": 21,
   "metadata": {},
   "outputs": [
    {
     "name": "stdout",
     "output_type": "stream",
     "text": [
      "[9, 8, 7, 6, 5, 4, 3, 2, 1]\n",
      "[9, 8, 7, 6, 5, 4, 3, 2, 1]\n",
      "[9, 8, 1, 2, 7, 5, 6, 3, 4]\n"
     ]
    }
   ],
   "source": [
    "#오름차순 - 작은거부터 \n",
    "#내림차순 - 큰거부터\n",
    "\n",
    "a = [9, 8, 1, 2, 7, 5, 6, 3, 4]\n",
    "a.sort(reverse=True)\n",
    "\n",
    "print (a)\n",
    "\n",
    "a = [9, 8, 1, 2, 7, 5, 6, 3, 4]\n",
    "\n",
    "b = sorted(a, reverse=True)\n",
    "print (b)\n",
    "print (a)"
   ]
  },
  {
   "cell_type": "markdown",
   "metadata": {},
   "source": [
    "* **리스트의 대입 및 복사 =, [:]**\n",
    " + = -> 할당, a와 b가 같은 리스트를 가리킴\n",
    " + [:] -> 복사, a와 b가 다른 리스트를 가리킴"
   ]
  },
  {
   "cell_type": "code",
   "execution_count": 22,
   "metadata": {
    "collapsed": true
   },
   "outputs": [],
   "source": [
    "a = 30\n",
    "b = a"
   ]
  },
  {
   "cell_type": "code",
   "execution_count": 28,
   "metadata": {},
   "outputs": [
    {
     "name": "stdout",
     "output_type": "stream",
     "text": [
      "[1, 2, 3, 4]\n",
      "[1, 2, 3, 4]\n",
      "--------------------\n",
      "[22, 2, 3, 4]\n",
      "[22, 2, 3, 4]\n",
      "[24, 2, 3, 4]\n",
      "[22, 2, 3, 4]\n"
     ]
    }
   ],
   "source": [
    "a = [1, 2, 3, 4]\n",
    "\n",
    "b = a\n",
    "\n",
    "print (a)\n",
    "print (b)\n",
    "print ('-' * 20)\n",
    "\n",
    "a[0] = 22\n",
    "\n",
    "print (a)\n",
    "print (b)\n",
    "\n",
    "# copy\n",
    "b = a[:] #메모리에 a를 다시 복사하여 새로운 주소를 b에 할당\n",
    "#or\n",
    "#b = list(a)\n",
    "\n",
    "a[0] = 24\n",
    "print (a)\n",
    "print (b)\n",
    "\n",
    "#value type(int, float, boll...) vs ref type(dict, list, str...)\n",
    "#a=30;b=a => value copy\n",
    "#a=[1,2,3,4];b=a => adress copy\n",
    "#a=1000, 1000:[1,2,3,4]\n",
    "#b=a => b=1000"
   ]
  },
  {
   "cell_type": "markdown",
   "metadata": {},
   "source": [
    "* **list 연습문제**\n",
    " 1. 리스트가 주어졌을 때, 처음과 마지막 원소만 갖는 리스트로 변환하시오. [1, 2, 3] -> [1, 3], [2, 3, 4, 5] -> [2, 5]  \n",
    " 2. 리스트가 주어졌을 때, 임의의 두 원소의 합의 최대값을 구하시오. [1, 9, 7, 8, 2, 5, 11]\n",
    " \n",
    " \n",
    " \n",
    " \n",
    " \n",
    " \n",
    " \n",
    " \n",
    " \n",
    " \n",
    " \n",
    " \n",
    " \n",
    " \n",
    " \n",
    " \n",
    " \n",
    " \n",
    " "
   ]
  },
  {
   "cell_type": "code",
   "execution_count": 30,
   "metadata": {},
   "outputs": [
    {
     "name": "stdout",
     "output_type": "stream",
     "text": [
      "[2, 5]\n"
     ]
    }
   ],
   "source": [
    "lst = [2,3,4,5]\n",
    "lst2 = []\n",
    "lst2.append(lst[0])\n",
    "lst2.append(lst[-1])\n",
    "print(lst2)"
   ]
  },
  {
   "cell_type": "code",
   "execution_count": 29,
   "metadata": {},
   "outputs": [
    {
     "name": "stdout",
     "output_type": "stream",
     "text": [
      "20\n"
     ]
    }
   ],
   "source": [
    "lst = [1,9,7,8,2,5,11]\n",
    "max1 = max(lst)\n",
    "lst.remove(max1)\n",
    "max2 = max(lst)\n",
    "print(max1+max2)"
   ]
  },
  {
   "cell_type": "markdown",
   "metadata": {},
   "source": [
    "+ **tuple**"
   ]
  },
  {
   "cell_type": "code",
   "execution_count": null,
   "metadata": {},
   "outputs": [],
   "source": [
    "empty_tuple = ()\n",
    "print(empty_tuple)\n",
    "\n",
    "one_tuple = 'aaron',\n",
    "another_tuple = ('aaron2',)\n",
    "\n",
    "print(one_tuple)\n",
    "print(another_tuple)\n",
    "\n",
    "more_tuple = ('a', 'b', 'c')\n",
    "print(more_tuple)"
   ]
  },
  {
   "cell_type": "markdown",
   "metadata": {},
   "source": [
    "* **tuple unpacking**\n",
    " - 튜플의 값을 차례대로 변수에 대입"
   ]
  },
  {
   "cell_type": "code",
   "execution_count": null,
   "metadata": {},
   "outputs": [],
   "source": [
    "a, b, c = 1, 2, 3\n",
    "print(a, b, c)\n",
    "\n",
    "\n",
    "a = 5\n",
    "b = 4\n",
    "\n",
    "a = 4\n",
    "b = 5"
   ]
  },
  {
   "cell_type": "markdown",
   "metadata": {},
   "source": [
    "* **quiz2)** a와 b의 값을 교환하시오"
   ]
  },
  {
   "cell_type": "code",
   "execution_count": null,
   "metadata": {},
   "outputs": [],
   "source": [
    "a = 10\n",
    "b = 20"
   ]
  },
  {
   "cell_type": "markdown",
   "metadata": {},
   "source": [
    "* **tuple()**\n",
    " + 다른 객체를 튜플로 변경"
   ]
  },
  {
   "cell_type": "code",
   "execution_count": null,
   "metadata": {},
   "outputs": [],
   "source": [
    "print(tuple([1, 2, 3, 4])\n",
    "print tuple('1234')"
   ]
  },
  {
   "cell_type": "markdown",
   "metadata": {},
   "source": [
    "+ **why tuple?**\n",
    "1. 더 적은 메모리 사용\n",
    "2. immutable(불변)이기 때문에, 실수로 값이 바뀌지 않음 등등"
   ]
  },
  {
   "cell_type": "markdown",
   "metadata": {},
   "source": [
    "* tuple 연습문제\n",
    "\n",
    " 1. 임의의 이메일 주소를 받아서 사용자 아이다와 도메인을 각각 추출 후, 출력하시오\n",
    "e.g) apple@google.com을 사용자명(apple)과 도메인(google.com)으로 분리"
   ]
  },
  {
   "cell_type": "code",
   "execution_count": null,
   "metadata": {},
   "outputs": [],
   "source": [
    "a = 'macmath22@gmail.com'"
   ]
  },
  {
   "cell_type": "markdown",
   "metadata": {},
   "source": [
    "* **dictionary**\n",
    " + 키와 값을 갖는 data structure\n",
    " + 키는 해쉬값으로 저장됨 \n",
    "  - 해당 키에 따른 값에 접근 시, O(1) 시간으로 접근\n",
    " + 순서를 따지지 않음. 즉, 인덱스가 없음"
   ]
  },
  {
   "cell_type": "code",
   "execution_count": null,
   "metadata": {},
   "outputs": [],
   "source": [
    "empty_dict = {}\n",
    "print(empty_dict)\n",
    "\n",
    "dict1 = {'python' : 'best', 'java' : 'good', 'c++' : 'better'}\n",
    "print(dict1)"
   ]
  },
  {
   "cell_type": "code",
   "execution_count": null,
   "metadata": {},
   "outputs": [],
   "source": [
    "dict2 = {}\n",
    "\n",
    "dict2['python'] = 'best'\n",
    "dict2['java'] = 'good'\n",
    "dict2['python'] = 'best222'\n",
    "\n",
    "print(dict2)"
   ]
  },
  {
   "cell_type": "markdown",
   "metadata": {},
   "source": [
    "* **dict()**\n",
    " + dictionary로 변환.\n",
    " + 두값으로 이루어진 시퀀스를 변환 가능. 첫번째 항목이 key, 두번째 항목이 value로 사용됨\n",
    " "
   ]
  },
  {
   "cell_type": "code",
   "execution_count": null,
   "metadata": {},
   "outputs": [],
   "source": [
    "a = [[1, 2], [2, 3], [3, 6]]\n",
    "print(dict(a))\n",
    "\n",
    "a = [(1, 2), (2, 3), (3, 6)]\n",
    "print(dict(a))\n",
    "\n",
    "a = ((1, 2), (2, 3), (3, 6))\n",
    "print(dict(a))"
   ]
  },
  {
   "cell_type": "markdown",
   "metadata": {},
   "source": [
    "+ **항목 추가 및 변경**\n",
    " - 기존에 키가 존재 하면, 새로운 값으로 업데이트\n",
    " - 존재하지 않으면, 새로운 키, 값 생성"
   ]
  },
  {
   "cell_type": "code",
   "execution_count": null,
   "metadata": {},
   "outputs": [],
   "source": [
    "dict1 = {'python' : 'best', 'java' : 'good', 'c++' : 'better'}\n",
    "dict1['go'] = 'gogogo'\n",
    "dict1['java'] = 'soso'\n",
    "\n",
    "dict1"
   ]
  },
  {
   "cell_type": "markdown",
   "metadata": {},
   "source": [
    "+ **update()**\n",
    " * 두 딕셔너리를 병합함\n",
    " * 겹치는 키가 있다면 parameter로 전달되는 키 값이 overwrite된다."
   ]
  },
  {
   "cell_type": "code",
   "execution_count": null,
   "metadata": {},
   "outputs": [],
   "source": [
    "dict1 = {'python' : 'best', 'java' : 'good', 'c++' : 'better'}\n",
    "dict2 = {'ruby' : 'elegant', 'javascript' : 'too much', 'java' : 'soso'}\n",
    "\n",
    "dict1.update(dict2)\n",
    "print(dict1)\n",
    "print(dict2)"
   ]
  },
  {
   "cell_type": "markdown",
   "metadata": {},
   "source": [
    "* **key삭제**\n",
    " - del 키워드 사용"
   ]
  },
  {
   "cell_type": "code",
   "execution_count": null,
   "metadata": {},
   "outputs": [],
   "source": [
    "del dict1['java']\n",
    "del dict1['jasa']"
   ]
  },
  {
   "cell_type": "markdown",
   "metadata": {},
   "source": [
    "* **clear()**\n",
    " + 딕셔너리의 모든 값을 초기화\n"
   ]
  },
  {
   "cell_type": "code",
   "execution_count": null,
   "metadata": {},
   "outputs": [],
   "source": [
    "a = {1 : 2, 2: 4, 4 : 5}\n",
    "print(a)\n",
    "\n",
    "a.clear()\n",
    "\n",
    "print(a)"
   ]
  },
  {
   "cell_type": "markdown",
   "metadata": {},
   "source": [
    "* **in**\n",
    " + key값 존재 확인\n",
    " + O(1) 연산"
   ]
  },
  {
   "cell_type": "code",
   "execution_count": null,
   "metadata": {},
   "outputs": [],
   "source": [
    "a = {'1' : 2, '2': 4, '4' : 5}\n",
    "print(1 in a)\n",
    "print(a['1'])\n",
    "print(a[1])"
   ]
  },
  {
   "cell_type": "markdown",
   "metadata": {},
   "source": [
    "* **value access**\n",
    " + dict[key]로 접급, 키가 없는 경우 에러 발생 \n",
    " + .get() 함수로 접근, 키가 없는 경우 None반환"
   ]
  },
  {
   "cell_type": "code",
   "execution_count": null,
   "metadata": {},
   "outputs": [],
   "source": [
    "a = {'1' : 2, '2': 4, '4' : 5}\n",
    "\n",
    "print(a['1'])\n",
    "print(a['3'])"
   ]
  },
  {
   "cell_type": "code",
   "execution_count": null,
   "metadata": {},
   "outputs": [],
   "source": [
    "print(a.get('1'))\n",
    "\n",
    "print(a.get('3', 'default'))\n",
    "print(a.get('3'))"
   ]
  },
  {
   "cell_type": "markdown",
   "metadata": {},
   "source": [
    "* **모든 keys, values 접근**\n",
    " + keys()\n",
    " + values()\n",
    "* **key-value 튜플 리스트로 반환**\n",
    " + items()"
   ]
  },
  {
   "cell_type": "code",
   "execution_count": null,
   "metadata": {},
   "outputs": [],
   "source": [
    "signals = {'green' : 'fly', 'yellow' : 'go faster', 'red' : 'stop'}\n",
    "\n",
    "keys = signals.keys()\n",
    "values = signals.values()\n",
    "\n",
    "print(keys)\n",
    "print(values)"
   ]
  },
  {
   "cell_type": "code",
   "execution_count": null,
   "metadata": {},
   "outputs": [],
   "source": [
    "signals.items()"
   ]
  },
  {
   "cell_type": "markdown",
   "metadata": {},
   "source": [
    "* **dictionary 연습문제**\n",
    " 1. a = {11 : 3, 4 : 9, 14 : 22, 21 : 20, 5 : 8, 2 : 23} 에서 키의 최소값에 대응하는 값과, 키의 최대값에 대응하는 값을 출력하시오\n",
    " 2. 주어진 dictionary를 가지고, 다음 문장을 번역 하시오. translator = {'This' : 'Este', 'is' : 'es', 'python' : 'piton'}\n",
    "\n",
    "    \"This is python\"  "
   ]
  },
  {
   "cell_type": "code",
   "execution_count": null,
   "metadata": {},
   "outputs": [],
   "source": []
  },
  {
   "cell_type": "code",
   "execution_count": null,
   "metadata": {},
   "outputs": [],
   "source": [
    "translator = {'This' : 'Este', 'is' : 'es', 'python' : 'piton'}\n",
    "\n",
    "str1 = 'This is python'"
   ]
  },
  {
   "cell_type": "markdown",
   "metadata": {},
   "source": [
    "* **set**\n",
    " + dictionary에서 key만 남은 케이스\n",
    " + 수학에서의 집합과 동일함"
   ]
  },
  {
   "cell_type": "code",
   "execution_count": null,
   "metadata": {},
   "outputs": [],
   "source": [
    "empty_set = set()\n",
    "print(empty_set)\n",
    "\n",
    "even_nums = {2, 4, 6, 8}\n",
    "print(even_nums)\n",
    "\n",
    "odd_nums = {1, 3, 5, 7, 7, 9}\n",
    "print(odd_nums)"
   ]
  },
  {
   "cell_type": "markdown",
   "metadata": {},
   "source": [
    "* **set()으로 집합으로 변환**"
   ]
  },
  {
   "cell_type": "code",
   "execution_count": null,
   "metadata": {},
   "outputs": [],
   "source": [
    "print set('mississippi')\n",
    "print set([1, 2, 3, 1, 2, 3, 1, 3, 4])\n",
    "print set({1 : 2, 4 : 9, 3 : 8})\n",
    "\n",
    "\n",
    "a = [1, 2, 3, 1, 2, 3, 1, 3, 4]\n",
    "\n",
    "list(set(a))"
   ]
  },
  {
   "cell_type": "markdown",
   "metadata": {},
   "source": [
    "+ **set operations**\n",
    " - 수학 연산과 동일\n",
    " - 교집합, 합집합, 차집합 등 지원"
   ]
  },
  {
   "cell_type": "code",
   "execution_count": null,
   "metadata": {},
   "outputs": [],
   "source": [
    "a = {1, 2}\n",
    "b = {2, 3, 4}\n",
    "\n",
    "print(a.intersection(b))\n",
    "print(a & b)\n",
    "\n",
    "print(a.union(b))\n",
    "print(a | b)\n",
    "\n",
    "print(a.difference(b))\n",
    "print(a - b)\n",
    "\n",
    "print(a.symmetric_difference(b)) # 양쪽 모두에 들어있지 않은 멤버\n",
    "print(a ^ b)\n",
    "\n",
    "print(a.issubset(b))\n",
    "print(a <= b) #부분 집합\n"
   ]
  },
  {
   "cell_type": "markdown",
   "metadata": {},
   "source": [
    "* **set 연습문제**\n",
    " 1. 영어 수업을 듣는 학생 집합 : {'Aaron', 'Tracy', 'David', 'Grant', 'Michael', 'Tim'}\n",
    "    수학 수업을 듣는 학생 집합 : {'Aaron', 'David', 'Smith', 'Bill', 'Tim', 'Cathy', 'Carl'}\n",
    "    \n",
    "    이라고 할 때, 전체 학생 중 두과목 모두 듣는 학생의 비율은 얼마인가?"
   ]
  },
  {
   "cell_type": "code",
   "execution_count": null,
   "metadata": {},
   "outputs": [],
   "source": [
    "a = {'Aaron', 'Tracy', 'David', 'Grant', 'Michael', 'Tim'} \n",
    "b = {'Aaron', 'David', 'Smith', 'Bill', 'Tim', 'Cathy', 'Carl'}\n",
    "\n",
    "x = len(a & b)\n",
    "y = len(a | b)\n",
    "\n",
    "print(x / y)"
   ]
  },
  {
   "cell_type": "markdown",
   "metadata": {},
   "source": [
    "* **과제** \n",
    " 1. 14577을 소인수 분해 하시오.\n",
    " 2. 2^28와 근사값으로 계산한 2^28의 차이를 구하시오.\n",
    " 3. 다음과 같이 출력되도록 구구단 프로그램을 작성하시오.\n",
    "    \n",
    "> 2 * 1 = 2\n",
    "\n",
    "> 2 * 2 = 4\n",
    "\n",
    ">    ...\n",
    "\n",
    ">    3 * 1 = 3\n",
    "\n",
    ">    ...\n",
    "\n",
    ">    9 * 8 = 72\n",
    "\n",
    ">    9 * 9 = 81\n"
   ]
  }
 ],
 "metadata": {
  "kernelspec": {
   "display_name": "Python 3",
   "language": "python",
   "name": "python3"
  },
  "language_info": {
   "codemirror_mode": {
    "name": "ipython",
    "version": 3
   },
   "file_extension": ".py",
   "mimetype": "text/x-python",
   "name": "python",
   "nbconvert_exporter": "python",
   "pygments_lexer": "ipython3",
   "version": "3.6.1"
  }
 },
 "nbformat": 4,
 "nbformat_minor": 1
}

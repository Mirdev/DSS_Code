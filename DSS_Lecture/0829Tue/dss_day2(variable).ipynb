{
 "cells": [
  {
   "cell_type": "markdown",
   "metadata": {},
   "source": [
    "# Data Science & Python "
   ]
  },
  {
   "cell_type": "code",
   "execution_count": null,
   "metadata": {
    "collapsed": true
   },
   "outputs": [],
   "source": [
    "print 'Hello World'\n",
    "print 'Hello python'"
   ]
  },
  {
   "cell_type": "markdown",
   "metadata": {},
   "source": [
    "# Python language\n",
    "## introduction to python\n",
    "### variable\n",
    "\n",
    "* python language\n",
    "  * java language \n",
    "  * c++ \n",
    "  * c#\n",
    "* python 1\n",
    "* python 2"
   ]
  },
  {
   "cell_type": "markdown",
   "metadata": {},
   "source": [
    "#### Markdown practice"
   ]
  },
  {
   "cell_type": "markdown",
   "metadata": {},
   "source": [
    "# Hello markdown1\n",
    "## Hello markdown2\n",
    "### Hello markdown3\n",
    "#### Hello markdown4\n",
    "\n",
    "* python 2.7\n",
    "* python 3.5\n",
    "\n",
    "```python\n",
    "s = \"Python syntax highlighting\"\n",
    "print s\n",
    "def add(a, b):\n",
    "    return a + b\n",
    "```\n",
    "\n",
    "> Blockquotes starts\n",
    "> This line is part of the same quote.\n",
    "\n",
    "> Good\n",
    "\n",
    "\n",
    "This is *python*\n",
    "\n",
    "This is **python**\n",
    "\n",
    "This is python\n",
    "\n",
    "[python webpage](https://www.python.org)\n",
    "\n",
    "[google page](https://google.com)\n",
    "\n",
    "--- \n",
    " * 이것은 로컬 이미지\n",
    "![python image](python.png)\n",
    "\n",
    "---\n",
    " * 이것은 웹 이미지\n",
    "![python image2](https://www.raspberrypi.org/documentation/usage/python/images/python-logo.png)"
   ]
  },
  {
   "cell_type": "markdown",
   "metadata": {},
   "source": [
    "### Markdown\n",
    " - 문서의 구조와 내용을 한번에 정의 \n",
    " - 코드를 설명하거나 노트북 파일에 이론적 배경 설명을 위해 사용\n",
    " - [마크다운 참고 사이트](https://github.com/adam-p/markdown-here/wiki/Markdown-Cheatsheet)"
   ]
  },
  {
   "cell_type": "code",
   "execution_count": null,
   "metadata": {
    "collapsed": true
   },
   "outputs": [],
   "source": []
  },
  {
   "cell_type": "markdown",
   "metadata": {},
   "source": [
    "## Basic data type\n",
    "* variable declaration & value assignment (변수 선언 및 값 할당)"
   ]
  },
  {
   "cell_type": "markdown",
   "metadata": {},
   "source": [
    "##### = -> 대입 연산자,  == -> 비교 연산자 \n",
    " - 대입의 경우, 오른쪽의 수식이나 값을 evaluation(여기서는 계산이라는 의미로 사용) 한 뒤, \n",
    " - 왼쪽에 명시된 변수에 해당 값을 대입\n",
    " - 변수는 해당 값을 가지게 됨"
   ]
  },
  {
   "cell_type": "markdown",
   "metadata": {},
   "source": [
    "* **comment(주석)**\n",
    "  - 코드에서 #으로 시작하는 뒷 부분은 실행되지 않음\n",
    "  - python이 소스코드를 실행하면서 #를 만나면 무시\n",
    "  - 개발자(사람)가 보기 위한 용도로 사용"
   ]
  },
  {
   "cell_type": "code",
   "execution_count": 1,
   "metadata": {
    "collapsed": true
   },
   "outputs": [],
   "source": [
    "a = 10   # int\n",
    "b = 1000 # int\n",
    "c = 12.677 # float\n",
    "\n",
    "d = 'this is python' #문자열 string\n",
    "\n",
    "# print e\n",
    "e = True \n",
    "f = False # Boolean 주석\n",
    "\n",
    "g = 1.633e8 # 1.633 * 10^8을 의미"
   ]
  },
  {
   "cell_type": "markdown",
   "metadata": {},
   "source": [
    "* **print 함수**\n",
    "  - 해당 변수의 값을 출력\n",
    "  - , 로 여러 변수를 나열하면 한줄에 출력\n",
    "  - 기본적으로는 한칸 띄어쓰기 후 출력"
   ]
  },
  {
   "cell_type": "code",
   "execution_count": 4,
   "metadata": {},
   "outputs": [
    {
     "name": "stdout",
     "output_type": "stream",
     "text": [
      "10 , 1000 , 12.677 , this is python\n",
      "True\n",
      "False\n",
      "163300000.0\n"
     ]
    }
   ],
   "source": [
    "print(a, ',', b, ',', c, ',', d)\n",
    "print(e)\n",
    "print(f)\n",
    "print(g)"
   ]
  },
  {
   "cell_type": "markdown",
   "metadata": {},
   "source": [
    "* **print함수 설정**\n",
    " - sep : 구분자, 각 출력할 변수 사이에서 구별하는 역할을 함\n",
    " - end : 마지막에 출력할 문자열"
   ]
  },
  {
   "cell_type": "code",
   "execution_count": 7,
   "metadata": {},
   "outputs": [
    {
     "name": "stdout",
     "output_type": "stream",
     "text": [
      "10|1000|True|this is python?\n",
      "12.677\n"
     ]
    }
   ],
   "source": [
    "print(a, b, e, d, sep='|', end='?\\n')\n",
    "print(c)"
   ]
  },
  {
   "cell_type": "markdown",
   "metadata": {},
   "source": [
    "* **변수 값 확인법**\n",
    " - print() 함수 사용\n",
    " - 변수 값을 코드의 마지막에 위치 시킨 후 실행\n",
    "   - 이 경우 output으로 변수의 값이 출력"
   ]
  },
  {
   "cell_type": "code",
   "execution_count": 9,
   "metadata": {
    "collapsed": true
   },
   "outputs": [],
   "source": [
    "name = 'aaron'\n",
    "hobby = 'basketball'"
   ]
  },
  {
   "cell_type": "code",
   "execution_count": 11,
   "metadata": {},
   "outputs": [
    {
     "name": "stdout",
     "output_type": "stream",
     "text": [
      "aaron\n",
      "basketball\n"
     ]
    }
   ],
   "source": [
    "print(name)\n",
    "print(hobby)"
   ]
  },
  {
   "cell_type": "code",
   "execution_count": 13,
   "metadata": {},
   "outputs": [
    {
     "data": {
      "text/plain": [
       "'basketballteam'"
      ]
     },
     "execution_count": 13,
     "metadata": {},
     "output_type": "execute_result"
    }
   ],
   "source": [
    "name\n",
    "hobby + 'team'"
   ]
  },
  {
   "cell_type": "code",
   "execution_count": 14,
   "metadata": {},
   "outputs": [
    {
     "data": {
      "text/plain": [
       "int"
      ]
     },
     "execution_count": 14,
     "metadata": {},
     "output_type": "execute_result"
    }
   ],
   "source": [
    "type(a)"
   ]
  },
  {
   "cell_type": "markdown",
   "metadata": {},
   "source": [
    "* **variable naming (변수 이름 규칙)**\n",
    "  - 숫자로 시작하는 이름을 제외하고 영문 대소문자, _, 숫자로 구성가능 \n",
    "  - 아래의 예제는 모두 valid한 변수 이름\n",
    "  - 일반적으로 해당 변수를 표현하고자 하는 정확하고 간결한 이름을 사용하는 것이 원칙\n",
    "    - 코드를 읽은 것을 더 쉽게 할 수 있음\n",
    "    - e.g) a = 1000의 경우보다 **student_num = 1000**로 명시한 것이 변수에 대한 이해가 빠름"
   ]
  },
  {
   "cell_type": "code",
   "execution_count": 15,
   "metadata": {},
   "outputs": [
    {
     "name": "stdout",
     "output_type": "stream",
     "text": [
      "한글\n"
     ]
    }
   ],
   "source": [
    "a = 4\n",
    "a1 = 5\n",
    "a_123 = 4545\n",
    "ABC = 'ABC'\n",
    "_124 = 'string'\n",
    "_abc = 'abc'\n",
    "한글 = \"한글\"\n",
    "\n",
    "student_number = 0\n",
    "print(한글)"
   ]
  },
  {
   "cell_type": "markdown",
   "metadata": {},
   "source": [
    "* **invalid한 변수 이름의 예**\n",
    " - 숫자로 시작하면 안되는 이유는?"
   ]
  },
  {
   "cell_type": "code",
   "execution_count": null,
   "metadata": {
    "collapsed": true
   },
   "outputs": [],
   "source": [
    "3_abc = 10\n",
    "3kbb = 11\n",
    "#3 = 3 => 3으로 시작할 수 있다면 3이란 변수도 만들 수 있다. 그러면 진짜 숫자랑도 헷갈리고 3=7같은 괴랄한 코드가 만들어 질 수 있다."
   ]
  },
  {
   "cell_type": "markdown",
   "metadata": {},
   "source": [
    "* **reserved keywords (예약어)**\n",
    "  - python에서 미리 선점하여 사용중인 용어\n",
    "  - 변수, 함수, 클래스 등등의 사용자 정의 이름으로 사용할 수 없음"
   ]
  },
  {
   "cell_type": "code",
   "execution_count": 17,
   "metadata": {},
   "outputs": [
    {
     "name": "stdout",
     "output_type": "stream",
     "text": [
      "3\n"
     ]
    }
   ],
   "source": [
    "class = 3\n",
    "return = 5\n",
    "for = 4 \n",
    "if = 5\n",
    "while = 0\n",
    "def = 11\n",
    "try = 12\n",
    "except = 13\n",
    "finally = 15\n",
    "with = 16"
   ]
  },
  {
   "cell_type": "code",
   "execution_count": 19,
   "metadata": {},
   "outputs": [
    {
     "ename": "TypeError",
     "evalue": "'int' object is not callable",
     "output_type": "error",
     "traceback": [
      "\u001b[0;31m---------------------------------------------------------------------------\u001b[0m",
      "\u001b[0;31mTypeError\u001b[0m                                 Traceback (most recent call last)",
      "\u001b[0;32m<ipython-input-19-d83e03cd0ef1>\u001b[0m in \u001b[0;36m<module>\u001b[0;34m()\u001b[0m\n\u001b[1;32m      1\u001b[0m \u001b[0;31m#내장함수는 초록색(예약어라도) 변수로 쓸 수 있는데, 이때는 내장함수를 쓰지 못한다.\u001b[0m\u001b[0;34m\u001b[0m\u001b[0;34m\u001b[0m\u001b[0m\n\u001b[1;32m      2\u001b[0m \u001b[0msum\u001b[0m \u001b[0;34m=\u001b[0m \u001b[0;36m10\u001b[0m\u001b[0;34m\u001b[0m\u001b[0m\n\u001b[0;32m----> 3\u001b[0;31m \u001b[0msum\u001b[0m\u001b[0;34m(\u001b[0m\u001b[0;34m[\u001b[0m\u001b[0;36m1\u001b[0m\u001b[0;34m,\u001b[0m\u001b[0;36m2\u001b[0m\u001b[0;34m,\u001b[0m\u001b[0;36m3\u001b[0m\u001b[0;34m,\u001b[0m\u001b[0;36m4\u001b[0m\u001b[0;34m]\u001b[0m\u001b[0;34m)\u001b[0m\u001b[0;34m\u001b[0m\u001b[0m\n\u001b[0m",
      "\u001b[0;31mTypeError\u001b[0m: 'int' object is not callable"
     ]
    }
   ],
   "source": [
    "#내장함수는 초록색(내장함수(예약어)라도)이어도 변수로 쓸 수 있는데(키워드는 아니다), 이때는 내장함수를 쓰지 못한다.\n",
    "sum = 10\n",
    "sum([1,2,3,4])"
   ]
  },
  {
   "cell_type": "markdown",
   "metadata": {},
   "source": [
    "* **check variable type (변수 타입) **\n",
    "  - 정수 (int)\n",
    "  - 실수 (float)\n",
    "  - 문자열 (str)\n",
    "  - 불리언 (boolean)"
   ]
  },
  {
   "cell_type": "code",
   "execution_count": 20,
   "metadata": {},
   "outputs": [
    {
     "name": "stdout",
     "output_type": "stream",
     "text": [
      "4\n",
      "<class 'int'>\n",
      "\n",
      "12.677\n",
      "<class 'float'>\n",
      "\n",
      "this is python\n",
      "<class 'str'>\n",
      "\n",
      "True\n",
      "<class 'bool'>\n",
      "\n"
     ]
    }
   ],
   "source": [
    "print(a)\n",
    "print(type(a))\n",
    "print()\n",
    "\n",
    "print(c)\n",
    "print(type(c))\n",
    "print()\n",
    "\n",
    "print(d)\n",
    "print(type(d))\n",
    "print()\n",
    "\n",
    "print(e)\n",
    "print(type(e))\n",
    "print()"
   ]
  },
  {
   "cell_type": "markdown",
   "metadata": {},
   "source": [
    "* **None**\n",
    " - 아무런 값을 갖지 않을 때 사용\n",
    " - 일반적으로 변수가 초기값을 갖지 않게 하여 해당 변수를 생성할 때 사용\n",
    " - 기타 언어의 NULL, nil등과 같은 의미로 사용"
   ]
  },
  {
   "cell_type": "code",
   "execution_count": 24,
   "metadata": {},
   "outputs": [
    {
     "name": "stdout",
     "output_type": "stream",
     "text": [
      "None\n"
     ]
    },
    {
     "data": {
      "text/plain": [
       "NoneType"
      ]
     },
     "execution_count": 24,
     "metadata": {},
     "output_type": "execute_result"
    }
   ],
   "source": [
    "a = None\n",
    "print(a)\n",
    "type(a)"
   ]
  },
  {
   "cell_type": "markdown",
   "metadata": {},
   "source": [
    "* **comparison operator(비교 연산자)** \n",
    "  - 프로그래밍에서는 비교를 할 경우, = 대신 **==**를 사용\n",
    "  - <, > (크기 비교에서 사용가능)\n",
    "  - <=, >= (작거나 같음, 크거나 같음)\n",
    "  - 비교 연산자의 결과는 불리언(참, 거짓) 타입"
   ]
  },
  {
   "cell_type": "code",
   "execution_count": 25,
   "metadata": {},
   "outputs": [
    {
     "name": "stdout",
     "output_type": "stream",
     "text": [
      "True\n",
      "True\n",
      "True\n",
      "False\n",
      "False\n",
      "True\n"
     ]
    }
   ],
   "source": [
    "print(5 > 3)\n",
    "print(5 == 3 + 2)\n",
    "print(3 >= 2)\n",
    "\n",
    "print(2 ** 20 == 10  ** 6)\n",
    "\n",
    "a = 10\n",
    "b = 20\n",
    "\n",
    "c = a == b\n",
    "print(c)\n",
    "\n",
    "c = a!= b\n",
    "print(c)"
   ]
  },
  {
   "cell_type": "markdown",
   "metadata": {},
   "source": [
    "* **numbers (숫자형 타입)**\n",
    " - 정수, 실수로 구성\n",
    " - 수학의 기본 연산자(가감승제) 사용 가능"
   ]
  },
  {
   "cell_type": "code",
   "execution_count": 26,
   "metadata": {},
   "outputs": [
    {
     "name": "stdout",
     "output_type": "stream",
     "text": [
      "22\n",
      "12\n",
      "85\n",
      "3.4\n",
      "3\n",
      "2\n",
      "64\n"
     ]
    }
   ],
   "source": [
    "print(17 + 5) # 덧셈\n",
    "print(17 - 5) # 뺄셈\n",
    "print(17 * 5) # 곱셈\n",
    "\n",
    "print(17 / 5)  # 나눗셈\n",
    "print(17 // 5) # 나눗셈(몫만 출력)\n",
    "print(17 % 5) # 나머지\n",
    "\n",
    "print(4 ** 3) # power"
   ]
  },
  {
   "cell_type": "markdown",
   "metadata": {},
   "source": [
    "* **operation on variable(변수 연산)**\n",
    " - 위의 예처럼, 상수(constant)가 아닌 변수에 값을 대입하여 해당 변수를 가지고 연산 가능"
   ]
  },
  {
   "cell_type": "code",
   "execution_count": 33,
   "metadata": {},
   "outputs": [
    {
     "name": "stdout",
     "output_type": "stream",
     "text": [
      "-286\n",
      "-11\n",
      "350\n",
      "0.56\n",
      "0\n",
      "14\n"
     ]
    }
   ],
   "source": [
    "a = 14\n",
    "b = 25\n",
    "\n",
    "print(a + b + b - a * b)\n",
    "print(a - b)\n",
    "print(a * b)\n",
    "print(a / b)\n",
    "print(a // b)\n",
    "print(a % b)"
   ]
  },
  {
   "cell_type": "markdown",
   "metadata": {},
   "source": [
    "* **shift operator(쉬프트 연산자)** \n",
    " - 비트를 왼쪽 혹은 오른쪽으로 이동"
   ]
  },
  {
   "cell_type": "code",
   "execution_count": 28,
   "metadata": {},
   "outputs": [
    {
     "data": {
      "text/plain": [
       "8"
      ]
     },
     "execution_count": 28,
     "metadata": {},
     "output_type": "execute_result"
    }
   ],
   "source": [
    "1 << 3"
   ]
  },
  {
   "cell_type": "code",
   "execution_count": 29,
   "metadata": {},
   "outputs": [
    {
     "data": {
      "text/plain": [
       "3"
      ]
     },
     "execution_count": 29,
     "metadata": {},
     "output_type": "execute_result"
    }
   ],
   "source": [
    "14 >> 2"
   ]
  },
  {
   "cell_type": "markdown",
   "metadata": {},
   "source": [
    "* **연습문제**\n",
    " 1. 아래 연산의 결과는?\n",
    " 2. 2^32을 각각 시프트 연산자와 거듭제곱 연산자를 사용하여 계산하시오\n"
   ]
  },
  {
   "cell_type": "code",
   "execution_count": 34,
   "metadata": {},
   "outputs": [
    {
     "ename": "ZeroDivisionError",
     "evalue": "division by zero",
     "output_type": "error",
     "traceback": [
      "\u001b[0;31m---------------------------------------------------------------------------\u001b[0m",
      "\u001b[0;31mZeroDivisionError\u001b[0m                         Traceback (most recent call last)",
      "\u001b[0;32m<ipython-input-34-15830f8ca464>\u001b[0m in \u001b[0;36m<module>\u001b[0;34m()\u001b[0m\n\u001b[1;32m      1\u001b[0m \u001b[0ma\u001b[0m \u001b[0;34m=\u001b[0m \u001b[0;36m0\u001b[0m\u001b[0;34m\u001b[0m\u001b[0m\n\u001b[0;32m----> 2\u001b[0;31m \u001b[0mprint\u001b[0m\u001b[0;34m(\u001b[0m\u001b[0;36m5\u001b[0m \u001b[0;34m/\u001b[0m \u001b[0ma\u001b[0m\u001b[0;34m)\u001b[0m\u001b[0;34m\u001b[0m\u001b[0m\n\u001b[0m",
      "\u001b[0;31mZeroDivisionError\u001b[0m: division by zero"
     ]
    }
   ],
   "source": [
    "a = 0\n",
    "print(5 / a)"
   ]
  },
  {
   "cell_type": "code",
   "execution_count": 36,
   "metadata": {},
   "outputs": [
    {
     "data": {
      "text/plain": [
       "4294967296"
      ]
     },
     "execution_count": 36,
     "metadata": {},
     "output_type": "execute_result"
    }
   ],
   "source": [
    "2 ** 32"
   ]
  },
  {
   "cell_type": "code",
   "execution_count": 35,
   "metadata": {},
   "outputs": [
    {
     "data": {
      "text/plain": [
       "4294967296"
      ]
     },
     "execution_count": 35,
     "metadata": {},
     "output_type": "execute_result"
    }
   ],
   "source": [
    "1 << 32"
   ]
  },
  {
   "cell_type": "markdown",
   "metadata": {},
   "source": [
    "* **operator priorities (연산자 우선순위)**\n",
    "  - 기본적인 수학의 연산자와 동일\n",
    "  - 강제로 연산을 선수하기 위해선, 괄호()를 사용"
   ]
  },
  {
   "cell_type": "code",
   "execution_count": 37,
   "metadata": {},
   "outputs": [
    {
     "name": "stdout",
     "output_type": "stream",
     "text": [
      "23\n",
      "32\n"
     ]
    }
   ],
   "source": [
    "print (3 + 5 * 4)\n",
    "print ((3 + 5) * 4)"
   ]
  },
  {
   "cell_type": "markdown",
   "metadata": {},
   "source": [
    "*  **연습문제** 다음의 각 a값을 출력 했을 때 결과는? \n"
   ]
  },
  {
   "cell_type": "code",
   "execution_count": 38,
   "metadata": {},
   "outputs": [
    {
     "name": "stdout",
     "output_type": "stream",
     "text": [
      "9\n",
      "6\n",
      "9\n"
     ]
    }
   ],
   "source": [
    "a = 9\n",
    "print (a)\n",
    "print (a - 3)\n",
    "print (a)"
   ]
  },
  {
   "cell_type": "markdown",
   "metadata": {},
   "source": [
    "* **expression evaluation & assignment (식평가 & 대입)**"
   ]
  },
  {
   "cell_type": "code",
   "execution_count": null,
   "metadata": {
    "collapsed": true
   },
   "outputs": [],
   "source": [
    "a = 9\n",
    "temp = a - 3\n",
    "a = temp # 대입 발생\n",
    "a"
   ]
  },
  {
   "cell_type": "code",
   "execution_count": null,
   "metadata": {
    "collapsed": true
   },
   "outputs": [],
   "source": [
    "a = 9\n",
    "a = a - 3\n",
    "a"
   ]
  },
  {
   "cell_type": "code",
   "execution_count": null,
   "metadata": {
    "collapsed": true
   },
   "outputs": [],
   "source": [
    "a = 9\n",
    "a -= 3\n",
    "a"
   ]
  },
  {
   "cell_type": "code",
   "execution_count": null,
   "metadata": {
    "collapsed": true
   },
   "outputs": [],
   "source": [
    "a = 9\n",
    "#a = a - 3\n",
    "a -= 3\n",
    "a"
   ]
  },
  {
   "cell_type": "code",
   "execution_count": 39,
   "metadata": {},
   "outputs": [
    {
     "name": "stdout",
     "output_type": "stream",
     "text": [
      "20\n",
      "8000\n",
      "8040\n"
     ]
    }
   ],
   "source": [
    "a = 10\n",
    "a *= 2\n",
    "print(a)\n",
    "\n",
    "a **= 3\n",
    "print(a)\n",
    "\n",
    "a += 10 + 30\n",
    "print(a)\n"
   ]
  },
  {
   "cell_type": "markdown",
   "metadata": {},
   "source": [
    "* **연습문제**\n",
    "  1. 초기값 a 는 10 일 때, a에 2를 곱하여 다시 a에 저장한 뒤, 그것을 다시 3제곱 구하여 다시 a에 저장하시오\n",
    "  2. a와 b에 각각 30, 20이 저장되어 있습니다. 이것을 swap(서로 값을 교체) 하시오\n",
    "  3. 영희는 학교에서 집까지 걸어서 등교합니다. 학교에서 집까지의 거리가 2km, 걸리는 시간이 15분이라고 할때,\n",
    "  영희의 초속은(m/s)?"
   ]
  },
  {
   "cell_type": "code",
   "execution_count": 62,
   "metadata": {},
   "outputs": [
    {
     "name": "stdout",
     "output_type": "stream",
     "text": [
      "8000\n"
     ]
    }
   ],
   "source": [
    "a=10\n",
    "a*=2\n",
    "a**=3\n",
    "print(a)"
   ]
  },
  {
   "cell_type": "code",
   "execution_count": null,
   "metadata": {
    "collapsed": true
   },
   "outputs": [],
   "source": [
    "#locals() : 지금까지 사용한 모든 변수 출력\n",
    "#변수 앞 일부분 작성 후 tab키 누르면 변수들 목록 뜸"
   ]
  },
  {
   "cell_type": "code",
   "execution_count": 82,
   "metadata": {},
   "outputs": [
    {
     "name": "stdout",
     "output_type": "stream",
     "text": [
      "ori :\t 20 30\n",
      "2var :\t 30 20\n",
      "synt :\t 20 30\n",
      "tmp :\t 30 20\n",
      "tuple :\t 20 30\n"
     ]
    }
   ],
   "source": [
    "a=20;b=30\n",
    "print(\"ori :\\t\",a,b)\n",
    "\n",
    "a-=b\n",
    "b+=a\n",
    "a=b-a\n",
    "print(\"2var :\\t\",a,b)\n",
    "\n",
    "a, b = b, a\n",
    "print(\"synt :\\t\",a,b)\n",
    "\n",
    "tmp=a\n",
    "a=b\n",
    "b=tmp\n",
    "print(\"tmp :\\t\",a,b)\n",
    "\n",
    "swap = (a, b)\n",
    "swap = (b, a)\n",
    "print(\"tuple :\\t\",swap[0],swap[1])"
   ]
  },
  {
   "cell_type": "code",
   "execution_count": 40,
   "metadata": {},
   "outputs": [
    {
     "name": "stdout",
     "output_type": "stream",
     "text": [
      "2.2222222222222223\n"
     ]
    }
   ],
   "source": [
    "print(2*1000 / (15*60))"
   ]
  },
  {
   "cell_type": "markdown",
   "metadata": {},
   "source": [
    "* **type conversion (형변환)**\n",
    "  - 몇몇 타입끼리는 서로 변환이 가능함\n",
    "  - bool <-> int\n",
    "  - int <-> float\n",
    "  - int <-> string (일부 가능)"
   ]
  },
  {
   "cell_type": "code",
   "execution_count": 84,
   "metadata": {},
   "outputs": [
    {
     "name": "stdout",
     "output_type": "stream",
     "text": [
      "1\n",
      "0\n"
     ]
    }
   ],
   "source": [
    "print(int(True))\n",
    "print(int(False))"
   ]
  },
  {
   "cell_type": "code",
   "execution_count": 97,
   "metadata": {},
   "outputs": [
    {
     "name": "stdout",
     "output_type": "stream",
     "text": [
      "98\n",
      "-23\n",
      "98.0\n",
      "98\n"
     ]
    }
   ],
   "source": [
    "print(int(98.4432))\n",
    "print(int('-23'))\n",
    "\n",
    "print(float(98))\n",
    "print(str(98))\n",
    "\n",
    "#ord(variable) : ascii 값"
   ]
  },
  {
   "cell_type": "code",
   "execution_count": 86,
   "metadata": {},
   "outputs": [
    {
     "ename": "ValueError",
     "evalue": "invalid literal for int() with base 10: 'python'",
     "output_type": "error",
     "traceback": [
      "\u001b[0;31m---------------------------------------------------------------------------\u001b[0m",
      "\u001b[0;31mValueError\u001b[0m                                Traceback (most recent call last)",
      "\u001b[0;32m<ipython-input-86-d1168f7d9073>\u001b[0m in \u001b[0;36m<module>\u001b[0;34m()\u001b[0m\n\u001b[1;32m      1\u001b[0m \u001b[0;31m# 변환되지 않음\u001b[0m\u001b[0;34m\u001b[0m\u001b[0;34m\u001b[0m\u001b[0m\n\u001b[0;32m----> 2\u001b[0;31m \u001b[0mprint\u001b[0m\u001b[0;34m(\u001b[0m\u001b[0mint\u001b[0m\u001b[0;34m(\u001b[0m\u001b[0;34m'python'\u001b[0m\u001b[0;34m)\u001b[0m\u001b[0;34m)\u001b[0m\u001b[0;34m\u001b[0m\u001b[0m\n\u001b[0m",
      "\u001b[0;31mValueError\u001b[0m: invalid literal for int() with base 10: 'python'"
     ]
    }
   ],
   "source": [
    "# 변환되지 않음\n",
    "print(int('python'))"
   ]
  },
  {
   "cell_type": "markdown",
   "metadata": {},
   "source": [
    "* **package import (패키지 임포트)**\n",
    " - python에는 많은 package들이 존재\n",
    " - package를 사용하려면 코드에서 그것을 불러와야함(import)\n",
    " - import [모듈명] 로 불러오기 가능"
   ]
  },
  {
   "cell_type": "code",
   "execution_count": null,
   "metadata": {
    "collapsed": true
   },
   "outputs": [],
   "source": [
    "import math # math package"
   ]
  },
  {
   "cell_type": "code",
   "execution_count": 87,
   "metadata": {},
   "outputs": [
    {
     "name": "stdout",
     "output_type": "stream",
     "text": [
      "3.141592653589793\n",
      "2.718281828459045\n",
      "1.0\n"
     ]
    }
   ],
   "source": [
    "import math\n",
    "\n",
    "print(math.pi)\n",
    "print(math.e)\n",
    "\n",
    "print(math.log(math.e))"
   ]
  },
  {
   "cell_type": "code",
   "execution_count": 88,
   "metadata": {},
   "outputs": [
    {
     "data": {
      "text/plain": [
       "['__doc__',\n",
       " '__file__',\n",
       " '__loader__',\n",
       " '__name__',\n",
       " '__package__',\n",
       " '__spec__',\n",
       " 'acos',\n",
       " 'acosh',\n",
       " 'asin',\n",
       " 'asinh',\n",
       " 'atan',\n",
       " 'atan2',\n",
       " 'atanh',\n",
       " 'ceil',\n",
       " 'copysign',\n",
       " 'cos',\n",
       " 'cosh',\n",
       " 'degrees',\n",
       " 'e',\n",
       " 'erf',\n",
       " 'erfc',\n",
       " 'exp',\n",
       " 'expm1',\n",
       " 'fabs',\n",
       " 'factorial',\n",
       " 'floor',\n",
       " 'fmod',\n",
       " 'frexp',\n",
       " 'fsum',\n",
       " 'gamma',\n",
       " 'gcd',\n",
       " 'hypot',\n",
       " 'inf',\n",
       " 'isclose',\n",
       " 'isfinite',\n",
       " 'isinf',\n",
       " 'isnan',\n",
       " 'ldexp',\n",
       " 'lgamma',\n",
       " 'log',\n",
       " 'log10',\n",
       " 'log1p',\n",
       " 'log2',\n",
       " 'modf',\n",
       " 'nan',\n",
       " 'pi',\n",
       " 'pow',\n",
       " 'radians',\n",
       " 'sin',\n",
       " 'sinh',\n",
       " 'sqrt',\n",
       " 'tan',\n",
       " 'tanh',\n",
       " 'tau',\n",
       " 'trunc']"
      ]
     },
     "execution_count": 88,
     "metadata": {},
     "output_type": "execute_result"
    }
   ],
   "source": [
    "dir(math)"
   ]
  },
  {
   "cell_type": "markdown",
   "metadata": {},
   "source": [
    "* **string (문자열)**\n",
    " - 복수개의 문자를 순서대로 나열 한 것\n",
    " - 문자열은 '(작은따옴표) 혹은 \"(큰따옴표) 사이에 문자를 넣어서 생성\n",
    " - 문자열 자체에 ', \"가 있는 경우에는 각각 그 반대의 기호로 생성"
   ]
  },
  {
   "cell_type": "markdown",
   "metadata": {},
   "source": [
    "* **''' '''사용하여 표현 가능**\n",
    "  - 차이점 \n",
    "    - '', \"\" -> 한줄 문자열 표현\n",
    "    - ''' ''' -> 어려줄에 걸쳐 문자열 표현 가능"
   ]
  },
  {
   "cell_type": "code",
   "execution_count": null,
   "metadata": {
    "collapsed": true
   },
   "outputs": [],
   "source": [
    "print('python')\n",
    "\n",
    "print(\"python\")\n",
    "\n",
    "print(\"I'm a boy\")\n",
    "\n",
    "print('''python''')\n",
    "print(\"\"\"python\"\"\")"
   ]
  },
  {
   "cell_type": "code",
   "execution_count": 90,
   "metadata": {},
   "outputs": [
    {
     "data": {
      "text/plain": [
       "'i'"
      ]
     },
     "execution_count": 90,
     "metadata": {},
     "output_type": "execute_result"
    }
   ],
   "source": [
    "a = \"Hello Hi\"\n",
    "a[-1]"
   ]
  },
  {
   "cell_type": "code",
   "execution_count": 91,
   "metadata": {},
   "outputs": [
    {
     "data": {
      "text/plain": [
       "'This is a long string and enter is in it'"
      ]
     },
     "execution_count": 91,
     "metadata": {},
     "output_type": "execute_result"
    }
   ],
   "source": [
    "a = 'This is a long string \n",
    "and enter is in it'\n",
    "\n",
    "a"
   ]
  },
  {
   "cell_type": "code",
   "execution_count": 92,
   "metadata": {},
   "outputs": [
    {
     "name": "stdout",
     "output_type": "stream",
     "text": [
      "This is a \n",
      "long long string\n",
      "string string\n"
     ]
    }
   ],
   "source": [
    "a = '''This is a \n",
    "long long string\n",
    "string string'''\n",
    "\n",
    "print(a)"
   ]
  },
  {
   "cell_type": "markdown",
   "metadata": {},
   "source": [
    "* **string conversion (문자열 변환)**"
   ]
  },
  {
   "cell_type": "code",
   "execution_count": 95,
   "metadata": {
    "collapsed": true
   },
   "outputs": [],
   "source": [
    "del str #변수지우기"
   ]
  },
  {
   "cell_type": "code",
   "execution_count": 96,
   "metadata": {},
   "outputs": [
    {
     "name": "stdout",
     "output_type": "stream",
     "text": [
      "98.4 <class 'str'>\n"
     ]
    }
   ],
   "source": [
    "print (str(98.4), type(str(98.4)))"
   ]
  },
  {
   "cell_type": "markdown",
   "metadata": {},
   "source": [
    "#### escape string (이스케이프 문자)\n",
    "* 문자열내의 일부 문자의 의미를 달리하여 `특정한 효과`를 주는 것\n",
    "* `\\n` : new line `\\t` : tab 등등\n",
    "\n"
   ]
  },
  {
   "cell_type": "code",
   "execution_count": 99,
   "metadata": {},
   "outputs": [
    {
     "name": "stdout",
     "output_type": "stream",
     "text": [
      "The value is \t100\n",
      "This is python\n"
     ]
    }
   ],
   "source": [
    "a = 100\n",
    "str1 = 'The value is \\t100\\nThis is python'\n",
    "# r'The value is \\t100\\nThis is python' => 그냥 그대로 출력\n",
    "\n",
    "print (str1)"
   ]
  },
  {
   "cell_type": "code",
   "execution_count": null,
   "metadata": {
    "collapsed": true
   },
   "outputs": [],
   "source": [
    "print('Hello' + ' World')\n",
    "print(type('Hello'))"
   ]
  },
  {
   "cell_type": "markdown",
   "metadata": {},
   "source": [
    "* **연습문제** str2의 값은 무엇일까요?"
   ]
  },
  {
   "cell_type": "code",
   "execution_count": 102,
   "metadata": {},
   "outputs": [
    {
     "data": {
      "text/plain": [
       "'HaHaHaHaHo'"
      ]
     },
     "execution_count": 102,
     "metadata": {},
     "output_type": "execute_result"
    }
   ],
   "source": [
    "str2 = 'Ha' * 4 + 'Ho'\n",
    "str2"
   ]
  },
  {
   "cell_type": "code",
   "execution_count": 103,
   "metadata": {},
   "outputs": [
    {
     "name": "stdout",
     "output_type": "stream",
     "text": [
      "100\n",
      "-----\n",
      "20\n"
     ]
    }
   ],
   "source": [
    "print(a)\n",
    "print('-'*5)\n",
    "print(b)"
   ]
  },
  {
   "cell_type": "markdown",
   "metadata": {},
   "source": [
    "* **indexing & slicing string (문자열 인덱스 및 추출)**\n",
    "  - 문자열의 각 문자는 순서가 있음\n",
    "  - 이때 각 문자열의 순서를 **인덱스** 라고 함\n",
    "  - 첫번째 문자부터 마지막까지 차례대로의 순서를 가짐\n",
    "  - 첫번째 시작문자의 순서는 0으로 시작 (1이 아님)"
   ]
  },
  {
   "cell_type": "markdown",
   "metadata": {},
   "source": [
    "* **연습문제**\n",
    "문자열의 마지막 문자의 순서의 값은?"
   ]
  },
  {
   "cell_type": "code",
   "execution_count": 104,
   "metadata": {},
   "outputs": [
    {
     "name": "stdout",
     "output_type": "stream",
     "text": [
      "1\n",
      "b\n"
     ]
    }
   ],
   "source": [
    "a = '123456789abcd'\n",
    "\n",
    "print(a[0])\n",
    "print(a[10])"
   ]
  },
  {
   "cell_type": "markdown",
   "metadata": {},
   "source": [
    "* **-1 인덱스**\n",
    "  - 다른 언어와는 달리, python의 경우 음수 인덱스를 지원\n",
    "  - -1이 가장 마지막 인덱스를, -2가 마지막에서 두번째 인덱스를 의미..."
   ]
  },
  {
   "cell_type": "code",
   "execution_count": 105,
   "metadata": {},
   "outputs": [
    {
     "name": "stdout",
     "output_type": "stream",
     "text": [
      "d\n",
      "b\n"
     ]
    }
   ],
   "source": [
    "print(a[-1])\n",
    "print(a[-3])"
   ]
  },
  {
   "cell_type": "code",
   "execution_count": 111,
   "metadata": {},
   "outputs": [
    {
     "data": {
      "text/plain": [
       "'d'"
      ]
     },
     "execution_count": 111,
     "metadata": {},
     "output_type": "execute_result"
    }
   ],
   "source": [
    "del len\n",
    "a[len(a)-1]"
   ]
  },
  {
   "cell_type": "markdown",
   "metadata": {},
   "source": [
    "* **인덱스의 범위**\n",
    "  - 인덱스는 [0, 문자열의 길이) 의 범위만 유효\n",
    "  - 음수 인덱스를 사용할 경우, [-문자열의 길이, -1]\n",
    "  - 범위를 넘어갈 경우 에러 발생"
   ]
  },
  {
   "cell_type": "code",
   "execution_count": null,
   "metadata": {
    "collapsed": true
   },
   "outputs": [],
   "source": [
    "print(a[13])\n",
    "print(a[-14])"
   ]
  },
  {
   "cell_type": "markdown",
   "metadata": {},
   "source": [
    "* **문자열 slicing**\n",
    "  - 인덱스가 하나의 문자만을 추출한다면,\n",
    "  - slicing은 부분 문자열을 추출한다고 볼 수 있음\n",
    "  - [시작:끝]와 같이 명시하여 [시작, 끝)에 해당하는 부분 문자열을 추출\n",
    "  - 시작, 끝 인덱스가 생략이 되어 있다면, 0부터 혹은 끝까지로 간주"
   ]
  },
  {
   "cell_type": "code",
   "execution_count": 131,
   "metadata": {},
   "outputs": [
    {
     "name": "stdout",
     "output_type": "stream",
     "text": [
      "1\n",
      "456789abcd\n",
      "1234\n",
      "\n"
     ]
    },
    {
     "data": {
      "text/plain": [
       "'123456789abcd'"
      ]
     },
     "execution_count": 131,
     "metadata": {},
     "output_type": "execute_result"
    }
   ],
   "source": [
    "letters = '123456789abcd'\n",
    "\n",
    "print(letters[0:1])\n",
    "print(letters[3:])\n",
    "print(letters[:4])\n",
    "print(letters[0:0])\n",
    "\n",
    "letters"
   ]
  },
  {
   "cell_type": "markdown",
   "metadata": {},
   "source": [
    "* **문자열 함수**\n",
    "  - 문자열은 여러가지 기능 제공을 위한 함수를 내장\n",
    "  - 함수란 특정 기능을 하는 코드로 언제든지 호출하여 해당 기능을 사용 가능하도록 구성한 코드\n",
    "  - 추후에 함수에 대해 자세히 다룰 예정"
   ]
  },
  {
   "cell_type": "code",
   "execution_count": 134,
   "metadata": {},
   "outputs": [
    {
     "name": "stdout",
     "output_type": "stream",
     "text": [
      "5\n",
      "pello\n",
      "hello\n",
      "HELLO\n",
      "hello\n",
      "hello\n",
      "hello\n"
     ]
    }
   ],
   "source": [
    "a = \"hello\"\n",
    "print (len(a)) # 길이 반환\n",
    "\n",
    "print (a.replace('h', 'p')) # 문자 대체\n",
    "print(a)\n",
    "print (a.upper()) # 대문자 변환\n",
    "print(a)\n",
    "print (a.lower()) # 소문자 변환\n",
    "print(a)"
   ]
  },
  {
   "cell_type": "markdown",
   "metadata": {},
   "source": [
    "#### 연습문제\n",
    "1. 1주일은 몇초 입니까?\n",
    "2. 구구단 7단을 계산하여 답을 순서대로 출력하시오\n",
    "3. 1에서 11까지의 합을 구하시오\n",
    "4. 우사인 볼트는 100m를 9.5초에 뛰었습니다. 이때 우사인 볼트의 평균 시속은 몇km인가요?\n",
    "5. 반지름이 10cm인 원의 넓이와 둘레를 출력하세요. \n",
    "6. 3^70과 2^100 중 큰 수는?\n",
    "7. 2^20이 3^x 보다 크게 되기 위한 x의 최대값은?\n",
    "8. x^2 - 5x + 4의 해는 4또는 5입니다. 해가 맞는지 검증해보세요."
   ]
  },
  {
   "cell_type": "code",
   "execution_count": 135,
   "metadata": {},
   "outputs": [
    {
     "name": "stdout",
     "output_type": "stream",
     "text": [
      "Seconds in a week : 604800\n"
     ]
    }
   ],
   "source": [
    "print(\"Seconds in a week :\", 7*24*60*60)"
   ]
  },
  {
   "cell_type": "code",
   "execution_count": 136,
   "metadata": {},
   "outputs": [
    {
     "name": "stdout",
     "output_type": "stream",
     "text": [
      "1 x 7 = 7\n",
      "2 x 7 = 14\n",
      "3 x 7 = 21\n",
      "4 x 7 = 28\n",
      "5 x 7 = 35\n",
      "6 x 7 = 42\n",
      "7 x 7 = 49\n",
      "8 x 7 = 56\n",
      "9 x 7 = 63\n"
     ]
    }
   ],
   "source": [
    "print(\"1 x 7 =\", 1*7)\n",
    "print(\"2 x 7 =\", 2*7)\n",
    "print(\"3 x 7 =\", 3*7)\n",
    "print(\"4 x 7 =\", 4*7)\n",
    "print(\"5 x 7 =\", 5*7)\n",
    "print(\"6 x 7 =\", 6*7)\n",
    "print(\"7 x 7 =\", 7*7)\n",
    "print(\"8 x 7 =\", 8*7)\n",
    "print(\"9 x 7 =\", 9*7)"
   ]
  },
  {
   "cell_type": "code",
   "execution_count": 138,
   "metadata": {},
   "outputs": [
    {
     "name": "stdout",
     "output_type": "stream",
     "text": [
      "66\n",
      "66.0\n"
     ]
    }
   ],
   "source": [
    "print(1+2+3+4+5+6+7+8+9+10+11)\n",
    "print(11*(11+1)/2)"
   ]
  },
  {
   "cell_type": "code",
   "execution_count": 157,
   "metadata": {},
   "outputs": [
    {
     "name": "stdout",
     "output_type": "stream",
     "text": [
      "37.89473684210527\n",
      "37.89473684210527\n"
     ]
    }
   ],
   "source": [
    "print(100/1000/(9.5/3600))\n",
    "\n",
    "distance_km = 100/1000\n",
    "time_h = 9.5 / 3600\n",
    "print(distance_km/time_h)"
   ]
  },
  {
   "cell_type": "code",
   "execution_count": 160,
   "metadata": {},
   "outputs": [
    {
     "name": "stdout",
     "output_type": "stream",
     "text": [
      "area : 314.1592653589793 cm^2\n",
      "perimeter : 62.83185307179586 cm\n"
     ]
    }
   ],
   "source": [
    "print(\"area :\", math.pi*10**2,\"cm^2\")\n",
    "print(\"perimeter :\", math.pi*10*2,\"cm\")"
   ]
  },
  {
   "cell_type": "code",
   "execution_count": 146,
   "metadata": {},
   "outputs": [
    {
     "name": "stdout",
     "output_type": "stream",
     "text": [
      "3^70 is not smaller\n"
     ]
    }
   ],
   "source": [
    "print(\"3^70 is\", \"not\"*(3**70 > 2**100), \"smaller\")"
   ]
  },
  {
   "cell_type": "code",
   "execution_count": 152,
   "metadata": {},
   "outputs": [
    {
     "name": "stdout",
     "output_type": "stream",
     "text": [
      "1048576 1594323\n"
     ]
    }
   ],
   "source": [
    "print(2**20, 3**13) # x=>12"
   ]
  },
  {
   "cell_type": "code",
   "execution_count": 155,
   "metadata": {},
   "outputs": [
    {
     "name": "stdout",
     "output_type": "stream",
     "text": [
      "x^2-5x+4의 해는 4 이다. True\n",
      "x^2-5x+4의 해는 5 이다. False\n",
      "4.0 1.0\n"
     ]
    }
   ],
   "source": [
    "from math import sqrt\n",
    "print(\"x^2-5x+4의 해는 4 이다.\", 4**2-5*4+4==0)\n",
    "print(\"x^2-5x+4의 해는 5 이다.\", 5**2-5*5+5==0)\n",
    "sol1 = (5+sqrt(5**2-4*1*4))/(2*1)\n",
    "sol2 = (5-sqrt(5**2-4*1*4))/(2*1)\n",
    "print(sol1, sol2)"
   ]
  }
 ],
 "metadata": {
  "kernelspec": {
   "display_name": "Python 3",
   "language": "python",
   "name": "python3"
  },
  "language_info": {
   "codemirror_mode": {
    "name": "ipython",
    "version": 3
   },
   "file_extension": ".py",
   "mimetype": "text/x-python",
   "name": "python",
   "nbconvert_exporter": "python",
   "pygments_lexer": "ipython3",
   "version": "3.6.1"
  }
 },
 "nbformat": 4,
 "nbformat_minor": 1
}

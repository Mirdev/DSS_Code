{
 "cells": [
  {
   "cell_type": "markdown",
   "metadata": {},
   "source": [
    "1. 중고차의 연식, 주행거리, 제조사, 그 당시의 신차 출고가, 사고여부(Cri,Mil,0), 옵션(상중하)이 주어지면 해당 중고차의 가치를 추정한다.\n",
    "2. 사람 얼굴 사진이 주어지면 그 표정으로 감정을 파악한다\n",
    "3. **논문이 주어지면 그 내용을 요약한다**\n",
    "4. 몇가지 철자를 입력하면 그럴 듯한 이름(브랜드 네임 등)을 만들어준다\n",
    "5. 소비패턴을 분석하여 소비 성향과 성향군에 맞는 예산배정 및 실시간 관리를 해준다\n",
    "6. 하루 소비 시간을 입력하면(로깅) 이를 분석하여 시간사용 유형을 파악하고 연간 계획 및 기간별 계획을 입력하면 이를 기간별로 연간/월간/주간 계획을 세워준다\n",
    "7. 드론 자세제어 => 드론 시뮬레이터"
   ]
  },
  {
   "cell_type": "markdown",
   "metadata": {
    "collapsed": true
   },
   "source": [
    "1. 중고차의 연식, 주행거리, 제조사, 그 당시의 신차 출고가, 사고여부, 옵션 -> 중고차 가치\n",
    "2. 사진 -> 감정\n",
    "3. Abstract 제외한 논문 내용 -> Abstract"
   ]
  },
  {
   "cell_type": "markdown",
   "metadata": {},
   "source": [
    "1. 직접 각 파라미터에 해당하는 가중치를 입력해준다\n",
    "2. ???(사진 전처리 필요)\n",
    "3. 논문에서 가장 많이 쓰인 단어 몇개를 카운팅하여 출력한다"
   ]
  },
  {
   "cell_type": "markdown",
   "metadata": {},
   "source": [
    "1. 각 인스턴스와 값을 라벨링하여 데이터 셋을 10개 만든다(찾아보기)\n",
    "2. 사진과 감정을 라벨링 하여 데이터 셋을 10개 만든다(이미지 자르기)\n",
    "![face image1](http://static.wixstatic.com/media/da5ea6_394ce8b43efaf6cba738ccd78a6a2530.jpg_1024)\n",
    "![face image2](https://s-media-cache-ak0.pinimg.com/originals/48/92/04/489204129b8e6a65212ebeb700870543.jpg)\n",
    "![face image3](https://www.researchgate.net/profile/Marc_Pell/publication/7915420/figure/fig1/AS:277757704589316@1443234005306/Fig-1-Examples-of-emotional-expressions-and-facial-speech-stimuli-presented-in-face.png)\n",
    "3. 논문 10개 다운받고 abstract제거한 문서와 abstract만 따로 추출한 문서를 10개 만든다"
   ]
  },
  {
   "cell_type": "markdown",
   "metadata": {},
   "source": [
    "1. 연식은 올해를 기준으로 빼준다 : 연식-올해\n",
    "2. 눈동자, 입위치를 기준으로 삼아 눈썹, 눈꼬리, 입꼬리의 상대적인 위치를 전처리한다.\n",
    "3. 신경만 통역처럼 통으로 넣어서 통으로 리턴받고 싶다. (어떻게 해야 하나요?)"
   ]
  },
  {
   "cell_type": "markdown",
   "metadata": {},
   "source": [
    "1. 입력:숫자, 출력:숫자, 회귀분석\n",
    "2. 입력:카테고리, 출력:카테고리, 분류\n",
    "3. 입력:숫자?, 출력:숫자?, 회귀분석?"
   ]
  }
 ],
 "metadata": {
  "kernelspec": {
   "display_name": "Python 3",
   "language": "python",
   "name": "python3"
  },
  "language_info": {
   "codemirror_mode": {
    "name": "ipython",
    "version": 3
   },
   "file_extension": ".py",
   "mimetype": "text/x-python",
   "name": "python",
   "nbconvert_exporter": "python",
   "pygments_lexer": "ipython3",
   "version": "3.6.1"
  }
 },
 "nbformat": 4,
 "nbformat_minor": 2
}
